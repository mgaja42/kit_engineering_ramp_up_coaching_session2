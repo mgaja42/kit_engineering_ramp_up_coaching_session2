{
 "cells": [
  {
   "cell_type": "markdown",
   "metadata": {},
   "source": [
    "# Disaster Tweets"
   ]
  },
  {
   "cell_type": "markdown",
   "metadata": {},
   "source": [
    "> Twitter has become an important communication channel in times of emergency.\n",
    "> The ubiquitousness of smartphones enables people to announce an emergency they’re observing in real-time. Because of this, more agencies are interested in programatically monitoring Twitter (i.e. disaster relief organizations and news agencies).\n",
    "> \n",
    "> But, it’s not always clear whether a person’s words are actually announcing a disaster."
   ]
  },
  {
   "cell_type": "markdown",
   "metadata": {},
   "source": [
    "## Prerequisities"
   ]
  },
  {
   "cell_type": "code",
   "execution_count": null,
   "metadata": {
    "execution": {
     "iopub.execute_input": "2021-06-07T15:27:24.192228Z",
     "iopub.status.busy": "2021-06-07T15:27:24.191959Z",
     "iopub.status.idle": "2021-06-07T15:27:24.196295Z",
     "shell.execute_reply": "2021-06-07T15:27:24.195298Z",
     "shell.execute_reply.started": "2021-06-07T15:27:24.192205Z"
    }
   },
   "outputs": [],
   "source": [
    "import pandas as pd\n",
    "from pandas_profiling import ProfileReport\n",
    "import matplotlib.pyplot as plt\n",
    "import seaborn as sns"
   ]
  },
  {
   "cell_type": "markdown",
   "metadata": {},
   "source": [
    "## Data Investigation"
   ]
  },
  {
   "cell_type": "markdown",
   "metadata": {},
   "source": [
    "### Idea"
   ]
  },
  {
   "cell_type": "markdown",
   "metadata": {},
   "source": [
    "We want to start with getting an overview about our dataset:\n",
    "* Shape\n",
    "* Datatypes\n",
    "* Missing Values\n",
    "* Distributions\n",
    "* \"Dirty\" Data"
   ]
  },
  {
   "cell_type": "markdown",
   "metadata": {},
   "source": [
    "### Some first quick insights"
   ]
  },
  {
   "cell_type": "code",
   "execution_count": null,
   "metadata": {
    "execution": {
     "iopub.execute_input": "2021-06-07T15:27:27.68929Z",
     "iopub.status.busy": "2021-06-07T15:27:27.688997Z",
     "iopub.status.idle": "2021-06-07T15:27:27.735197Z",
     "shell.execute_reply": "2021-06-07T15:27:27.734391Z",
     "shell.execute_reply.started": "2021-06-07T15:27:27.689267Z"
    }
   },
   "outputs": [],
   "source": [
    "df = pd.read_csv('data/train.csv', index_col='id')\n",
    "df.info()"
   ]
  },
  {
   "cell_type": "code",
   "execution_count": null,
   "metadata": {
    "execution": {
     "iopub.execute_input": "2021-06-07T15:27:35.193295Z",
     "iopub.status.busy": "2021-06-07T15:27:35.192945Z",
     "iopub.status.idle": "2021-06-07T15:27:35.196683Z",
     "shell.execute_reply": "2021-06-07T15:27:35.196268Z",
     "shell.execute_reply.started": "2021-06-07T15:27:35.193272Z"
    }
   },
   "outputs": [],
   "source": [
    "df.shape"
   ]
  },
  {
   "cell_type": "markdown",
   "metadata": {},
   "source": [
    "**Which column has the most absolute number of missing values?**\n",
    "1. `keyword`\n",
    "2. `location`\n",
    "3. `text`\n",
    "4. `target`"
   ]
  },
  {
   "cell_type": "code",
   "execution_count": null,
   "metadata": {
    "execution": {
     "iopub.execute_input": "2021-06-07T15:27:35.20064Z",
     "iopub.status.busy": "2021-06-07T15:27:35.200306Z",
     "iopub.status.idle": "2021-06-07T15:27:35.216794Z",
     "shell.execute_reply": "2021-06-07T15:27:35.216352Z",
     "shell.execute_reply.started": "2021-06-07T15:27:35.200619Z"
    }
   },
   "outputs": [],
   "source": [
    "df.isnull().sum()"
   ]
  },
  {
   "cell_type": "markdown",
   "metadata": {},
   "source": [
    "### Examplary Samples"
   ]
  },
  {
   "cell_type": "code",
   "execution_count": null,
   "metadata": {
    "execution": {
     "iopub.execute_input": "2021-06-07T15:27:35.218304Z",
     "iopub.status.busy": "2021-06-07T15:27:35.217977Z",
     "iopub.status.idle": "2021-06-07T15:27:35.235155Z",
     "shell.execute_reply": "2021-06-07T15:27:35.234602Z",
     "shell.execute_reply.started": "2021-06-07T15:27:35.21828Z"
    }
   },
   "outputs": [],
   "source": [
    "with pd.option_context('display.max_colwidth', 400):\n",
    "    print(df.sample(5))"
   ]
  },
  {
   "cell_type": "markdown",
   "metadata": {},
   "source": [
    "**Numeric and Categorical Columns**\n",
    "\n",
    "Get column names of numerical and categorical columns."
   ]
  },
  {
   "cell_type": "code",
   "execution_count": null,
   "metadata": {
    "execution": {
     "iopub.execute_input": "2021-06-07T15:27:35.236793Z",
     "iopub.status.busy": "2021-06-07T15:27:35.236447Z",
     "iopub.status.idle": "2021-06-07T15:27:35.252132Z",
     "shell.execute_reply": "2021-06-07T15:27:35.251104Z",
     "shell.execute_reply.started": "2021-06-07T15:27:35.23676Z"
    }
   },
   "outputs": [],
   "source": [
    "cat_cols = list(df.select_dtypes(include='object').columns)\n",
    "num_cols = set(df.columns) - set(cat_cols)\n",
    "print(cat_cols)\n",
    "print(list(num_cols))"
   ]
  },
  {
   "cell_type": "markdown",
   "metadata": {},
   "source": [
    "### Pandas Profiling"
   ]
  },
  {
   "cell_type": "markdown",
   "metadata": {},
   "source": [
    "**Exercise 1**\n",
    "Pandas Profiling helps you a lot with data exploration. Take some time with you colleagues to take a look\n",
    "at the generated reported and gather insight about the data set."
   ]
  },
  {
   "cell_type": "code",
   "execution_count": null,
   "metadata": {
    "execution": {
     "iopub.execute_input": "2021-06-07T15:27:35.253624Z",
     "iopub.status.busy": "2021-06-07T15:27:35.253375Z",
     "iopub.status.idle": "2021-06-07T15:27:57.893242Z",
     "shell.execute_reply": "2021-06-07T15:27:57.892354Z",
     "shell.execute_reply.started": "2021-06-07T15:27:35.253599Z"
    }
   },
   "outputs": [],
   "source": [
    "profile = ProfileReport(df, title=\"Disaster Tweets Dataset - Uncleaned\", explorative=True)\n",
    "profile.to_file(\"report_uncleaned.html\")\n",
    "with pd.option_context('display.max_colwidth', 400):\n",
    "    profile.to_widgets()"
   ]
  },
  {
   "cell_type": "markdown",
   "metadata": {},
   "source": [
    "### Distribution of our target\n",
    "**Exercise 2** Check the taget distribution and make an appropriately\n",
    "labeled pie plot of the target. Also, display (print) a few tweets which\n",
    "correspond to a distaster and a few which correspond to no disaster."
   ]
  },
  {
   "cell_type": "code",
   "execution_count": null,
   "metadata": {
    "execution": {
     "iopub.execute_input": "2021-06-07T15:27:57.89471Z",
     "iopub.status.busy": "2021-06-07T15:27:57.894424Z",
     "iopub.status.idle": "2021-06-07T15:27:57.904072Z",
     "shell.execute_reply": "2021-06-07T15:27:57.902729Z",
     "shell.execute_reply.started": "2021-06-07T15:27:57.894681Z"
    }
   },
   "outputs": [],
   "source": [
    "# Your Solution Here"
   ]
  },
  {
   "cell_type": "markdown",
   "metadata": {},
   "source": [
    "### Closer look at the \"text\" column by target value"
   ]
  },
  {
   "cell_type": "code",
   "execution_count": null,
   "metadata": {
    "execution": {
     "iopub.execute_input": "2021-06-07T15:27:58.030186Z",
     "iopub.status.busy": "2021-06-07T15:27:58.02998Z",
     "iopub.status.idle": "2021-06-07T15:27:58.037961Z",
     "shell.execute_reply": "2021-06-07T15:27:58.036824Z",
     "shell.execute_reply.started": "2021-06-07T15:27:58.030162Z"
    }
   },
   "outputs": [],
   "source": [
    "# Your Solution Here"
   ]
  },
  {
   "cell_type": "markdown",
   "metadata": {},
   "source": [
    "**Why is it important that the target is equally distributed?**\n",
    "\n",
    "- for unbalanced datasets, the prediction of the model will most likely be biased towards the majority class. This is due to the fact that the model tries to minimize the training error on the entire training dataset. Each sample is equally important here. If the training data is unbalanced however, the majority class will come into play much more often.\n",
    "- one easily can be fooled looking at the accuracy metric only when evaluating the performance of our model: Think of a dataset about a very rare disease (0.001%), meaning we have 1 sample for the \"disease\" case, and 100000 - 1 samples for the \"non-disease\" case. Given we have a naive model that always predicts a \"non-disease\" target, this model will have a accuracy of 99.999%. Nonetheless, the model fails to correctly classify the \"disease\" cases (which to be fair is what our main intention ist). Therefore, we need to make sure to use other metrics like recall, precision, f1 when evaluating the performance on unbalanced datasets.\n",
    "\n",
    "Read more at https://medium.com/strands-tech-corner/unbalanced-datasets-what-to-do-144e0552d9cd and https://twitter.com/svpino/status/1357302018428256258?lang=en for more information."
   ]
  },
  {
   "cell_type": "markdown",
   "metadata": {},
   "source": [
    "### Word Clouds"
   ]
  },
  {
   "cell_type": "markdown",
   "metadata": {},
   "source": [
    "**Exercise 3**: Create a table with unique entries in the `keyword` column and their number counts for the case of  Disaster and no Disaster."
   ]
  },
  {
   "cell_type": "code",
   "execution_count": null,
   "metadata": {
    "execution": {
     "iopub.execute_input": "2021-06-07T15:27:58.076679Z",
     "iopub.status.busy": "2021-06-07T15:27:58.076354Z",
     "iopub.status.idle": "2021-06-07T15:27:58.094813Z",
     "shell.execute_reply": "2021-06-07T15:27:58.093951Z",
     "shell.execute_reply.started": "2021-06-07T15:27:58.076651Z"
    }
   },
   "outputs": [],
   "source": [
    "# Your Solution Here"
   ]
  },
  {
   "cell_type": "markdown",
   "metadata": {},
   "source": [
    "**Question**\n",
    "Does above result directly indicate that `derailment` is certain to be a good hint for a disaster?\n",
    "1. Yes\n",
    "2. No\n",
    "\n",
    "No, `derailment` is not certain to be a good hint for a disaster since we are only looking at absolute number counts. One should also take into account the fraction that the keyword `derailment` was of a `disaster` target."
   ]
  },
  {
   "cell_type": "markdown",
   "metadata": {},
   "source": [
    "**Creating a Wordcloud for the keywords associated with the label Disaster and no Disaster**"
   ]
  },
  {
   "cell_type": "code",
   "execution_count": null,
   "metadata": {
    "execution": {
     "iopub.execute_input": "2021-06-07T15:27:58.096312Z",
     "iopub.status.busy": "2021-06-07T15:27:58.09601Z",
     "iopub.status.idle": "2021-06-07T15:27:58.923481Z",
     "shell.execute_reply": "2021-06-07T15:27:58.922447Z",
     "shell.execute_reply.started": "2021-06-07T15:27:58.096285Z"
    }
   },
   "outputs": [],
   "source": [
    "from wordcloud import WordCloud\n",
    "\n",
    "wordcloud_nondisaster = WordCloud(max_font_size=40).generate_from_frequencies(keyword_count_nondisaster)\n",
    "wordcloud_disaster = WordCloud(max_font_size=40).generate_from_frequencies(keyword_count_disaster)\n",
    "\n",
    "plt.figure(figsize=(20, 20), dpi=100)\n",
    "plt.subplot(1,2,1)\n",
    "plt.imshow(wordcloud_nondisaster)\n",
    "plt.title('No Disaster')\n",
    "plt.axis(\"off\")\n",
    "plt.subplot(1,2,2)\n",
    "plt.imshow(wordcloud_disaster)\n",
    "plt.title('Disaster')\n",
    "plt.axis(\"off\")\n",
    "plt.show()"
   ]
  },
  {
   "cell_type": "markdown",
   "metadata": {},
   "source": [
    "### Target mean by Keyword"
   ]
  },
  {
   "cell_type": "markdown",
   "metadata": {},
   "source": [
    "**Exercise 4** Display an ordered list in the form of a plot of each keyword and the corresponding mean of target values associated with that keyword. \n",
    "\n",
    "Hints:\n",
    "- Use the groupby method of Pandas\n",
    "- Use barplot from Seaborn to display the results."
   ]
  },
  {
   "cell_type": "code",
   "execution_count": null,
   "metadata": {
    "_kg_hide-input": false,
    "execution": {
     "iopub.execute_input": "2021-06-07T15:27:58.958257Z",
     "iopub.status.busy": "2021-06-07T15:27:58.958026Z",
     "iopub.status.idle": "2021-06-07T15:27:58.981749Z",
     "shell.execute_reply": "2021-06-07T15:27:58.980707Z",
     "shell.execute_reply.started": "2021-06-07T15:27:58.958228Z"
    }
   },
   "outputs": [],
   "source": [
    "# Your Solution Here"
   ]
  },
  {
   "cell_type": "markdown",
   "metadata": {},
   "source": [
    "### Number of Target Values by Keyword\n",
    "\n",
    "**Exercise 5** Display for each keyword the number of times the target is a disaster or no disaster.\n",
    "\n",
    "Hint:\n",
    "- You can use countplot from Seaborn"
   ]
  },
  {
   "cell_type": "code",
   "execution_count": null,
   "metadata": {
    "execution": {
     "iopub.execute_input": "2021-06-07T15:28:02.031695Z",
     "iopub.status.busy": "2021-06-07T15:28:02.031417Z",
     "iopub.status.idle": "2021-06-07T15:28:05.455834Z",
     "shell.execute_reply": "2021-06-07T15:28:05.454807Z",
     "shell.execute_reply.started": "2021-06-07T15:28:02.031668Z"
    }
   },
   "outputs": [],
   "source": [
    "# Your Solution Here"
   ]
  },
  {
   "cell_type": "markdown",
   "metadata": {},
   "source": [
    "### Location influence"
   ]
  },
  {
   "cell_type": "markdown",
   "metadata": {},
   "source": [
    "**Discussion Point**\n",
    "\n",
    "Do you think that we should use the `location` column as a feature for our model?\n",
    "\n"
   ]
  },
  {
   "cell_type": "markdown",
   "metadata": {},
   "source": [
    "## Data Cleaning"
   ]
  },
  {
   "cell_type": "markdown",
   "metadata": {},
   "source": [
    "Now that we looked into our data, we need to clean it up next."
   ]
  },
  {
   "cell_type": "code",
   "execution_count": null,
   "metadata": {
    "execution": {
     "iopub.execute_input": "2021-06-07T15:28:05.532964Z",
     "iopub.status.busy": "2021-06-07T15:28:05.532682Z",
     "iopub.status.idle": "2021-06-07T15:28:05.566759Z",
     "shell.execute_reply": "2021-06-07T15:28:05.56574Z",
     "shell.execute_reply.started": "2021-06-07T15:28:05.532935Z"
    }
   },
   "outputs": [],
   "source": [
    "df = pd.read_csv('data/train.csv', index_col='id')"
   ]
  },
  {
   "cell_type": "markdown",
   "metadata": {},
   "source": [
    "**Exercise 6** Tasks:\n",
    "- Drop the location column\n",
    "- Check missing values and suggest a way to deal with them\n",
    "- Remove non alphanumeric entries from Keyword. Hint: you might find the \"str.isalpha()\" method useful and use regular expressions.\n",
    "- Remove duplicate whitespace characters"
   ]
  },
  {
   "cell_type": "code",
   "execution_count": null,
   "metadata": {},
   "outputs": [],
   "source": [
    "# Your Solution Here"
   ]
  },
  {
   "cell_type": "markdown",
   "metadata": {},
   "source": [
    "## Feature Engineering"
   ]
  },
  {
   "cell_type": "markdown",
   "metadata": {},
   "source": [
    "**Exercise 7** Find ways to add the following features to the dataset:\n",
    "- Feature to specify the number of words included in the text column\n",
    "- Feature to specify the number of characters in the text column\n",
    "- Feature to specify the average length of each word in the text column\n",
    "- Feature to specify the number of hashtags in the text column. Hint: use \"str.count()\"\n",
    "- Feature to specify the number of mentions \"@\" in the text column. Hint: use \"str.count()\"\n",
    "- Feature to specify the number of characters which are non alphanumeric in the text column. Hint: use \"str.count()\"\n"
   ]
  },
  {
   "cell_type": "markdown",
   "metadata": {},
   "source": [
    "### Look again at Pandas Profiling Output"
   ]
  },
  {
   "cell_type": "code",
   "execution_count": null,
   "metadata": {
    "execution": {
     "iopub.execute_input": "2021-06-07T15:28:05.845116Z",
     "iopub.status.busy": "2021-06-07T15:28:05.844927Z",
     "iopub.status.idle": "2021-06-07T15:28:41.652852Z",
     "shell.execute_reply": "2021-06-07T15:28:41.651824Z",
     "shell.execute_reply.started": "2021-06-07T15:28:05.845095Z"
    }
   },
   "outputs": [],
   "source": [
    "profile = ProfileReport(df, title=\"Disaster Tweets Dataset - Cleaned\", explorative=True)\n",
    "profile.to_file(\"report_cleaned.html\")\n",
    "profile.to_widgets()"
   ]
  },
  {
   "cell_type": "markdown",
   "metadata": {},
   "source": [
    "### Pairplot"
   ]
  },
  {
   "cell_type": "code",
   "execution_count": null,
   "metadata": {
    "execution": {
     "iopub.execute_input": "2021-06-07T15:28:41.654854Z",
     "iopub.status.busy": "2021-06-07T15:28:41.654523Z",
     "iopub.status.idle": "2021-06-07T15:28:44.988993Z",
     "shell.execute_reply": "2021-06-07T15:28:44.988504Z",
     "shell.execute_reply.started": "2021-06-07T15:28:41.65482Z"
    }
   },
   "outputs": [],
   "source": [
    "cols = ['text_num_words', 'text_num_hashtag', 'text_num_mentions', 'target']\n",
    "sns.pairplot(df[cols])\n",
    "plt.show()"
   ]
  },
  {
   "cell_type": "markdown",
   "metadata": {},
   "source": [
    "### Comparing distributions for target"
   ]
  },
  {
   "cell_type": "code",
   "execution_count": null,
   "metadata": {
    "execution": {
     "iopub.execute_input": "2021-06-07T15:43:15.273498Z",
     "iopub.status.busy": "2021-06-07T15:43:15.27319Z",
     "iopub.status.idle": "2021-06-07T15:43:21.9241Z",
     "shell.execute_reply": "2021-06-07T15:43:21.923227Z",
     "shell.execute_reply.started": "2021-06-07T15:43:15.273474Z"
    }
   },
   "outputs": [],
   "source": [
    "import math\n",
    "cols = [c for c in df.columns if 'text_' in c]\n",
    "plt.figure(figsize=(10, 15), dpi=100)\n",
    "layout_cols = 4\n",
    "layout_rows = len(cols)\n",
    "for i, c in enumerate(cols):\n",
    "    plt.subplot(layout_rows, layout_cols, layout_cols*i+1)\n",
    "    sns.histplot(data=df, x=c, hue='target', stat='probability', common_norm=False)\n",
    "    plt.grid()\n",
    "    plt.subplot(layout_rows, layout_cols, layout_cols*i+2)\n",
    "    sns.histplot(data=df, x=c, hue='target', stat='probability', cumulative=True, common_norm=False)\n",
    "    plt.grid()\n",
    "    plt.subplot(layout_rows, layout_cols, layout_cols*i+3)\n",
    "    sns.boxplot(data=df, y=c, x='target')\n",
    "    plt.grid()\n",
    "    plt.subplot(layout_rows, layout_cols, layout_cols*i+4)\n",
    "    sns.violinplot(data=df, y=c, x='target')\n",
    "    plt.grid()\n",
    "plt.tight_layout()"
   ]
  },
  {
   "attachments": {
    "c0f793b4-0199-48f6-b014-d946bd10234f.png": {
     "image/png": "[encoded data removed]"
    }
   },
   "cell_type": "markdown",
   "metadata": {},
   "source": [
    "**Question**\n",
    "\n",
    "![grafik.png](attachment:c0f793b4-0199-48f6-b014-d946bd10234f.png)\n",
    "\n",
    "For the `text_len` distribution, which first preporcessing step would make the most sense?\n",
    "1. Normalize the data using a Gaussian Distribution --> `StandardScaler`\n",
    "2. Rescale the values to be between 0 and 1 using min and max values --> `MinMaxScaler`\n",
    "3. Apply a log transformation --> `PowerTransformer`\n",
    "4. Remove outliers cutting off everything above and below 3 standard deviations\n",
    "\n",
    "Answer 3 or generally 4 is correct. Applying a `StandardScaler` as well as a `MinMaxScaler` works badly for skewed distributions. Additionally we do not have any severe outliers in this concrete example. Overall one should be aware of treating outliers as a first step before any normalization though.\n"
   ]
  },
  {
   "cell_type": "markdown",
   "metadata": {},
   "source": [
    "### Bag Of Words"
   ]
  },
  {
   "cell_type": "markdown",
   "metadata": {},
   "source": [
    "**Open Question**\n",
    "\n",
    "What are the possible downsides of a bag of words model?\n",
    "Please unmute yourself and share your thoughts.\n",
    "\n",
    "- high dimensional, sparse sentence vectors\n",
    "- No contextual information considered, just the notion of the presence of a word without any sense of place inside the sentence. Take the following two examples which would result in the same output vectors: \"I like cats and hate dogs\" and \"I hate cats and like dogs\". Clearly they are quite the opposite."
   ]
  },
  {
   "cell_type": "markdown",
   "metadata": {},
   "source": [
    "Since we are using a bag of words model, let's simply add the keyword to the text."
   ]
  },
  {
   "cell_type": "code",
   "execution_count": null,
   "metadata": {
    "execution": {
     "iopub.execute_input": "2021-06-07T15:28:51.474303Z",
     "iopub.status.busy": "2021-06-07T15:28:51.474016Z",
     "iopub.status.idle": "2021-06-07T15:28:51.483765Z",
     "shell.execute_reply": "2021-06-07T15:28:51.482201Z",
     "shell.execute_reply.started": "2021-06-07T15:28:51.474272Z"
    }
   },
   "outputs": [],
   "source": [
    "df['key_text'] = df['keyword'] + ' ' + df['text']"
   ]
  },
  {
   "cell_type": "code",
   "execution_count": null,
   "metadata": {
    "execution": {
     "iopub.execute_input": "2021-06-07T15:28:51.485172Z",
     "iopub.status.busy": "2021-06-07T15:28:51.484935Z",
     "iopub.status.idle": "2021-06-07T15:28:51.500022Z",
     "shell.execute_reply": "2021-06-07T15:28:51.499109Z",
     "shell.execute_reply.started": "2021-06-07T15:28:51.48515Z"
    }
   },
   "outputs": [],
   "source": [
    "df['key_text']"
   ]
  },
  {
   "cell_type": "markdown",
   "metadata": {},
   "source": [
    "Let's split the data into train and val."
   ]
  },
  {
   "cell_type": "code",
   "execution_count": null,
   "metadata": {
    "execution": {
     "iopub.execute_input": "2021-06-07T15:28:51.501302Z",
     "iopub.status.busy": "2021-06-07T15:28:51.501095Z",
     "iopub.status.idle": "2021-06-07T15:28:51.51455Z",
     "shell.execute_reply": "2021-06-07T15:28:51.513723Z",
     "shell.execute_reply.started": "2021-06-07T15:28:51.501281Z"
    }
   },
   "outputs": [],
   "source": [
    "from sklearn.model_selection import train_test_split\n",
    "X = df['key_text']\n",
    "y = df['target']\n",
    "X_train, X_val, y_train, y_val = train_test_split(X, y, test_size=0.33, random_state=42)"
   ]
  },
  {
   "cell_type": "code",
   "execution_count": null,
   "metadata": {
    "execution": {
     "iopub.execute_input": "2021-06-07T15:28:51.516033Z",
     "iopub.status.busy": "2021-06-07T15:28:51.515735Z",
     "iopub.status.idle": "2021-06-07T15:28:52.024693Z",
     "shell.execute_reply": "2021-06-07T15:28:52.023717Z",
     "shell.execute_reply.started": "2021-06-07T15:28:51.516001Z"
    }
   },
   "outputs": [],
   "source": [
    "import spacy\n",
    "nlp = spacy.load('en_core_web_sm')"
   ]
  },
  {
   "cell_type": "code",
   "execution_count": null,
   "metadata": {
    "execution": {
     "iopub.execute_input": "2021-06-07T15:28:52.026423Z",
     "iopub.status.busy": "2021-06-07T15:28:52.026101Z",
     "iopub.status.idle": "2021-06-07T15:28:52.031815Z",
     "shell.execute_reply": "2021-06-07T15:28:52.030625Z",
     "shell.execute_reply.started": "2021-06-07T15:28:52.02639Z"
    }
   },
   "outputs": [],
   "source": [
    "def my_tokenizer(sentence):\n",
    "    doc = nlp(sentence)\n",
    "    lemmas = [token.lemma_.lower() for token in doc if not token.is_stop and token.lemma_.isalpha()]\n",
    "    return lemmas"
   ]
  },
  {
   "cell_type": "markdown",
   "metadata": {},
   "source": [
    "**Question**\n",
    "\n",
    "What will be the result of the following cell?\n",
    "1. `['people', 'be', 'whitnesse', 'wildfire', 'see', 'wwwevacuation', 'and']`\n",
    "2. `['whitnesse', 'wildfire', 'wwwevacuation']`\n",
    "3. `['people', 'whitnessing', 'wildfires', 'wwwevacuation']`\n",
    "4. `['people', 'whitnesse', 'wildfire', 'evacuation']`"
   ]
  },
  {
   "cell_type": "code",
   "execution_count": null,
   "metadata": {
    "execution": {
     "iopub.execute_input": "2021-06-07T15:28:52.033652Z",
     "iopub.status.busy": "2021-06-07T15:28:52.033152Z",
     "iopub.status.idle": "2021-06-07T15:28:52.05616Z",
     "shell.execute_reply": "2021-06-07T15:28:52.055338Z",
     "shell.execute_reply.started": "2021-06-07T15:28:52.033586Z"
    }
   },
   "outputs": [],
   "source": [
    "s = \"13,000People are whitnessing #wildfires see wwwEvacuation and www.google.de\"\n",
    "my_tokenizer(s)"
   ]
  },
  {
   "cell_type": "code",
   "execution_count": null,
   "metadata": {
    "execution": {
     "iopub.execute_input": "2021-06-07T15:28:52.058238Z",
     "iopub.status.busy": "2021-06-07T15:28:52.058001Z",
     "iopub.status.idle": "2021-06-07T15:28:52.062871Z",
     "shell.execute_reply": "2021-06-07T15:28:52.062374Z",
     "shell.execute_reply.started": "2021-06-07T15:28:52.058215Z"
    }
   },
   "outputs": [],
   "source": [
    "from sklearn.feature_extraction.text import CountVectorizer\n",
    "bow_vectorizer = CountVectorizer(tokenizer=my_tokenizer, ngram_range=(1,1), max_features=1000)"
   ]
  },
  {
   "cell_type": "code",
   "execution_count": null,
   "metadata": {
    "execution": {
     "iopub.execute_input": "2021-06-07T15:28:52.063744Z",
     "iopub.status.busy": "2021-06-07T15:28:52.063555Z",
     "iopub.status.idle": "2021-06-07T15:29:44.187852Z",
     "shell.execute_reply": "2021-06-07T15:29:44.186582Z",
     "shell.execute_reply.started": "2021-06-07T15:28:52.063725Z"
    }
   },
   "outputs": [],
   "source": [
    "X_train_bow = bow_vectorizer.fit_transform(X_train)\n",
    "X_val_bow = bow_vectorizer.transform(X_val)"
   ]
  },
  {
   "cell_type": "code",
   "execution_count": null,
   "metadata": {
    "execution": {
     "iopub.execute_input": "2021-06-07T15:29:44.189567Z",
     "iopub.status.busy": "2021-06-07T15:29:44.189246Z",
     "iopub.status.idle": "2021-06-07T15:29:44.282904Z",
     "shell.execute_reply": "2021-06-07T15:29:44.281968Z",
     "shell.execute_reply.started": "2021-06-07T15:29:44.189539Z"
    }
   },
   "outputs": [],
   "source": [
    "X_train_bow_df = pd.DataFrame(X_train_bow.toarray(), columns=bow_vectorizer.get_feature_names(), index=X_train.index).add_prefix('BOW_')\n",
    "X_val_bow_df = pd.DataFrame(X_val_bow.toarray(), columns=bow_vectorizer.get_feature_names(), index=X_val.index).add_prefix('BOW_')\n",
    "X_train_bow_df"
   ]
  },
  {
   "cell_type": "code",
   "execution_count": null,
   "metadata": {
    "execution": {
     "iopub.execute_input": "2021-06-07T15:29:44.284278Z",
     "iopub.status.busy": "2021-06-07T15:29:44.28402Z",
     "iopub.status.idle": "2021-06-07T15:29:44.301011Z",
     "shell.execute_reply": "2021-06-07T15:29:44.299257Z",
     "shell.execute_reply.started": "2021-06-07T15:29:44.284251Z"
    }
   },
   "outputs": [],
   "source": [
    "X_train_bow_df.sum().sort_values(ascending=False)"
   ]
  },
  {
   "cell_type": "markdown",
   "metadata": {},
   "source": [
    "### Logistic Regression Model"
   ]
  },
  {
   "cell_type": "code",
   "execution_count": null,
   "metadata": {
    "execution": {
     "iopub.execute_input": "2021-06-07T15:29:44.303186Z",
     "iopub.status.busy": "2021-06-07T15:29:44.302677Z",
     "iopub.status.idle": "2021-06-07T15:29:44.629304Z",
     "shell.execute_reply": "2021-06-07T15:29:44.62839Z",
     "shell.execute_reply.started": "2021-06-07T15:29:44.303014Z"
    }
   },
   "outputs": [],
   "source": [
    "from sklearn.linear_model import LogisticRegression\n",
    "classifier = LogisticRegression()\n",
    "classifier.fit(X_train_bow_df, y_train)"
   ]
  },
  {
   "cell_type": "code",
   "execution_count": null,
   "metadata": {
    "execution": {
     "iopub.execute_input": "2021-06-07T15:29:44.631667Z",
     "iopub.status.busy": "2021-06-07T15:29:44.630845Z",
     "iopub.status.idle": "2021-06-07T15:29:44.687961Z",
     "shell.execute_reply": "2021-06-07T15:29:44.687029Z",
     "shell.execute_reply.started": "2021-06-07T15:29:44.631615Z"
    }
   },
   "outputs": [],
   "source": [
    "print(f'Training Accuracy: {classifier.score(X_train_bow_df, y_train):.2f}')\n",
    "print(f'Validation Accuracy: {classifier.score(X_val_bow_df, y_val):.2f}')"
   ]
  },
  {
   "cell_type": "code",
   "execution_count": null,
   "metadata": {
    "execution": {
     "iopub.execute_input": "2021-06-07T15:29:44.690143Z",
     "iopub.status.busy": "2021-06-07T15:29:44.689498Z",
     "iopub.status.idle": "2021-06-07T15:29:44.918426Z",
     "shell.execute_reply": "2021-06-07T15:29:44.917778Z",
     "shell.execute_reply.started": "2021-06-07T15:29:44.690101Z"
    }
   },
   "outputs": [],
   "source": [
    "from sklearn.metrics import plot_confusion_matrix\n",
    "plot_confusion_matrix(classifier, X_val_bow_df, y_val, normalize='true', cmap=plt.cm.Blues)\n",
    "plt.show()"
   ]
  },
  {
   "cell_type": "code",
   "execution_count": null,
   "metadata": {
    "execution": {
     "iopub.execute_input": "2021-06-07T15:29:44.92026Z",
     "iopub.status.busy": "2021-06-07T15:29:44.919712Z",
     "iopub.status.idle": "2021-06-07T15:29:44.952367Z",
     "shell.execute_reply": "2021-06-07T15:29:44.951452Z",
     "shell.execute_reply.started": "2021-06-07T15:29:44.920225Z"
    }
   },
   "outputs": [],
   "source": [
    "from pprint import pprint\n",
    "from sklearn.metrics import confusion_matrix\n",
    "\n",
    "CM = confusion_matrix(y_val, classifier.predict(X_val_bow_df))\n",
    "\n",
    "TN = CM[0][0]\n",
    "FN = CM[1][0]\n",
    "TP = CM[1][1]\n",
    "FP = CM[0][1]\n",
    "\n",
    "scores = {\n",
    "    'TPR': TP / (TP + FN), # recall,\n",
    "    'FPR': FP / (FP + TN),\n",
    "    'PPV': TP / (TP + FP), # precision,\n",
    "    'ACC': (TP + TN) / (TN + FN + TP + FP),\n",
    "}\n",
    "\n",
    "pprint(scores)"
   ]
  },
  {
   "cell_type": "code",
   "execution_count": null,
   "metadata": {
    "execution": {
     "iopub.execute_input": "2021-06-07T15:29:44.954379Z",
     "iopub.status.busy": "2021-06-07T15:29:44.953793Z",
     "iopub.status.idle": "2021-06-07T15:29:45.157854Z",
     "shell.execute_reply": "2021-06-07T15:29:45.1564Z",
     "shell.execute_reply.started": "2021-06-07T15:29:44.954338Z"
    }
   },
   "outputs": [],
   "source": [
    "from sklearn.metrics import plot_roc_curve\n",
    "plot_roc_curve(classifier, X_val_bow_df, y_val)\n",
    "plt.plot(scores['FPR'], scores['TPR'], 'or')\n",
    "plt.text(scores['FPR'] + 0.05, scores['TPR'] - 0.01, 'current configuration, threshold of 0.5')\n",
    "plt.show()"
   ]
  },
  {
   "cell_type": "code",
   "execution_count": null,
   "metadata": {
    "execution": {
     "iopub.execute_input": "2021-06-07T15:29:45.159841Z",
     "iopub.status.busy": "2021-06-07T15:29:45.159445Z",
     "iopub.status.idle": "2021-06-07T15:29:45.184294Z",
     "shell.execute_reply": "2021-06-07T15:29:45.183513Z",
     "shell.execute_reply.started": "2021-06-07T15:29:45.159802Z"
    }
   },
   "outputs": [],
   "source": [
    "from sklearn.metrics import f1_score\n",
    "f1_score(y_val, classifier.predict(X_val_bow_df))"
   ]
  },
  {
   "cell_type": "markdown",
   "metadata": {},
   "source": [
    "### Model Explainability"
   ]
  },
  {
   "cell_type": "code",
   "execution_count": null,
   "metadata": {
    "execution": {
     "iopub.execute_input": "2021-06-07T15:29:45.186019Z",
     "iopub.status.busy": "2021-06-07T15:29:45.185531Z",
     "iopub.status.idle": "2021-06-07T15:29:45.201973Z",
     "shell.execute_reply": "2021-06-07T15:29:45.201122Z",
     "shell.execute_reply.started": "2021-06-07T15:29:45.185981Z"
    }
   },
   "outputs": [],
   "source": [
    "s = 'worrying sinkhole'\n",
    "X_new = bow_vectorizer.transform([s]).toarray()\n",
    "print(classifier.predict(X_new)[0])\n",
    "print(classifier.predict_proba(X_new)[0])"
   ]
  },
  {
   "cell_type": "code",
   "execution_count": null,
   "metadata": {
    "execution": {
     "iopub.execute_input": "2021-06-07T15:29:45.203952Z",
     "iopub.status.busy": "2021-06-07T15:29:45.203464Z",
     "iopub.status.idle": "2021-06-07T15:29:45.219735Z",
     "shell.execute_reply": "2021-06-07T15:29:45.218897Z",
     "shell.execute_reply.started": "2021-06-07T15:29:45.203915Z"
    }
   },
   "outputs": [],
   "source": [
    "coefficients = pd.DataFrame({\"word\": list(bow_vectorizer.get_feature_names()), \"coeff\": classifier.coef_[0]})\n",
    "coefficients.sort_values(by=['coeff'], ascending=False).head(10)"
   ]
  },
  {
   "cell_type": "code",
   "execution_count": null,
   "metadata": {
    "execution": {
     "iopub.execute_input": "2021-06-07T15:29:45.221911Z",
     "iopub.status.busy": "2021-06-07T15:29:45.221171Z",
     "iopub.status.idle": "2021-06-07T15:29:45.233991Z",
     "shell.execute_reply": "2021-06-07T15:29:45.233177Z",
     "shell.execute_reply.started": "2021-06-07T15:29:45.221872Z"
    }
   },
   "outputs": [],
   "source": [
    "coefficients.sort_values(by=['coeff'], ascending=False).tail(10)"
   ]
  },
  {
   "cell_type": "markdown",
   "metadata": {},
   "source": [
    "### How Logistic Regression Works"
   ]
  },
  {
   "cell_type": "code",
   "execution_count": null,
   "metadata": {
    "execution": {
     "iopub.execute_input": "2021-06-07T15:29:45.23581Z",
     "iopub.status.busy": "2021-06-07T15:29:45.235255Z",
     "iopub.status.idle": "2021-06-07T15:29:45.241456Z",
     "shell.execute_reply": "2021-06-07T15:29:45.240646Z",
     "shell.execute_reply.started": "2021-06-07T15:29:45.235772Z"
    }
   },
   "outputs": [],
   "source": [
    "len(classifier.coef_[0])"
   ]
  },
  {
   "cell_type": "code",
   "execution_count": null,
   "metadata": {
    "execution": {
     "iopub.execute_input": "2021-06-07T15:29:45.243146Z",
     "iopub.status.busy": "2021-06-07T15:29:45.242619Z",
     "iopub.status.idle": "2021-06-07T15:29:45.255658Z",
     "shell.execute_reply": "2021-06-07T15:29:45.254876Z",
     "shell.execute_reply.started": "2021-06-07T15:29:45.24311Z"
    }
   },
   "outputs": [],
   "source": [
    "classifier.intercept_[0]"
   ]
  },
  {
   "cell_type": "code",
   "execution_count": null,
   "metadata": {
    "execution": {
     "iopub.execute_input": "2021-06-07T15:29:45.257455Z",
     "iopub.status.busy": "2021-06-07T15:29:45.256911Z",
     "iopub.status.idle": "2021-06-07T15:29:45.276962Z",
     "shell.execute_reply": "2021-06-07T15:29:45.27612Z",
     "shell.execute_reply.started": "2021-06-07T15:29:45.257417Z"
    }
   },
   "outputs": [],
   "source": [
    "coefficients[coefficients['word'].isin(['worry', 'sinkhole'])]"
   ]
  },
  {
   "cell_type": "code",
   "execution_count": null,
   "metadata": {
    "execution": {
     "iopub.execute_input": "2021-06-07T15:40:37.398218Z",
     "iopub.status.busy": "2021-06-07T15:40:37.397844Z",
     "iopub.status.idle": "2021-06-07T15:40:37.404394Z",
     "shell.execute_reply": "2021-06-07T15:40:37.403137Z",
     "shell.execute_reply.started": "2021-06-07T15:40:37.398195Z"
    }
   },
   "outputs": [],
   "source": [
    "import numpy as np\n",
    "\n",
    "def sigmoid(x):\n",
    "    return 1 / (1 + math.e ** -x)\n",
    "\n",
    "def get_proba(classifier, bow_vectorizer, sentence):\n",
    "    X_new = bow_vectorizer.transform([sentence]).toarray()[0]\n",
    "    \n",
    "    # Not needed for calculation of final prediction value, just to get more insights on the contribution of the single words\n",
    "    found_words = [i for (i, v) in zip(bow_vectorizer.get_feature_names(), X_new) if v == 1]\n",
    "    df_coefficients = pd.DataFrame({\"word\": list(bow_vectorizer.get_feature_names()), \"coeff\": classifier.coef_[0]})\n",
    "    print(df_coefficients[df_coefficients['word'].isin(found_words)])\n",
    "    print(f'bias: {classifier.intercept_[0]}')\n",
    "    \n",
    "    logit = np.dot(X_new, classifier.coef_[0]) + classifier.intercept_[0]\n",
    "    print(f'logit: {logit}')\n",
    "    print(f'after sigmoid: {sigmoid(logit)}')\n",
    "    return sigmoid(logit)"
   ]
  },
  {
   "cell_type": "code",
   "execution_count": null,
   "metadata": {
    "execution": {
     "iopub.execute_input": "2021-06-07T15:40:39.816333Z",
     "iopub.status.busy": "2021-06-07T15:40:39.815929Z",
     "iopub.status.idle": "2021-06-07T15:40:39.832216Z",
     "shell.execute_reply": "2021-06-07T15:40:39.831342Z",
     "shell.execute_reply.started": "2021-06-07T15:40:39.816277Z"
    }
   },
   "outputs": [],
   "source": [
    "get_proba(classifier, bow_vectorizer, 'worrying sinkhole')"
   ]
  },
  {
   "cell_type": "code",
   "execution_count": null,
   "metadata": {},
   "outputs": [],
   "source": []
  }
 ],
 "metadata": {
  "kernelspec": {
   "display_name": "Python 3",
   "language": "python",
   "name": "python3"
  },
  "language_info": {
   "codemirror_mode": {
    "name": "ipython",
    "version": 3
   },
   "file_extension": ".py",
   "mimetype": "text/x-python",
   "name": "python",
   "nbconvert_exporter": "python",
   "pygments_lexer": "ipython3",
   "version": "3.8.2"
  }
 },
 "nbformat": 4,
 "nbformat_minor": 4
}
