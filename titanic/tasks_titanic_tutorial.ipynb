{
  "cells": [
    {
      "cell_type": "markdown",
      "id": "parallel-genesis",
      "metadata": {
        "papermill": {
          "duration": 0.04235,
          "end_time": "2021-06-07T15:29:29.379995",
          "exception": false,
          "start_time": "2021-06-07T15:29:29.337645",
          "status": "completed"
        },
        "tags": [],
        "id": "parallel-genesis"
      },
      "source": [
        "On April 15, 1912, during her maiden voyage, the Titanic sank after colliding with an iceberg, killing 1502 out of 2224 passengers and crew. Translated 32% survival rate.\n",
        "One of the reasons that the shipwreck led to such loss of life was that there were not enough lifeboats for the passengers and crew.\n",
        "Although there was some element of luck involved in surviving the sinking, some groups of people were more likely to survive than others, such as women, children, and the upper-class."
      ]
    },
    {
      "cell_type": "markdown",
      "id": "incomplete-assessment",
      "metadata": {
        "papermill": {
          "duration": 0.039062,
          "end_time": "2021-06-07T15:29:29.536846",
          "exception": false,
          "start_time": "2021-06-07T15:29:29.497784",
          "status": "completed"
        },
        "tags": [],
        "id": "incomplete-assessment"
      },
      "source": [
        "In this notebook we will go through some simple analysis and refer to the tools that you have seen in the Datacamp courses. We will train a couple of simple models to predict the survival rate with machine learning. First, let's list the data that are available on this kaggle notebook"
      ]
    },
    {
      "cell_type": "code",
      "execution_count": null,
      "id": "shared-occurrence",
      "metadata": {
        "_cell_guid": "b1076dfc-b9ad-4769-8c92-a6c4dae69d19",
        "_uuid": "8f2839f25d086af736a60e9eeb907d3b93b6e0e5",
        "execution": {
          "iopub.execute_input": "2021-06-07T15:29:29.625662Z",
          "iopub.status.busy": "2021-06-07T15:29:29.624924Z",
          "iopub.status.idle": "2021-06-07T15:29:29.630568Z",
          "shell.execute_reply": "2021-06-07T15:29:29.629927Z",
          "shell.execute_reply.started": "2021-06-07T13:00:42.985091Z"
        },
        "papermill": {
          "duration": 0.054449,
          "end_time": "2021-06-07T15:29:29.630729",
          "exception": false,
          "start_time": "2021-06-07T15:29:29.576280",
          "status": "completed"
        },
        "tags": [],
        "id": "shared-occurrence"
      },
      "outputs": [],
      "source": [
        "import os\n",
        "for dirname, _, filenames in os.walk('data/'):\n",
        "    for filename in filenames:\n",
        "        print(os.path.join(dirname, filename))"
      ]
    },
    {
      "cell_type": "markdown",
      "id": "freelance-brown",
      "metadata": {
        "papermill": {
          "duration": 0.039299,
          "end_time": "2021-06-07T15:29:29.710545",
          "exception": false,
          "start_time": "2021-06-07T15:29:29.671246",
          "status": "completed"
        },
        "tags": [],
        "id": "freelance-brown"
      },
      "source": [
        "In the input folder we find the train and test data in csv format."
      ]
    },
    {
      "cell_type": "markdown",
      "source": [
        "Please install the requirements mentioned in the `requirements.txt` file before continuing."
      ],
      "metadata": {
        "id": "ytS1RdgPQd9b"
      },
      "id": "ytS1RdgPQd9b"
    },
    {
      "cell_type": "markdown",
      "id": "further-memory",
      "metadata": {
        "papermill": {
          "duration": 0.039311,
          "end_time": "2021-06-07T15:29:29.789296",
          "exception": false,
          "start_time": "2021-06-07T15:29:29.749985",
          "status": "completed"
        },
        "tags": [],
        "id": "further-memory"
      },
      "source": [
        "# Data exploration and cleaning\n"
      ]
    },
    {
      "cell_type": "markdown",
      "id": "sophisticated-killing",
      "metadata": {
        "papermill": {
          "duration": 0.039513,
          "end_time": "2021-06-07T15:29:29.868519",
          "exception": false,
          "start_time": "2021-06-07T15:29:29.829006",
          "status": "completed"
        },
        "tags": [],
        "id": "sophisticated-killing"
      },
      "source": [
        "As a first step, we will explore the distribution of data, their correlation and type. First, let's import the the data as a pandas dataframe."
      ]
    },
    {
      "cell_type": "code",
      "execution_count": null,
      "id": "cloudy-courage",
      "metadata": {
        "execution": {
          "iopub.execute_input": "2021-06-07T15:29:29.952712Z",
          "iopub.status.busy": "2021-06-07T15:29:29.952001Z",
          "iopub.status.idle": "2021-06-07T15:29:30.754726Z",
          "shell.execute_reply": "2021-06-07T15:29:30.753517Z",
          "shell.execute_reply.started": "2021-06-07T13:03:17.451391Z"
        },
        "papermill": {
          "duration": 0.84667,
          "end_time": "2021-06-07T15:29:30.754876",
          "exception": false,
          "start_time": "2021-06-07T15:29:29.908206",
          "status": "completed"
        },
        "tags": [],
        "id": "cloudy-courage"
      },
      "outputs": [],
      "source": [
        "import pandas as pd\n",
        "import matplotlib.pyplot as plt\n",
        "import seaborn as sns\n",
        "\n",
        "train_df = pd.read_csv('data/train.csv')"
      ]
    },
    {
      "cell_type": "code",
      "execution_count": null,
      "id": "earned-wallet",
      "metadata": {
        "execution": {
          "iopub.execute_input": "2021-06-07T15:29:30.845381Z",
          "iopub.status.busy": "2021-06-07T15:29:30.844520Z",
          "iopub.status.idle": "2021-06-07T15:29:30.867575Z",
          "shell.execute_reply": "2021-06-07T15:29:30.867083Z",
          "shell.execute_reply.started": "2021-06-07T13:03:19.008614Z"
        },
        "papermill": {
          "duration": 0.072937,
          "end_time": "2021-06-07T15:29:30.867716",
          "exception": false,
          "start_time": "2021-06-07T15:29:30.794779",
          "status": "completed"
        },
        "tags": [],
        "id": "earned-wallet"
      },
      "outputs": [],
      "source": [
        "train_df.head()"
      ]
    },
    {
      "cell_type": "markdown",
      "id": "dietary-practice",
      "metadata": {
        "papermill": {
          "duration": 0.039753,
          "end_time": "2021-06-07T15:29:30.946498",
          "exception": false,
          "start_time": "2021-06-07T15:29:30.906745",
          "status": "completed"
        },
        "tags": [],
        "id": "dietary-practice"
      },
      "source": [
        "In the dataframe, each column represents:\n",
        "* survival -> Survival -> 0 = No, 1 = Yes\n",
        "* pclass -> Ticket class -> 1 = 1st, 2 = 2nd, 3 = 3rd\n",
        "* sex -> Sex -> male/female\n",
        "* Age -> Age in years\n",
        "* sibsp -> # of siblings / spouses aboard the Titanic\n",
        "* parch -> # of parents / children aboard the Titanic\n",
        "* ticket -> Ticket number\n",
        "* fare -> Passenger fare\n",
        "* cabin -> Cabin number\n",
        "* embarked -> Port of Embarkation -> C = Cherbourg, Q = Queenstown, S = Southampton"
      ]
    },
    {
      "cell_type": "markdown",
      "id": "textile-clark",
      "metadata": {
        "papermill": {
          "duration": 0.03962,
          "end_time": "2021-06-07T15:29:31.026113",
          "exception": false,
          "start_time": "2021-06-07T15:29:30.986493",
          "status": "completed"
        },
        "tags": [],
        "id": "textile-clark"
      },
      "source": [
        "With `.info()` we check numerical/categorical columns"
      ]
    },
    {
      "cell_type": "code",
      "execution_count": null,
      "id": "remarkable-warner",
      "metadata": {
        "execution": {
          "iopub.execute_input": "2021-06-07T15:29:31.126605Z",
          "iopub.status.busy": "2021-06-07T15:29:31.125837Z",
          "iopub.status.idle": "2021-06-07T15:29:31.129588Z",
          "shell.execute_reply": "2021-06-07T15:29:31.128958Z",
          "shell.execute_reply.started": "2021-06-07T13:04:43.405937Z"
        },
        "papermill": {
          "duration": 0.062716,
          "end_time": "2021-06-07T15:29:31.129717",
          "exception": false,
          "start_time": "2021-06-07T15:29:31.067001",
          "status": "completed"
        },
        "tags": [],
        "id": "remarkable-warner"
      },
      "outputs": [],
      "source": [
        "train_df.info()"
      ]
    },
    {
      "cell_type": "markdown",
      "id": "first-horizontal",
      "metadata": {
        "papermill": {
          "duration": 0.039734,
          "end_time": "2021-06-07T15:29:31.209706",
          "exception": false,
          "start_time": "2021-06-07T15:29:31.169972",
          "status": "completed"
        },
        "tags": [],
        "id": "first-horizontal"
      },
      "source": [
        "# Cleaning categorical features"
      ]
    },
    {
      "cell_type": "markdown",
      "id": "tribal-ecuador",
      "metadata": {
        "papermill": {
          "duration": 0.039506,
          "end_time": "2021-06-07T15:29:31.289094",
          "exception": false,
          "start_time": "2021-06-07T15:29:31.249588",
          "status": "completed"
        },
        "tags": [],
        "id": "tribal-ecuador"
      },
      "source": [
        "To get some info on non-numerical variables, we can still use the `.describe()` command but we need to pass the argument `include=['object']`"
      ]
    },
    {
      "cell_type": "code",
      "execution_count": null,
      "id": "chief-reduction",
      "metadata": {
        "execution": {
          "iopub.execute_input": "2021-06-07T15:29:31.372567Z",
          "iopub.status.busy": "2021-06-07T15:29:31.371987Z",
          "iopub.status.idle": "2021-06-07T15:29:31.409010Z",
          "shell.execute_reply": "2021-06-07T15:29:31.408526Z",
          "shell.execute_reply.started": "2021-06-07T13:05:46.241792Z"
        },
        "papermill": {
          "duration": 0.079601,
          "end_time": "2021-06-07T15:29:31.409138",
          "exception": false,
          "start_time": "2021-06-07T15:29:31.329537",
          "status": "completed"
        },
        "tags": [],
        "id": "chief-reduction"
      },
      "outputs": [],
      "source": [
        "train_df.describe(include=['object'])"
      ]
    },
    {
      "cell_type": "code",
      "execution_count": null,
      "id": "useful-survey",
      "metadata": {
        "execution": {
          "iopub.execute_input": "2021-06-07T15:29:31.503783Z",
          "iopub.status.busy": "2021-06-07T15:29:31.503131Z",
          "iopub.status.idle": "2021-06-07T15:29:31.508788Z",
          "shell.execute_reply": "2021-06-07T15:29:31.508287Z",
          "shell.execute_reply.started": "2021-06-07T13:06:32.938508Z"
        },
        "papermill": {
          "duration": 0.058986,
          "end_time": "2021-06-07T15:29:31.508926",
          "exception": false,
          "start_time": "2021-06-07T15:29:31.449940",
          "status": "completed"
        },
        "tags": [],
        "id": "useful-survey"
      },
      "outputs": [],
      "source": [
        "train_df[['Name', 'Sex', 'Ticket', 'Cabin', 'Embarked']].head()"
      ]
    },
    {
      "cell_type": "markdown",
      "id": "sound-flashing",
      "metadata": {
        "papermill": {
          "duration": 0.040559,
          "end_time": "2021-06-07T15:29:31.590645",
          "exception": false,
          "start_time": "2021-06-07T15:29:31.550086",
          "status": "completed"
        },
        "tags": [],
        "id": "sound-flashing"
      },
      "source": [
        "Some important remarks:\n",
        "* Names are unique across the dataset (count=unique=891)\n",
        "* Sex variable has two possible values with 65% male (top=male, freq=577/count=891).\n",
        "* Cabin values have several dupicates across samples. In other words, several passengers shared a cabin.\n",
        "* Embarked takes three possible values. S port used by most passengers (top=S)\n",
        "* Ticket feature has high ratio (22%) of duplicate values (unique=681)."
      ]
    },
    {
      "cell_type": "markdown",
      "source": [
        "**Task: 1**"
      ],
      "metadata": {
        "id": "nZvxP1SxYU8J"
      },
      "id": "nZvxP1SxYU8J"
    },
    {
      "cell_type": "markdown",
      "source": [
        "Which column has the most number of missing values?"
      ],
      "metadata": {
        "id": "SQmDCOXsWRY4"
      },
      "id": "SQmDCOXsWRY4"
    },
    {
      "cell_type": "code",
      "execution_count": null,
      "id": "smoking-motorcycle",
      "metadata": {
        "execution": {
          "iopub.execute_input": "2021-06-07T15:29:31.762781Z",
          "iopub.status.busy": "2021-06-07T15:29:31.761944Z",
          "iopub.status.idle": "2021-06-07T15:29:31.765518Z",
          "shell.execute_reply": "2021-06-07T15:29:31.765978Z",
          "shell.execute_reply.started": "2021-06-07T13:11:19.245487Z"
        },
        "papermill": {
          "duration": 0.052378,
          "end_time": "2021-06-07T15:29:31.766141",
          "exception": false,
          "start_time": "2021-06-07T15:29:31.713763",
          "status": "completed"
        },
        "tags": [],
        "id": "smoking-motorcycle"
      },
      "outputs": [],
      "source": [
        "### Your solution here ###"
      ]
    },
    {
      "cell_type": "markdown",
      "source": [
        "Most missing values in column _____\n",
        "\n",
        "---"
      ],
      "metadata": {
        "id": "vMewkFEiW7U_"
      },
      "id": "vMewkFEiW7U_"
    },
    {
      "cell_type": "markdown",
      "id": "floating-zambia",
      "metadata": {
        "papermill": {
          "duration": 0.041351,
          "end_time": "2021-06-07T15:29:31.848815",
          "exception": false,
          "start_time": "2021-06-07T15:29:31.807464",
          "status": "completed"
        },
        "tags": [],
        "id": "floating-zambia"
      },
      "source": [
        "To simplify our analysis, we will drop the 'Ticket', 'Cabin' and 'Embarked' columns."
      ]
    },
    {
      "cell_type": "code",
      "execution_count": null,
      "id": "egyptian-guidance",
      "metadata": {
        "execution": {
          "iopub.execute_input": "2021-06-07T15:29:31.935692Z",
          "iopub.status.busy": "2021-06-07T15:29:31.934666Z",
          "iopub.status.idle": "2021-06-07T15:29:31.940063Z",
          "shell.execute_reply": "2021-06-07T15:29:31.940583Z",
          "shell.execute_reply.started": "2021-06-07T13:11:56.410836Z"
        },
        "papermill": {
          "duration": 0.050634,
          "end_time": "2021-06-07T15:29:31.940748",
          "exception": false,
          "start_time": "2021-06-07T15:29:31.890114",
          "status": "completed"
        },
        "tags": [],
        "id": "egyptian-guidance"
      },
      "outputs": [],
      "source": [
        "train_df = train_df.drop(['Ticket', 'Cabin', 'Embarked'], axis=1)"
      ]
    },
    {
      "cell_type": "markdown",
      "id": "given-consortium",
      "metadata": {
        "papermill": {
          "duration": 0.041142,
          "end_time": "2021-06-07T15:29:32.023769",
          "exception": false,
          "start_time": "2021-06-07T15:29:31.982627",
          "status": "completed"
        },
        "tags": [],
        "id": "given-consortium"
      },
      "source": [
        "### Feature Engineering: Creating new features from existing ones: Titles from Names"
      ]
    },
    {
      "cell_type": "code",
      "execution_count": null,
      "id": "about-tenant",
      "metadata": {
        "execution": {
          "iopub.execute_input": "2021-06-07T15:29:32.109930Z",
          "iopub.status.busy": "2021-06-07T15:29:32.108852Z",
          "iopub.status.idle": "2021-06-07T15:29:32.125633Z",
          "shell.execute_reply": "2021-06-07T15:29:32.125079Z",
          "shell.execute_reply.started": "2021-06-07T11:55:40.75294Z"
        },
        "papermill": {
          "duration": 0.060834,
          "end_time": "2021-06-07T15:29:32.125778",
          "exception": false,
          "start_time": "2021-06-07T15:29:32.064944",
          "status": "completed"
        },
        "tags": [],
        "id": "about-tenant"
      },
      "outputs": [],
      "source": [
        "train_df.head(10)"
      ]
    },
    {
      "cell_type": "markdown",
      "source": [
        "We see that the names contains information about the titles of the passengers. Lets extract the titles from the names."
      ],
      "metadata": {
        "id": "JF8QXb1jXKSS"
      },
      "id": "JF8QXb1jXKSS"
    },
    {
      "cell_type": "markdown",
      "source": [
        "**Task: 2**"
      ],
      "metadata": {
        "id": "tzfxipiBYbhw"
      },
      "id": "tzfxipiBYbhw"
    },
    {
      "cell_type": "markdown",
      "source": [
        "You can use regular expression to extract the titles. What should we be looking for? How does the title stand apart from the rest of the name?\n",
        "\n",
        "Once we have the regex expression, we can use `str.extract()` method with the regex expression on the Name column."
      ],
      "metadata": {
        "id": "i7zlImILXh2G"
      },
      "id": "i7zlImILXh2G"
    },
    {
      "cell_type": "markdown",
      "source": [
        "Extract the titles to a new column named `'Title'`."
      ],
      "metadata": {
        "id": "sJRntgviYw3I"
      },
      "id": "sJRntgviYw3I"
    },
    {
      "cell_type": "code",
      "execution_count": null,
      "id": "distinct-monaco",
      "metadata": {
        "execution": {
          "iopub.execute_input": "2021-06-07T15:29:32.222608Z",
          "iopub.status.busy": "2021-06-07T15:29:32.222029Z",
          "iopub.status.idle": "2021-06-07T15:29:32.249650Z",
          "shell.execute_reply": "2021-06-07T15:29:32.250128Z",
          "shell.execute_reply.started": "2021-06-07T13:14:20.123844Z"
        },
        "papermill": {
          "duration": 0.082386,
          "end_time": "2021-06-07T15:29:32.250289",
          "exception": false,
          "start_time": "2021-06-07T15:29:32.167903",
          "status": "completed"
        },
        "tags": [],
        "id": "distinct-monaco"
      },
      "outputs": [],
      "source": [
        "### Your solution here ###"
      ]
    },
    {
      "cell_type": "markdown",
      "source": [
        "The frequency of occurance of each of the titles in males and females can be obtained by using a cross tabulation frequency table.\n",
        "\n"
      ],
      "metadata": {
        "id": "w9Y1ynnyYoZ_"
      },
      "id": "w9Y1ynnyYoZ_"
    },
    {
      "cell_type": "code",
      "source": [
        "pd.crosstab(train_df['Title'], train_df['Sex'])"
      ],
      "metadata": {
        "id": "QZ4mGngLYlHz"
      },
      "id": "QZ4mGngLYlHz",
      "execution_count": null,
      "outputs": []
    },
    {
      "cell_type": "markdown",
      "source": [
        "We see that there are several titles, some referring to the same type of person. Some of the title are very rare among the passengers."
      ],
      "metadata": {
        "id": "baWTKrrscLzZ"
      },
      "id": "baWTKrrscLzZ"
    },
    {
      "cell_type": "markdown",
      "source": [
        "**Task: 3**"
      ],
      "metadata": {
        "id": "3CFVifHYcePV"
      },
      "id": "3CFVifHYcePV"
    },
    {
      "cell_type": "markdown",
      "source": [
        "* Replace the following titles with the word `'Rare'`.\n",
        "\n",
        "\n",
        "`['Lady', 'Countess', 'Capt', 'Col', 'Don', 'Dr', 'Major', 'Rev', 'Sir', 'Jonkheer']`\n",
        "\n",
        "* Replace the title `'Mlle'` with `'Miss'`. (Mademoiselle is a French courtesy title, abbreviated Mlle, traditionally given to an unmarried woman)\n",
        "\n",
        "* Replace the title `'Mme'` with `'Mrs'`. (French title Madame for married woman)\n",
        "\n",
        "* Replace the title `'Ms'` with `'Miss'`. \n",
        "\n"
      ],
      "metadata": {
        "id": "F4sNnjMaciEH"
      },
      "id": "F4sNnjMaciEH"
    },
    {
      "cell_type": "code",
      "execution_count": null,
      "id": "hydraulic-rebecca",
      "metadata": {
        "execution": {
          "iopub.execute_input": "2021-06-07T15:29:32.338443Z",
          "iopub.status.busy": "2021-06-07T15:29:32.337858Z",
          "iopub.status.idle": "2021-06-07T15:29:32.357461Z",
          "shell.execute_reply": "2021-06-07T15:29:32.356824Z",
          "shell.execute_reply.started": "2021-06-07T13:15:55.080235Z"
        },
        "papermill": {
          "duration": 0.064612,
          "end_time": "2021-06-07T15:29:32.357596",
          "exception": false,
          "start_time": "2021-06-07T15:29:32.292984",
          "status": "completed"
        },
        "tags": [],
        "id": "hydraulic-rebecca"
      },
      "outputs": [],
      "source": [
        "### Your solution here ###"
      ]
    },
    {
      "cell_type": "markdown",
      "source": [
        "We should now have 5 titles. Let us check the survival rate of each of these title holders.\n"
      ],
      "metadata": {
        "id": "xKiBqwSXePD8"
      },
      "id": "xKiBqwSXePD8"
    },
    {
      "cell_type": "markdown",
      "source": [
        "**Task: 4**"
      ],
      "metadata": {
        "id": "_RtSVRmkeg19"
      },
      "id": "_RtSVRmkeg19"
    },
    {
      "cell_type": "markdown",
      "source": [
        "Calculate the mean value of the column `'Survived'` for each of the titles. "
      ],
      "metadata": {
        "id": "KqiRlh2jejsv"
      },
      "id": "KqiRlh2jejsv"
    },
    {
      "cell_type": "code",
      "source": [
        "### Your solution here ###"
      ],
      "metadata": {
        "id": "KTkFSVpXe4DW"
      },
      "id": "KTkFSVpXe4DW",
      "execution_count": null,
      "outputs": []
    },
    {
      "cell_type": "markdown",
      "source": [
        "The most survival rate was associated with the title _____\n",
        "\n",
        "---"
      ],
      "metadata": {
        "id": "X4b2VJHYfQeo"
      },
      "id": "X4b2VJHYfQeo"
    },
    {
      "cell_type": "markdown",
      "id": "optional-continent",
      "metadata": {
        "papermill": {
          "duration": 0.042416,
          "end_time": "2021-06-07T15:29:32.443178",
          "exception": false,
          "start_time": "2021-06-07T15:29:32.400762",
          "status": "completed"
        },
        "tags": [],
        "id": "optional-continent"
      },
      "source": [
        "### Categorical value encoding "
      ]
    },
    {
      "cell_type": "markdown",
      "source": [
        "It is easier to work with numeric features. We can convert the `Sex` and `Title` columns to numeric columns."
      ],
      "metadata": {
        "id": "C8AfXYEEiwVv"
      },
      "id": "C8AfXYEEiwVv"
    },
    {
      "cell_type": "markdown",
      "source": [
        "**Task: 5**"
      ],
      "metadata": {
        "id": "aGjyHvI0zS5_"
      },
      "id": "aGjyHvI0zS5_"
    },
    {
      "cell_type": "markdown",
      "source": [
        "Convert the `Sex` column to numeric column `is_female` with value 1 for female and 0 for male."
      ],
      "metadata": {
        "id": "poVXE4TdzVxD"
      },
      "id": "poVXE4TdzVxD"
    },
    {
      "cell_type": "code",
      "execution_count": null,
      "id": "hindu-release",
      "metadata": {
        "execution": {
          "iopub.execute_input": "2021-06-07T15:29:32.531875Z",
          "iopub.status.busy": "2021-06-07T15:29:32.530994Z",
          "iopub.status.idle": "2021-06-07T15:29:32.549784Z",
          "shell.execute_reply": "2021-06-07T15:29:32.550261Z",
          "shell.execute_reply.started": "2021-06-07T13:16:48.655554Z"
        },
        "papermill": {
          "duration": 0.06417,
          "end_time": "2021-06-07T15:29:32.550434",
          "exception": false,
          "start_time": "2021-06-07T15:29:32.486264",
          "status": "completed"
        },
        "tags": [],
        "id": "hindu-release"
      },
      "outputs": [],
      "source": [
        "### Your solution here ###"
      ]
    },
    {
      "cell_type": "code",
      "source": [
        "train_df.head()"
      ],
      "metadata": {
        "id": "AUug9Blmzlho"
      },
      "id": "AUug9Blmzlho",
      "execution_count": null,
      "outputs": []
    },
    {
      "cell_type": "markdown",
      "id": "serial-difference",
      "metadata": {
        "papermill": {
          "duration": 0.04312,
          "end_time": "2021-06-07T15:29:32.637260",
          "exception": false,
          "start_time": "2021-06-07T15:29:32.594140",
          "status": "completed"
        },
        "tags": [],
        "id": "serial-difference"
      },
      "source": [
        "It is often useful to encode categorical variables into one-hot encodings. We can convert the `Title` column to one-hot encoding of the constituent values."
      ]
    },
    {
      "cell_type": "markdown",
      "source": [
        "**Task: 6**"
      ],
      "metadata": {
        "id": "dnKIaoEYz7jR"
      },
      "id": "dnKIaoEYz7jR"
    },
    {
      "cell_type": "markdown",
      "source": [
        "Convert the column `Title` to one-hot encoding and add to the dataframe. Then new column names should be like `'is_Mr'`, `'is_Miss'`, etc"
      ],
      "metadata": {
        "id": "o9BsXyarz-Rx"
      },
      "id": "o9BsXyarz-Rx"
    },
    {
      "cell_type": "code",
      "execution_count": null,
      "id": "elder-disposition",
      "metadata": {
        "execution": {
          "iopub.execute_input": "2021-06-07T15:29:32.730627Z",
          "iopub.status.busy": "2021-06-07T15:29:32.730007Z",
          "iopub.status.idle": "2021-06-07T15:29:32.735460Z",
          "shell.execute_reply": "2021-06-07T15:29:32.736009Z",
          "shell.execute_reply.started": "2021-06-07T13:17:27.445245Z"
        },
        "papermill": {
          "duration": 0.055568,
          "end_time": "2021-06-07T15:29:32.736164",
          "exception": false,
          "start_time": "2021-06-07T15:29:32.680596",
          "status": "completed"
        },
        "tags": [],
        "id": "elder-disposition"
      },
      "outputs": [],
      "source": [
        "### Your solution here ###"
      ]
    },
    {
      "cell_type": "code",
      "execution_count": null,
      "id": "neither-german",
      "metadata": {
        "execution": {
          "iopub.execute_input": "2021-06-07T15:29:32.826255Z",
          "iopub.status.busy": "2021-06-07T15:29:32.825672Z",
          "iopub.status.idle": "2021-06-07T15:29:32.841056Z",
          "shell.execute_reply": "2021-06-07T15:29:32.841625Z",
          "shell.execute_reply.started": "2021-06-07T13:17:29.077893Z"
        },
        "papermill": {
          "duration": 0.061826,
          "end_time": "2021-06-07T15:29:32.841797",
          "exception": false,
          "start_time": "2021-06-07T15:29:32.779971",
          "status": "completed"
        },
        "tags": [],
        "id": "neither-german"
      },
      "outputs": [],
      "source": [
        "train_df.head()"
      ]
    },
    {
      "cell_type": "markdown",
      "id": "technical-peter",
      "metadata": {
        "papermill": {
          "duration": 0.043529,
          "end_time": "2021-06-07T15:29:32.928961",
          "exception": false,
          "start_time": "2021-06-07T15:29:32.885432",
          "status": "completed"
        },
        "tags": [],
        "id": "technical-peter"
      },
      "source": [
        "At this point, we can drop the `'Name'`, `'Sex'` and `'Title'` columnns"
      ]
    },
    {
      "cell_type": "code",
      "execution_count": null,
      "id": "exciting-victoria",
      "metadata": {
        "execution": {
          "iopub.execute_input": "2021-06-07T15:29:33.019574Z",
          "iopub.status.busy": "2021-06-07T15:29:33.019014Z",
          "iopub.status.idle": "2021-06-07T15:29:33.024494Z",
          "shell.execute_reply": "2021-06-07T15:29:33.025048Z",
          "shell.execute_reply.started": "2021-06-07T13:18:18.065561Z"
        },
        "papermill": {
          "duration": 0.052395,
          "end_time": "2021-06-07T15:29:33.025205",
          "exception": false,
          "start_time": "2021-06-07T15:29:32.972810",
          "status": "completed"
        },
        "tags": [],
        "id": "exciting-victoria"
      },
      "outputs": [],
      "source": [
        "train_df.drop(['Name', 'Sex', 'Title'] , axis=1, inplace = True)"
      ]
    },
    {
      "cell_type": "code",
      "execution_count": null,
      "id": "engaging-franklin",
      "metadata": {
        "execution": {
          "iopub.execute_input": "2021-06-07T15:29:33.117212Z",
          "iopub.status.busy": "2021-06-07T15:29:33.116632Z",
          "iopub.status.idle": "2021-06-07T15:29:33.131157Z",
          "shell.execute_reply": "2021-06-07T15:29:33.130615Z",
          "shell.execute_reply.started": "2021-06-07T13:18:21.642122Z"
        },
        "papermill": {
          "duration": 0.061478,
          "end_time": "2021-06-07T15:29:33.131288",
          "exception": false,
          "start_time": "2021-06-07T15:29:33.069810",
          "status": "completed"
        },
        "tags": [],
        "id": "engaging-franklin"
      },
      "outputs": [],
      "source": [
        "train_df.head()"
      ]
    },
    {
      "cell_type": "markdown",
      "id": "average-sessions",
      "metadata": {
        "papermill": {
          "duration": 0.044158,
          "end_time": "2021-06-07T15:29:33.220238",
          "exception": false,
          "start_time": "2021-06-07T15:29:33.176080",
          "status": "completed"
        },
        "tags": [],
        "id": "average-sessions"
      },
      "source": [
        "# Cleaning Numerical features"
      ]
    },
    {
      "cell_type": "markdown",
      "id": "fallen-consolidation",
      "metadata": {
        "papermill": {
          "duration": 0.044169,
          "end_time": "2021-06-07T15:29:33.308271",
          "exception": false,
          "start_time": "2021-06-07T15:29:33.264102",
          "status": "completed"
        },
        "tags": [],
        "id": "fallen-consolidation"
      },
      "source": [
        "Now that we have dealt with categorical columns in our dataframe, we can move on to analysing the numerical columns."
      ]
    },
    {
      "cell_type": "markdown",
      "source": [
        "### Feature engineering"
      ],
      "metadata": {
        "id": "deYRHRVt1NCZ"
      },
      "id": "deYRHRVt1NCZ"
    },
    {
      "cell_type": "markdown",
      "source": [
        "We can associate for each passenger the number of family members. From this we can also get a new feature representing if the passenger is alone or not."
      ],
      "metadata": {
        "id": "tYPvzAGQ1Q2a"
      },
      "id": "tYPvzAGQ1Q2a"
    },
    {
      "cell_type": "markdown",
      "source": [
        "**Task: 7**"
      ],
      "metadata": {
        "id": "E3YR9XMY1f7x"
      },
      "id": "E3YR9XMY1f7x"
    },
    {
      "cell_type": "markdown",
      "source": [
        "Create a new column named `'FamilySize'`. The value should be the number of siblings/ spouse + the number of parents/ children + the person itself.\n",
        "\n",
        "Also calculate the survival rate for each of the family size."
      ],
      "metadata": {
        "id": "kuE4hzB31ism"
      },
      "id": "kuE4hzB31ism"
    },
    {
      "cell_type": "code",
      "execution_count": null,
      "id": "traditional-installation",
      "metadata": {
        "execution": {
          "iopub.execute_input": "2021-06-07T15:29:33.405363Z",
          "iopub.status.busy": "2021-06-07T15:29:33.404749Z",
          "iopub.status.idle": "2021-06-07T15:29:33.414496Z",
          "shell.execute_reply": "2021-06-07T15:29:33.415020Z",
          "shell.execute_reply.started": "2021-06-07T13:19:06.791713Z"
        },
        "papermill": {
          "duration": 0.061472,
          "end_time": "2021-06-07T15:29:33.415177",
          "exception": false,
          "start_time": "2021-06-07T15:29:33.353705",
          "status": "completed"
        },
        "tags": [],
        "id": "traditional-installation"
      },
      "outputs": [],
      "source": [
        "### Your solution here ###"
      ]
    },
    {
      "cell_type": "markdown",
      "source": [
        "The survival rate was maximum for the family size _____\n",
        "\n",
        "---"
      ],
      "metadata": {
        "id": "0E_AIuf82HQL"
      },
      "id": "0E_AIuf82HQL"
    },
    {
      "cell_type": "markdown",
      "source": [
        "**Task: 8**"
      ],
      "metadata": {
        "id": "uKJGA8nd3N2a"
      },
      "id": "uKJGA8nd3N2a"
    },
    {
      "cell_type": "markdown",
      "id": "economic-board",
      "metadata": {
        "papermill": {
          "duration": 0.044674,
          "end_time": "2021-06-07T15:29:33.504732",
          "exception": false,
          "start_time": "2021-06-07T15:29:33.460058",
          "status": "completed"
        },
        "tags": [],
        "id": "economic-board"
      },
      "source": [
        "Another similar feature we can extract is whether a person was alone or not. Add a new column is_alone with value 1 if the passenger is alone and 0 if he/she has family members together with him/her.\n",
        "\n",
        "Calculate the survival rate for passengers who are not alone."
      ]
    },
    {
      "cell_type": "code",
      "source": [
        "### Your solution here ###"
      ],
      "metadata": {
        "id": "_LLViYsT3v4z",
        "collapsed": true
      },
      "id": "_LLViYsT3v4z",
      "execution_count": null,
      "outputs": []
    },
    {
      "cell_type": "markdown",
      "source": [
        "Survival rate for passengers who are not alone is _____\n",
        "\n",
        "\n",
        "---\n",
        "\n"
      ],
      "metadata": {
        "id": "7z6Rtb0l4afd"
      },
      "id": "7z6Rtb0l4afd"
    },
    {
      "cell_type": "markdown",
      "source": [
        "Now we can drop the columns `SibSp` and `Parch`. "
      ],
      "metadata": {
        "id": "bI13CN1v45zR"
      },
      "id": "bI13CN1v45zR"
    },
    {
      "cell_type": "code",
      "execution_count": null,
      "id": "dense-emerald",
      "metadata": {
        "execution": {
          "iopub.execute_input": "2021-06-07T15:29:33.704850Z",
          "iopub.status.busy": "2021-06-07T15:29:33.704221Z",
          "iopub.status.idle": "2021-06-07T15:29:33.708853Z",
          "shell.execute_reply": "2021-06-07T15:29:33.709430Z",
          "shell.execute_reply.started": "2021-06-07T13:19:43.07465Z"
        },
        "papermill": {
          "duration": 0.052731,
          "end_time": "2021-06-07T15:29:33.709590",
          "exception": false,
          "start_time": "2021-06-07T15:29:33.656859",
          "status": "completed"
        },
        "tags": [],
        "id": "dense-emerald"
      },
      "outputs": [],
      "source": [
        "train_df.drop(['SibSp', 'Parch'] , axis=1, inplace = True)"
      ]
    },
    {
      "cell_type": "markdown",
      "source": [
        "We can visualize the correlations between features by plotting a heatmap of the correlation values."
      ],
      "metadata": {
        "id": "Na7F9p68CIBf"
      },
      "id": "Na7F9p68CIBf"
    },
    {
      "cell_type": "code",
      "execution_count": null,
      "id": "gross-entry",
      "metadata": {
        "execution": {
          "iopub.execute_input": "2021-06-07T15:29:50.938168Z",
          "iopub.status.busy": "2021-06-07T15:29:50.937153Z",
          "iopub.status.idle": "2021-06-07T15:29:51.279987Z",
          "shell.execute_reply": "2021-06-07T15:29:51.280471Z",
          "shell.execute_reply.started": "2021-06-07T13:21:29.820052Z"
        },
        "papermill": {
          "duration": 0.395971,
          "end_time": "2021-06-07T15:29:51.280636",
          "exception": false,
          "start_time": "2021-06-07T15:29:50.884665",
          "status": "completed"
        },
        "tags": [],
        "id": "gross-entry"
      },
      "outputs": [],
      "source": [
        "corr_matr = train_df.corr()\n",
        "cmap = sns.diverging_palette(230, 20, as_cmap=True)\n",
        "sns.heatmap(corr_matr, cmap = cmap)"
      ]
    },
    {
      "cell_type": "markdown",
      "id": "dietary-marble",
      "metadata": {
        "_kg_hide-input": false,
        "papermill": {
          "duration": 0.048816,
          "end_time": "2021-06-07T15:29:51.477464",
          "exception": false,
          "start_time": "2021-06-07T15:29:51.428648",
          "status": "completed"
        },
        "tags": [],
        "id": "dietary-marble"
      },
      "source": [
        "From the plots, we have seen that the `'PassengerId'` column has almost no correlation with the other columns. It is just a high cardinality feature. Therefore, we will drop it from the training dataframe."
      ]
    },
    {
      "cell_type": "code",
      "execution_count": null,
      "id": "grateful-produce",
      "metadata": {
        "execution": {
          "iopub.execute_input": "2021-06-07T15:29:51.578361Z",
          "iopub.status.busy": "2021-06-07T15:29:51.577395Z",
          "iopub.status.idle": "2021-06-07T15:29:51.582346Z",
          "shell.execute_reply": "2021-06-07T15:29:51.582834Z",
          "shell.execute_reply.started": "2021-06-07T13:24:18.645635Z"
        },
        "papermill": {
          "duration": 0.056838,
          "end_time": "2021-06-07T15:29:51.582988",
          "exception": false,
          "start_time": "2021-06-07T15:29:51.526150",
          "status": "completed"
        },
        "tags": [],
        "id": "grateful-produce"
      },
      "outputs": [],
      "source": [
        "train_df = train_df.drop(['PassengerId'], axis=1)"
      ]
    },
    {
      "cell_type": "markdown",
      "id": "enclosed-dublin",
      "metadata": {
        "_kg_hide-output": false,
        "papermill": {
          "duration": 0.048258,
          "end_time": "2021-06-07T15:29:51.680029",
          "exception": false,
          "start_time": "2021-06-07T15:29:51.631771",
          "status": "completed"
        },
        "tags": [],
        "id": "enclosed-dublin"
      },
      "source": [
        "**Conclusions from data analysis and feature extraction**\n",
        "\n",
        "**Dropped features**\n",
        "\n",
        "* Ticket feature was be dropped from our analysis as it contains high ratio of duplicates (22%) and there may not be a correlation between Ticket and survival.\n",
        "* Cabin feature was be dropped as it is highly incomplete or contains many null values.\n",
        "* PassengerId was be dropped from training dataset as it not correlated to survival.\n",
        "\n",
        "\n",
        "**Created features**\n",
        "\n",
        "* Created a new feature called Family based on Parch and SibSp to get total count of family members on board.\n",
        "* Extracted Title from Name as a new feature. One-hot encoded it for modelling."
      ]
    },
    {
      "cell_type": "markdown",
      "id": "hispanic-export",
      "metadata": {
        "papermill": {
          "duration": 0.048094,
          "end_time": "2021-06-07T15:29:51.776679",
          "exception": false,
          "start_time": "2021-06-07T15:29:51.728585",
          "status": "completed"
        },
        "tags": [],
        "id": "hispanic-export"
      },
      "source": [
        "# Model training and testing\n",
        "\n"
      ]
    },
    {
      "cell_type": "markdown",
      "id": "hybrid-canon",
      "metadata": {
        "papermill": {
          "duration": 0.048586,
          "end_time": "2021-06-07T15:29:51.971479",
          "exception": false,
          "start_time": "2021-06-07T15:29:51.922893",
          "status": "completed"
        },
        "tags": [],
        "id": "hybrid-canon"
      },
      "source": [
        "We haven't yet seen how to develop models and train it on the data we have. These will be covered in the future datacamp courses. This is still left here for completion. \n",
        "\n",
        "Let's create the proper train and validation set from the train_df dataframe."
      ]
    },
    {
      "cell_type": "code",
      "execution_count": null,
      "id": "imperial-captain",
      "metadata": {
        "execution": {
          "iopub.execute_input": "2021-06-07T15:29:52.074320Z",
          "iopub.status.busy": "2021-06-07T15:29:52.073413Z",
          "iopub.status.idle": "2021-06-07T15:29:52.417987Z",
          "shell.execute_reply": "2021-06-07T15:29:52.414655Z",
          "shell.execute_reply.started": "2021-06-07T13:28:54.929093Z"
        },
        "papermill": {
          "duration": 0.397982,
          "end_time": "2021-06-07T15:29:52.418264",
          "exception": false,
          "start_time": "2021-06-07T15:29:52.020282",
          "status": "completed"
        },
        "tags": [],
        "id": "imperial-captain"
      },
      "outputs": [],
      "source": [
        "from sklearn.model_selection import train_test_split\n",
        "from sklearn.neighbors import KNeighborsClassifier\n",
        "from sklearn.preprocessing import StandardScaler\n",
        "from sklearn.ensemble import RandomForestClassifier\n",
        "from sklearn.metrics import accuracy_score\n"
      ]
    },
    {
      "cell_type": "markdown",
      "source": [
        "Create the features and labels from the data and split the data into training set (70%) and validation set (30%). "
      ],
      "metadata": {
        "id": "_m33WS7YFCRl"
      },
      "id": "_m33WS7YFCRl"
    },
    {
      "cell_type": "code",
      "source": [
        "X = train_df.loc[:, train_df.columns != 'Survived']\n",
        "y = train_df.loc[:, 'Survived']\n",
        "X_train, X_val, y_train, y_val = train_test_split(X, y, test_size=0.3, random_state=42)"
      ],
      "metadata": {
        "id": "PaHnPw0YE4R-"
      },
      "id": "PaHnPw0YE4R-",
      "execution_count": null,
      "outputs": []
    },
    {
      "cell_type": "markdown",
      "id": "wrapped-volunteer",
      "metadata": {
        "papermill": {
          "duration": 0.049234,
          "end_time": "2021-06-07T15:29:52.535283",
          "exception": false,
          "start_time": "2021-06-07T15:29:52.486049",
          "status": "completed"
        },
        "tags": [],
        "id": "wrapped-volunteer"
      },
      "source": [
        "**Question**\n",
        "\n",
        "We are now going to train 4 different models, 2 Knn (one scaled, one not) and 2 Random Forest models (also, one scaled, one not). What to we expect from scaling the input data?\n",
        "\n",
        "a) Knn score improves, Random forest remains (more or less) the same \\\n",
        "b) Both Knn and Random forest scores improve \\\n",
        "c) Both scores remain the same (more or less) \\\n",
        "d) Both scores get worse"
      ]
    },
    {
      "cell_type": "markdown",
      "id": "prescription-analysis",
      "metadata": {
        "papermill": {
          "duration": 0.050059,
          "end_time": "2021-06-07T15:29:52.633673",
          "exception": false,
          "start_time": "2021-06-07T15:29:52.583614",
          "status": "completed"
        },
        "tags": [],
        "id": "prescription-analysis"
      },
      "source": [
        "# KNN training and scoring"
      ]
    },
    {
      "cell_type": "markdown",
      "id": "unavailable-cloud",
      "metadata": {
        "papermill": {
          "duration": 0.048501,
          "end_time": "2021-06-07T15:29:52.730903",
          "exception": false,
          "start_time": "2021-06-07T15:29:52.682402",
          "status": "completed"
        },
        "tags": [],
        "id": "unavailable-cloud"
      },
      "source": [
        "In sklearn, both Knn and Random Forests do not handle missing values internally. Therefore, we need to impute the missing values before passing it through the models"
      ]
    },
    {
      "cell_type": "code",
      "execution_count": null,
      "id": "temporal-newspaper",
      "metadata": {
        "execution": {
          "iopub.execute_input": "2021-06-07T15:29:52.840954Z",
          "iopub.status.busy": "2021-06-07T15:29:52.840059Z",
          "iopub.status.idle": "2021-06-07T15:29:52.844676Z",
          "shell.execute_reply": "2021-06-07T15:29:52.844170Z",
          "shell.execute_reply.started": "2021-06-07T13:32:14.644082Z"
        },
        "papermill": {
          "duration": 0.065041,
          "end_time": "2021-06-07T15:29:52.844811",
          "exception": false,
          "start_time": "2021-06-07T15:29:52.779770",
          "status": "completed"
        },
        "tags": [],
        "id": "temporal-newspaper"
      },
      "outputs": [],
      "source": [
        "X_train = X_train.fillna(X_train.mean())\n",
        "X_val= X_val.fillna(X_val.mean())"
      ]
    },
    {
      "cell_type": "markdown",
      "id": "arabic-blowing",
      "metadata": {
        "papermill": {
          "duration": 0.049015,
          "end_time": "2021-06-07T15:29:52.942922",
          "exception": false,
          "start_time": "2021-06-07T15:29:52.893907",
          "status": "completed"
        },
        "tags": [],
        "id": "arabic-blowing"
      },
      "source": [
        "We can now move on to training the KNN model"
      ]
    },
    {
      "cell_type": "code",
      "execution_count": null,
      "id": "continental-modem",
      "metadata": {
        "execution": {
          "iopub.execute_input": "2021-06-07T15:29:53.045082Z",
          "iopub.status.busy": "2021-06-07T15:29:53.044139Z",
          "iopub.status.idle": "2021-06-07T15:29:53.068084Z",
          "shell.execute_reply": "2021-06-07T15:29:53.068631Z",
          "shell.execute_reply.started": "2021-06-07T13:32:36.001322Z"
        },
        "papermill": {
          "duration": 0.076398,
          "end_time": "2021-06-07T15:29:53.068797",
          "exception": false,
          "start_time": "2021-06-07T15:29:52.992399",
          "status": "completed"
        },
        "tags": [],
        "id": "continental-modem"
      },
      "outputs": [],
      "source": [
        "knn = KNeighborsClassifier(n_neighbors = 3)\n",
        "knn.fit(X_train, y_train)\n",
        "knn.score(X_val, y_val)"
      ]
    },
    {
      "cell_type": "markdown",
      "source": [
        "Now train the model on scaled data."
      ],
      "metadata": {
        "id": "tLzuOomOGXBx"
      },
      "id": "tLzuOomOGXBx"
    },
    {
      "cell_type": "code",
      "execution_count": null,
      "id": "fallen-nickname",
      "metadata": {
        "execution": {
          "iopub.execute_input": "2021-06-07T15:29:53.172987Z",
          "iopub.status.busy": "2021-06-07T15:29:53.172037Z",
          "iopub.status.idle": "2021-06-07T15:29:53.201148Z",
          "shell.execute_reply": "2021-06-07T15:29:53.200633Z",
          "shell.execute_reply.started": "2021-06-07T13:32:52.607381Z"
        },
        "papermill": {
          "duration": 0.083041,
          "end_time": "2021-06-07T15:29:53.201294",
          "exception": false,
          "start_time": "2021-06-07T15:29:53.118253",
          "status": "completed"
        },
        "tags": [],
        "id": "fallen-nickname"
      },
      "outputs": [],
      "source": [
        "ss = StandardScaler()\n",
        "\n",
        "X_train_scaled = ss.fit_transform(X_train)\n",
        "X_val_scaled = ss.transform(X_val)\n",
        "\n",
        "knn = KNeighborsClassifier(n_neighbors = 3)\n",
        "knn.fit(X_train_scaled, y_train)\n",
        "knn.score(X_val_scaled, y_val)"
      ]
    },
    {
      "cell_type": "markdown",
      "id": "minute-mixture",
      "metadata": {
        "papermill": {
          "duration": 0.049648,
          "end_time": "2021-06-07T15:29:53.301115",
          "exception": false,
          "start_time": "2021-06-07T15:29:53.251467",
          "status": "completed"
        },
        "tags": [],
        "id": "minute-mixture"
      },
      "source": [
        "In this example we have only used a standard scaler, but often other types of scaling yield better results. For example, some features may benefit from log scaling their values (typical for \"fat tails\")"
      ]
    },
    {
      "cell_type": "code",
      "execution_count": null,
      "id": "varying-overview",
      "metadata": {
        "execution": {
          "iopub.execute_input": "2021-06-07T15:29:53.410099Z",
          "iopub.status.busy": "2021-06-07T15:29:53.409124Z",
          "iopub.status.idle": "2021-06-07T15:29:54.473854Z",
          "shell.execute_reply": "2021-06-07T15:29:54.473199Z",
          "shell.execute_reply.started": "2021-06-07T13:33:10.907756Z"
        },
        "papermill": {
          "duration": 1.122892,
          "end_time": "2021-06-07T15:29:54.473991",
          "exception": false,
          "start_time": "2021-06-07T15:29:53.351099",
          "status": "completed"
        },
        "tags": [],
        "id": "varying-overview"
      },
      "outputs": [],
      "source": [
        "sns.pairplot(train_df[['Fare', 'Age']])"
      ]
    },
    {
      "cell_type": "markdown",
      "id": "oriental-sewing",
      "metadata": {
        "papermill": {
          "duration": 0.050707,
          "end_time": "2021-06-07T15:29:54.576176",
          "exception": false,
          "start_time": "2021-06-07T15:29:54.525469",
          "status": "completed"
        },
        "tags": [],
        "id": "oriental-sewing"
      },
      "source": [
        "# Random forest training and scoring"
      ]
    },
    {
      "cell_type": "markdown",
      "source": [
        "Train a Random Forest classifier on the unscaled data."
      ],
      "metadata": {
        "id": "JW9Ka7AXG06y"
      },
      "id": "JW9Ka7AXG06y"
    },
    {
      "cell_type": "code",
      "execution_count": null,
      "id": "variable-block",
      "metadata": {
        "execution": {
          "iopub.execute_input": "2021-06-07T15:29:54.686033Z",
          "iopub.status.busy": "2021-06-07T15:29:54.685327Z",
          "iopub.status.idle": "2021-06-07T15:29:54.927021Z",
          "shell.execute_reply": "2021-06-07T15:29:54.925923Z",
          "shell.execute_reply.started": "2021-06-07T13:33:39.541071Z"
        },
        "papermill": {
          "duration": 0.300039,
          "end_time": "2021-06-07T15:29:54.927300",
          "exception": false,
          "start_time": "2021-06-07T15:29:54.627261",
          "status": "completed"
        },
        "tags": [],
        "id": "variable-block"
      },
      "outputs": [],
      "source": [
        "rf = RandomForestClassifier(random_state=42)\n",
        "rf.fit(X_train, y_train)\n",
        "print(f'accuracy score: {accuracy_score(rf.predict(X_val), y_val)}')\n",
        "print(f'Feature importance: \\n {dict(zip(X.columns, rf.feature_importances_.round(2)))}')"
      ]
    },
    {
      "cell_type": "markdown",
      "source": [
        "Now train a Random Forest classifier on the scaled data."
      ],
      "metadata": {
        "id": "abUOe3q2HDZn"
      },
      "id": "abUOe3q2HDZn"
    },
    {
      "cell_type": "code",
      "execution_count": null,
      "id": "checked-pencil",
      "metadata": {
        "execution": {
          "iopub.execute_input": "2021-06-07T15:29:55.036069Z",
          "iopub.status.busy": "2021-06-07T15:29:55.035393Z",
          "iopub.status.idle": "2021-06-07T15:29:55.272482Z",
          "shell.execute_reply": "2021-06-07T15:29:55.273401Z",
          "shell.execute_reply.started": "2021-06-07T13:33:44.898659Z"
        },
        "papermill": {
          "duration": 0.29425,
          "end_time": "2021-06-07T15:29:55.273721",
          "exception": false,
          "start_time": "2021-06-07T15:29:54.979471",
          "status": "completed"
        },
        "tags": [],
        "id": "checked-pencil"
      },
      "outputs": [],
      "source": [
        "rf.fit(X_train_scaled, y_train)\n",
        "print(f'accuracy score: {accuracy_score(rf.predict(X_val_scaled), y_val)}')\n",
        "print(f'Feature importance: \\n {dict(zip(X.columns, rf.feature_importances_.round(2)))}')"
      ]
    },
    {
      "cell_type": "markdown",
      "id": "swedish-renewal",
      "metadata": {
        "papermill": {
          "duration": 0.053167,
          "end_time": "2021-06-07T15:29:55.380158",
          "exception": false,
          "start_time": "2021-06-07T15:29:55.326991",
          "status": "completed"
        },
        "tags": [],
        "id": "swedish-renewal"
      },
      "source": [
        "Notice that a feature being correlated to survival does not necessarily mean that the feature importance in a model is going to be high"
      ]
    },
    {
      "cell_type": "code",
      "execution_count": null,
      "id": "located-british",
      "metadata": {
        "execution": {
          "iopub.execute_input": "2021-06-07T15:29:55.487228Z",
          "iopub.status.busy": "2021-06-07T15:29:55.486626Z",
          "iopub.status.idle": "2021-06-07T15:29:55.865663Z",
          "shell.execute_reply": "2021-06-07T15:29:55.866145Z",
          "shell.execute_reply.started": "2021-06-07T13:34:10.441342Z"
        },
        "papermill": {
          "duration": 0.433929,
          "end_time": "2021-06-07T15:29:55.866318",
          "exception": false,
          "start_time": "2021-06-07T15:29:55.432389",
          "status": "completed"
        },
        "tags": [],
        "id": "located-british"
      },
      "outputs": [],
      "source": [
        "corr_matr = train_df.corr()\n",
        "cmap = sns.diverging_palette(230, 20, as_cmap=True)\n",
        "sns.heatmap(corr_matr, cmap = cmap)"
      ]
    },
    {
      "cell_type": "code",
      "execution_count": null,
      "id": "biblical-insight",
      "metadata": {
        "papermill": {
          "duration": 0.05421,
          "end_time": "2021-06-07T15:29:55.973383",
          "exception": false,
          "start_time": "2021-06-07T15:29:55.919173",
          "status": "completed"
        },
        "tags": [],
        "id": "biblical-insight"
      },
      "outputs": [],
      "source": []
    }
  ],
  "metadata": {
    "kernelspec": {
      "display_name": "Python 3",
      "language": "python",
      "name": "python3"
    },
    "language_info": {
      "codemirror_mode": {
        "name": "ipython",
        "version": 3
      },
      "file_extension": ".py",
      "mimetype": "text/x-python",
      "name": "python",
      "nbconvert_exporter": "python",
      "pygments_lexer": "ipython3",
      "version": "3.7.10"
    },
    "papermill": {
      "default_parameters": {},
      "duration": 35.755223,
      "end_time": "2021-06-07T15:29:57.240272",
      "environment_variables": {},
      "exception": null,
      "input_path": "__notebook__.ipynb",
      "output_path": "__notebook__.ipynb",
      "parameters": {},
      "start_time": "2021-06-07T15:29:21.485049",
      "version": "2.3.3"
    },
    "colab": {
      "provenance": [],
      "collapsed_sections": []
    }
  },
  "nbformat": 4,
  "nbformat_minor": 5
}