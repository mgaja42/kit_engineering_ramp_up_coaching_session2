{
 "cells": [
  {
   "cell_type": "markdown",
   "id": "parallel-genesis",
   "metadata": {
    "papermill": {
     "duration": 0.04235,
     "end_time": "2021-06-07T15:29:29.379995",
     "exception": false,
     "start_time": "2021-06-07T15:29:29.337645",
     "status": "completed"
    },
    "tags": []
   },
   "source": [
    "On April 15, 1912, during her maiden voyage, the Titanic sank after colliding with an iceberg, killing 1502 out of 2224 passengers and crew. Translated 32% survival rate.\n",
    "One of the reasons that the shipwreck led to such loss of life was that there were not enough lifeboats for the passengers and crew.\n",
    "Although there was some element of luck involved in surviving the sinking, some groups of people were more likely to survive than others, such as women, children, and the upper-class."
   ]
  },
  {
   "cell_type": "markdown",
   "id": "recognized-piece",
   "metadata": {
    "papermill": {
     "duration": 0.038934,
     "end_time": "2021-06-07T15:29:29.458522",
     "exception": false,
     "start_time": "2021-06-07T15:29:29.419588",
     "status": "completed"
    },
    "tags": []
   },
   "source": [
    "There are a lot of good data analysis notebooks already available on kaggle. A good summary of the approaches can be found here:\n",
    "* https://www.kaggle.com/startupsci/titanic-data-science-solutions"
   ]
  },
  {
   "cell_type": "markdown",
   "id": "incomplete-assessment",
   "metadata": {
    "papermill": {
     "duration": 0.039062,
     "end_time": "2021-06-07T15:29:29.536846",
     "exception": false,
     "start_time": "2021-06-07T15:29:29.497784",
     "status": "completed"
    },
    "tags": []
   },
   "source": [
    "In this notebook we will go through some simple analysis and refer to the tools that you have seen in the Datacamp courses. We will train a couple of simple models to predict the survival rate with machine learning. First, let's list the data that are available on this kaggle notebook"
   ]
  },
  {
   "cell_type": "code",
   "execution_count": null,
   "id": "shared-occurrence",
   "metadata": {
    "_cell_guid": "b1076dfc-b9ad-4769-8c92-a6c4dae69d19",
    "_uuid": "8f2839f25d086af736a60e9eeb907d3b93b6e0e5",
    "execution": {
     "iopub.execute_input": "2021-06-07T15:29:29.625662Z",
     "iopub.status.busy": "2021-06-07T15:29:29.624924Z",
     "iopub.status.idle": "2021-06-07T15:29:29.630568Z",
     "shell.execute_reply": "2021-06-07T15:29:29.629927Z",
     "shell.execute_reply.started": "2021-06-07T13:00:42.985091Z"
    },
    "papermill": {
     "duration": 0.054449,
     "end_time": "2021-06-07T15:29:29.630729",
     "exception": false,
     "start_time": "2021-06-07T15:29:29.576280",
     "status": "completed"
    },
    "tags": []
   },
   "outputs": [],
   "source": [
    "import os\n",
    "for dirname, _, filenames in os.walk('/kaggle/input'):\n",
    "    for filename in filenames:\n",
    "        print(os.path.join(dirname, filename))"
   ]
  },
  {
   "cell_type": "markdown",
   "id": "freelance-brown",
   "metadata": {
    "papermill": {
     "duration": 0.039299,
     "end_time": "2021-06-07T15:29:29.710545",
     "exception": false,
     "start_time": "2021-06-07T15:29:29.671246",
     "status": "completed"
    },
    "tags": []
   },
   "source": [
    "In the input folder we find the train and test data, plus an example of a submission file. This last file gives us an idea of how to structure our own submission file. "
   ]
  },
  {
   "cell_type": "markdown",
   "id": "further-memory",
   "metadata": {
    "papermill": {
     "duration": 0.039311,
     "end_time": "2021-06-07T15:29:29.789296",
     "exception": false,
     "start_time": "2021-06-07T15:29:29.749985",
     "status": "completed"
    },
    "tags": []
   },
   "source": [
    "# **Data exploration and cleaning**"
   ]
  },
  {
   "cell_type": "markdown",
   "id": "sophisticated-killing",
   "metadata": {
    "papermill": {
     "duration": 0.039513,
     "end_time": "2021-06-07T15:29:29.868519",
     "exception": false,
     "start_time": "2021-06-07T15:29:29.829006",
     "status": "completed"
    },
    "tags": []
   },
   "source": [
    "As a first step, we will explore the distribution of data, their correlation and type. First, let's import the main methods and load the datasets"
   ]
  },
  {
   "cell_type": "code",
   "execution_count": 1,
   "id": "cloudy-courage",
   "metadata": {
    "execution": {
     "iopub.execute_input": "2021-06-07T15:29:29.952712Z",
     "iopub.status.busy": "2021-06-07T15:29:29.952001Z",
     "iopub.status.idle": "2021-06-07T15:29:30.754726Z",
     "shell.execute_reply": "2021-06-07T15:29:30.753517Z",
     "shell.execute_reply.started": "2021-06-07T13:03:17.451391Z"
    },
    "papermill": {
     "duration": 0.84667,
     "end_time": "2021-06-07T15:29:30.754876",
     "exception": false,
     "start_time": "2021-06-07T15:29:29.908206",
     "status": "completed"
    },
    "tags": []
   },
   "outputs": [],
   "source": [
    "import pandas as pd\n",
    "import matplotlib.pyplot as plt\n",
    "import seaborn as sns\n",
    "\n",
    "train_df = pd.read_csv('train.csv')"
   ]
  },
  {
   "cell_type": "code",
   "execution_count": 2,
   "id": "earned-wallet",
   "metadata": {
    "execution": {
     "iopub.execute_input": "2021-06-07T15:29:30.845381Z",
     "iopub.status.busy": "2021-06-07T15:29:30.844520Z",
     "iopub.status.idle": "2021-06-07T15:29:30.867575Z",
     "shell.execute_reply": "2021-06-07T15:29:30.867083Z",
     "shell.execute_reply.started": "2021-06-07T13:03:19.008614Z"
    },
    "papermill": {
     "duration": 0.072937,
     "end_time": "2021-06-07T15:29:30.867716",
     "exception": false,
     "start_time": "2021-06-07T15:29:30.794779",
     "status": "completed"
    },
    "tags": []
   },
   "outputs": [
    {
     "data": {
      "text/html": [
       "<div>\n",
       "<style scoped>\n",
       "    .dataframe tbody tr th:only-of-type {\n",
       "        vertical-align: middle;\n",
       "    }\n",
       "\n",
       "    .dataframe tbody tr th {\n",
       "        vertical-align: top;\n",
       "    }\n",
       "\n",
       "    .dataframe thead th {\n",
       "        text-align: right;\n",
       "    }\n",
       "</style>\n",
       "<table border=\"1\" class=\"dataframe\">\n",
       "  <thead>\n",
       "    <tr style=\"text-align: right;\">\n",
       "      <th></th>\n",
       "      <th>PassengerId</th>\n",
       "      <th>Survived</th>\n",
       "      <th>Pclass</th>\n",
       "      <th>Name</th>\n",
       "      <th>Sex</th>\n",
       "      <th>Age</th>\n",
       "      <th>SibSp</th>\n",
       "      <th>Parch</th>\n",
       "      <th>Ticket</th>\n",
       "      <th>Fare</th>\n",
       "      <th>Cabin</th>\n",
       "      <th>Embarked</th>\n",
       "    </tr>\n",
       "  </thead>\n",
       "  <tbody>\n",
       "    <tr>\n",
       "      <th>0</th>\n",
       "      <td>1</td>\n",
       "      <td>0</td>\n",
       "      <td>3</td>\n",
       "      <td>Braund, Mr. Owen Harris</td>\n",
       "      <td>male</td>\n",
       "      <td>22.0</td>\n",
       "      <td>1</td>\n",
       "      <td>0</td>\n",
       "      <td>A/5 21171</td>\n",
       "      <td>7.2500</td>\n",
       "      <td>NaN</td>\n",
       "      <td>S</td>\n",
       "    </tr>\n",
       "    <tr>\n",
       "      <th>1</th>\n",
       "      <td>2</td>\n",
       "      <td>1</td>\n",
       "      <td>1</td>\n",
       "      <td>Cumings, Mrs. John Bradley (Florence Briggs Th...</td>\n",
       "      <td>female</td>\n",
       "      <td>38.0</td>\n",
       "      <td>1</td>\n",
       "      <td>0</td>\n",
       "      <td>PC 17599</td>\n",
       "      <td>71.2833</td>\n",
       "      <td>C85</td>\n",
       "      <td>C</td>\n",
       "    </tr>\n",
       "    <tr>\n",
       "      <th>2</th>\n",
       "      <td>3</td>\n",
       "      <td>1</td>\n",
       "      <td>3</td>\n",
       "      <td>Heikkinen, Miss. Laina</td>\n",
       "      <td>female</td>\n",
       "      <td>26.0</td>\n",
       "      <td>0</td>\n",
       "      <td>0</td>\n",
       "      <td>STON/O2. 3101282</td>\n",
       "      <td>7.9250</td>\n",
       "      <td>NaN</td>\n",
       "      <td>S</td>\n",
       "    </tr>\n",
       "    <tr>\n",
       "      <th>3</th>\n",
       "      <td>4</td>\n",
       "      <td>1</td>\n",
       "      <td>1</td>\n",
       "      <td>Futrelle, Mrs. Jacques Heath (Lily May Peel)</td>\n",
       "      <td>female</td>\n",
       "      <td>35.0</td>\n",
       "      <td>1</td>\n",
       "      <td>0</td>\n",
       "      <td>113803</td>\n",
       "      <td>53.1000</td>\n",
       "      <td>C123</td>\n",
       "      <td>S</td>\n",
       "    </tr>\n",
       "    <tr>\n",
       "      <th>4</th>\n",
       "      <td>5</td>\n",
       "      <td>0</td>\n",
       "      <td>3</td>\n",
       "      <td>Allen, Mr. William Henry</td>\n",
       "      <td>male</td>\n",
       "      <td>35.0</td>\n",
       "      <td>0</td>\n",
       "      <td>0</td>\n",
       "      <td>373450</td>\n",
       "      <td>8.0500</td>\n",
       "      <td>NaN</td>\n",
       "      <td>S</td>\n",
       "    </tr>\n",
       "  </tbody>\n",
       "</table>\n",
       "</div>"
      ],
      "text/plain": [
       "   PassengerId  Survived  Pclass  \\\n",
       "0            1         0       3   \n",
       "1            2         1       1   \n",
       "2            3         1       3   \n",
       "3            4         1       1   \n",
       "4            5         0       3   \n",
       "\n",
       "                                                Name     Sex   Age  SibSp  \\\n",
       "0                            Braund, Mr. Owen Harris    male  22.0      1   \n",
       "1  Cumings, Mrs. John Bradley (Florence Briggs Th...  female  38.0      1   \n",
       "2                             Heikkinen, Miss. Laina  female  26.0      0   \n",
       "3       Futrelle, Mrs. Jacques Heath (Lily May Peel)  female  35.0      1   \n",
       "4                           Allen, Mr. William Henry    male  35.0      0   \n",
       "\n",
       "   Parch            Ticket     Fare Cabin Embarked  \n",
       "0      0         A/5 21171   7.2500   NaN        S  \n",
       "1      0          PC 17599  71.2833   C85        C  \n",
       "2      0  STON/O2. 3101282   7.9250   NaN        S  \n",
       "3      0            113803  53.1000  C123        S  \n",
       "4      0            373450   8.0500   NaN        S  "
      ]
     },
     "execution_count": 2,
     "metadata": {},
     "output_type": "execute_result"
    }
   ],
   "source": [
    "train_df.head()"
   ]
  },
  {
   "cell_type": "markdown",
   "id": "dietary-practice",
   "metadata": {
    "papermill": {
     "duration": 0.039753,
     "end_time": "2021-06-07T15:29:30.946498",
     "exception": false,
     "start_time": "2021-06-07T15:29:30.906745",
     "status": "completed"
    },
    "tags": []
   },
   "source": [
    "From the competition description, we also know what each column represents:\n",
    "* survival -> Survival -> 0 = No, 1 = Yes\n",
    "* pclass -> Ticket class -> 1 = 1st, 2 = 2nd, 3 = 3rd\n",
    "* sex -> Sex -> male/female\n",
    "* Age -> Age in years\n",
    "* sibsp -> # of siblings / spouses aboard the Titanic\n",
    "* parch -> # of parents / children aboard the Titanic\n",
    "* ticket -> Ticket number\n",
    "* fare -> Passenger fare\n",
    "* cabin -> Cabin number\n",
    "* embarked -> Port of Embarkation -> C = Cherbourg, Q = Queenstown, S = Southampton"
   ]
  },
  {
   "cell_type": "markdown",
   "id": "textile-clark",
   "metadata": {
    "papermill": {
     "duration": 0.03962,
     "end_time": "2021-06-07T15:29:31.026113",
     "exception": false,
     "start_time": "2021-06-07T15:29:30.986493",
     "status": "completed"
    },
    "tags": []
   },
   "source": [
    "With .info() we check numerical/categorical columns"
   ]
  },
  {
   "cell_type": "code",
   "execution_count": 3,
   "id": "remarkable-warner",
   "metadata": {
    "execution": {
     "iopub.execute_input": "2021-06-07T15:29:31.126605Z",
     "iopub.status.busy": "2021-06-07T15:29:31.125837Z",
     "iopub.status.idle": "2021-06-07T15:29:31.129588Z",
     "shell.execute_reply": "2021-06-07T15:29:31.128958Z",
     "shell.execute_reply.started": "2021-06-07T13:04:43.405937Z"
    },
    "papermill": {
     "duration": 0.062716,
     "end_time": "2021-06-07T15:29:31.129717",
     "exception": false,
     "start_time": "2021-06-07T15:29:31.067001",
     "status": "completed"
    },
    "tags": []
   },
   "outputs": [
    {
     "name": "stdout",
     "output_type": "stream",
     "text": [
      "<class 'pandas.core.frame.DataFrame'>\n",
      "RangeIndex: 891 entries, 0 to 890\n",
      "Data columns (total 12 columns):\n",
      " #   Column       Non-Null Count  Dtype  \n",
      "---  ------       --------------  -----  \n",
      " 0   PassengerId  891 non-null    int64  \n",
      " 1   Survived     891 non-null    int64  \n",
      " 2   Pclass       891 non-null    int64  \n",
      " 3   Name         891 non-null    object \n",
      " 4   Sex          891 non-null    object \n",
      " 5   Age          714 non-null    float64\n",
      " 6   SibSp        891 non-null    int64  \n",
      " 7   Parch        891 non-null    int64  \n",
      " 8   Ticket       891 non-null    object \n",
      " 9   Fare         891 non-null    float64\n",
      " 10  Cabin        204 non-null    object \n",
      " 11  Embarked     889 non-null    object \n",
      "dtypes: float64(2), int64(5), object(5)\n",
      "memory usage: 83.7+ KB\n"
     ]
    }
   ],
   "source": [
    "train_df.info()"
   ]
  },
  {
   "cell_type": "markdown",
   "id": "first-horizontal",
   "metadata": {
    "papermill": {
     "duration": 0.039734,
     "end_time": "2021-06-07T15:29:31.209706",
     "exception": false,
     "start_time": "2021-06-07T15:29:31.169972",
     "status": "completed"
    },
    "tags": []
   },
   "source": [
    "# Cleaning categorical features"
   ]
  },
  {
   "cell_type": "markdown",
   "id": "tribal-ecuador",
   "metadata": {
    "papermill": {
     "duration": 0.039506,
     "end_time": "2021-06-07T15:29:31.289094",
     "exception": false,
     "start_time": "2021-06-07T15:29:31.249588",
     "status": "completed"
    },
    "tags": []
   },
   "source": [
    "To get some info on non-numerical variables, we can still use the .describe() command but we need to pass the argument include=['object']"
   ]
  },
  {
   "cell_type": "code",
   "execution_count": 4,
   "id": "chief-reduction",
   "metadata": {
    "execution": {
     "iopub.execute_input": "2021-06-07T15:29:31.372567Z",
     "iopub.status.busy": "2021-06-07T15:29:31.371987Z",
     "iopub.status.idle": "2021-06-07T15:29:31.409010Z",
     "shell.execute_reply": "2021-06-07T15:29:31.408526Z",
     "shell.execute_reply.started": "2021-06-07T13:05:46.241792Z"
    },
    "papermill": {
     "duration": 0.079601,
     "end_time": "2021-06-07T15:29:31.409138",
     "exception": false,
     "start_time": "2021-06-07T15:29:31.329537",
     "status": "completed"
    },
    "tags": []
   },
   "outputs": [
    {
     "data": {
      "text/html": [
       "<div>\n",
       "<style scoped>\n",
       "    .dataframe tbody tr th:only-of-type {\n",
       "        vertical-align: middle;\n",
       "    }\n",
       "\n",
       "    .dataframe tbody tr th {\n",
       "        vertical-align: top;\n",
       "    }\n",
       "\n",
       "    .dataframe thead th {\n",
       "        text-align: right;\n",
       "    }\n",
       "</style>\n",
       "<table border=\"1\" class=\"dataframe\">\n",
       "  <thead>\n",
       "    <tr style=\"text-align: right;\">\n",
       "      <th></th>\n",
       "      <th>Name</th>\n",
       "      <th>Sex</th>\n",
       "      <th>Ticket</th>\n",
       "      <th>Cabin</th>\n",
       "      <th>Embarked</th>\n",
       "    </tr>\n",
       "  </thead>\n",
       "  <tbody>\n",
       "    <tr>\n",
       "      <th>count</th>\n",
       "      <td>891</td>\n",
       "      <td>891</td>\n",
       "      <td>891</td>\n",
       "      <td>204</td>\n",
       "      <td>889</td>\n",
       "    </tr>\n",
       "    <tr>\n",
       "      <th>unique</th>\n",
       "      <td>891</td>\n",
       "      <td>2</td>\n",
       "      <td>681</td>\n",
       "      <td>147</td>\n",
       "      <td>3</td>\n",
       "    </tr>\n",
       "    <tr>\n",
       "      <th>top</th>\n",
       "      <td>Braund, Mr. Owen Harris</td>\n",
       "      <td>male</td>\n",
       "      <td>347082</td>\n",
       "      <td>B96 B98</td>\n",
       "      <td>S</td>\n",
       "    </tr>\n",
       "    <tr>\n",
       "      <th>freq</th>\n",
       "      <td>1</td>\n",
       "      <td>577</td>\n",
       "      <td>7</td>\n",
       "      <td>4</td>\n",
       "      <td>644</td>\n",
       "    </tr>\n",
       "  </tbody>\n",
       "</table>\n",
       "</div>"
      ],
      "text/plain": [
       "                           Name   Sex  Ticket    Cabin Embarked\n",
       "count                       891   891     891      204      889\n",
       "unique                      891     2     681      147        3\n",
       "top     Braund, Mr. Owen Harris  male  347082  B96 B98        S\n",
       "freq                          1   577       7        4      644"
      ]
     },
     "execution_count": 4,
     "metadata": {},
     "output_type": "execute_result"
    }
   ],
   "source": [
    "train_df.describe(include=['object'])"
   ]
  },
  {
   "cell_type": "code",
   "execution_count": 5,
   "id": "useful-survey",
   "metadata": {
    "execution": {
     "iopub.execute_input": "2021-06-07T15:29:31.503783Z",
     "iopub.status.busy": "2021-06-07T15:29:31.503131Z",
     "iopub.status.idle": "2021-06-07T15:29:31.508788Z",
     "shell.execute_reply": "2021-06-07T15:29:31.508287Z",
     "shell.execute_reply.started": "2021-06-07T13:06:32.938508Z"
    },
    "papermill": {
     "duration": 0.058986,
     "end_time": "2021-06-07T15:29:31.508926",
     "exception": false,
     "start_time": "2021-06-07T15:29:31.449940",
     "status": "completed"
    },
    "tags": []
   },
   "outputs": [
    {
     "data": {
      "text/html": [
       "<div>\n",
       "<style scoped>\n",
       "    .dataframe tbody tr th:only-of-type {\n",
       "        vertical-align: middle;\n",
       "    }\n",
       "\n",
       "    .dataframe tbody tr th {\n",
       "        vertical-align: top;\n",
       "    }\n",
       "\n",
       "    .dataframe thead th {\n",
       "        text-align: right;\n",
       "    }\n",
       "</style>\n",
       "<table border=\"1\" class=\"dataframe\">\n",
       "  <thead>\n",
       "    <tr style=\"text-align: right;\">\n",
       "      <th></th>\n",
       "      <th>Name</th>\n",
       "      <th>Sex</th>\n",
       "      <th>Ticket</th>\n",
       "      <th>Cabin</th>\n",
       "      <th>Embarked</th>\n",
       "    </tr>\n",
       "  </thead>\n",
       "  <tbody>\n",
       "    <tr>\n",
       "      <th>0</th>\n",
       "      <td>Braund, Mr. Owen Harris</td>\n",
       "      <td>male</td>\n",
       "      <td>A/5 21171</td>\n",
       "      <td>NaN</td>\n",
       "      <td>S</td>\n",
       "    </tr>\n",
       "    <tr>\n",
       "      <th>1</th>\n",
       "      <td>Cumings, Mrs. John Bradley (Florence Briggs Th...</td>\n",
       "      <td>female</td>\n",
       "      <td>PC 17599</td>\n",
       "      <td>C85</td>\n",
       "      <td>C</td>\n",
       "    </tr>\n",
       "    <tr>\n",
       "      <th>2</th>\n",
       "      <td>Heikkinen, Miss. Laina</td>\n",
       "      <td>female</td>\n",
       "      <td>STON/O2. 3101282</td>\n",
       "      <td>NaN</td>\n",
       "      <td>S</td>\n",
       "    </tr>\n",
       "    <tr>\n",
       "      <th>3</th>\n",
       "      <td>Futrelle, Mrs. Jacques Heath (Lily May Peel)</td>\n",
       "      <td>female</td>\n",
       "      <td>113803</td>\n",
       "      <td>C123</td>\n",
       "      <td>S</td>\n",
       "    </tr>\n",
       "    <tr>\n",
       "      <th>4</th>\n",
       "      <td>Allen, Mr. William Henry</td>\n",
       "      <td>male</td>\n",
       "      <td>373450</td>\n",
       "      <td>NaN</td>\n",
       "      <td>S</td>\n",
       "    </tr>\n",
       "  </tbody>\n",
       "</table>\n",
       "</div>"
      ],
      "text/plain": [
       "                                                Name     Sex  \\\n",
       "0                            Braund, Mr. Owen Harris    male   \n",
       "1  Cumings, Mrs. John Bradley (Florence Briggs Th...  female   \n",
       "2                             Heikkinen, Miss. Laina  female   \n",
       "3       Futrelle, Mrs. Jacques Heath (Lily May Peel)  female   \n",
       "4                           Allen, Mr. William Henry    male   \n",
       "\n",
       "             Ticket Cabin Embarked  \n",
       "0         A/5 21171   NaN        S  \n",
       "1          PC 17599   C85        C  \n",
       "2  STON/O2. 3101282   NaN        S  \n",
       "3            113803  C123        S  \n",
       "4            373450   NaN        S  "
      ]
     },
     "execution_count": 5,
     "metadata": {},
     "output_type": "execute_result"
    }
   ],
   "source": [
    "train_df[['Name', 'Sex', 'Ticket', 'Cabin', 'Embarked']].head()"
   ]
  },
  {
   "cell_type": "markdown",
   "id": "sound-flashing",
   "metadata": {
    "papermill": {
     "duration": 0.040559,
     "end_time": "2021-06-07T15:29:31.590645",
     "exception": false,
     "start_time": "2021-06-07T15:29:31.550086",
     "status": "completed"
    },
    "tags": []
   },
   "source": [
    "Some important remarks:\n",
    "* Names are unique across the dataset (count=unique=891)\n",
    "* Sex variable has two possible values with 65% male (top=male, freq=577/count=891).\n",
    "* Cabin values have several dupicates across samples. In other words, several passengers shared a cabin.\n",
    "* Embarked takes three possible values. S port used by most passengers (top=S)\n",
    "* Ticket feature has high ratio (22%) of duplicate values (unique=681)."
   ]
  },
  {
   "cell_type": "markdown",
   "id": "essential-hardware",
   "metadata": {
    "papermill": {
     "duration": 0.040736,
     "end_time": "2021-06-07T15:29:31.672531",
     "exception": false,
     "start_time": "2021-06-07T15:29:31.631795",
     "status": "completed"
    },
    "tags": []
   },
   "source": [
    "**Question 1)**\n",
    "\n",
    "Among the categorical features listed above, and in absence of other information, which do you think are the least useful features for predicting survival (choose one):\n",
    "\n",
    "a) Sex and Name \\\n",
    "b) Name and embarkation location \\\n",
    "c) Ticket and Cabin numbers \\\n",
    "d) Ticket number and Name "
   ]
  },
  {
   "cell_type": "code",
   "execution_count": 6,
   "id": "smoking-motorcycle",
   "metadata": {
    "execution": {
     "iopub.execute_input": "2021-06-07T15:29:31.762781Z",
     "iopub.status.busy": "2021-06-07T15:29:31.761944Z",
     "iopub.status.idle": "2021-06-07T15:29:31.765518Z",
     "shell.execute_reply": "2021-06-07T15:29:31.765978Z",
     "shell.execute_reply.started": "2021-06-07T13:11:19.245487Z"
    },
    "papermill": {
     "duration": 0.052378,
     "end_time": "2021-06-07T15:29:31.766141",
     "exception": false,
     "start_time": "2021-06-07T15:29:31.713763",
     "status": "completed"
    },
    "tags": []
   },
   "outputs": [
    {
     "data": {
      "text/plain": [
       "PassengerId      0\n",
       "Survived         0\n",
       "Pclass           0\n",
       "Name             0\n",
       "Sex              0\n",
       "Age            177\n",
       "SibSp            0\n",
       "Parch            0\n",
       "Ticket           0\n",
       "Fare             0\n",
       "Cabin          687\n",
       "Embarked         2\n",
       "dtype: int64"
      ]
     },
     "execution_count": 6,
     "metadata": {},
     "output_type": "execute_result"
    }
   ],
   "source": [
    "train_df.isna().sum()"
   ]
  },
  {
   "cell_type": "markdown",
   "id": "floating-zambia",
   "metadata": {
    "papermill": {
     "duration": 0.041351,
     "end_time": "2021-06-07T15:29:31.848815",
     "exception": false,
     "start_time": "2021-06-07T15:29:31.807464",
     "status": "completed"
    },
    "tags": []
   },
   "source": [
    "To simplify our analysis, we will drop the 'Ticket', 'Cabin' and 'Embarked' columns."
   ]
  },
  {
   "cell_type": "code",
   "execution_count": 7,
   "id": "egyptian-guidance",
   "metadata": {
    "execution": {
     "iopub.execute_input": "2021-06-07T15:29:31.935692Z",
     "iopub.status.busy": "2021-06-07T15:29:31.934666Z",
     "iopub.status.idle": "2021-06-07T15:29:31.940063Z",
     "shell.execute_reply": "2021-06-07T15:29:31.940583Z",
     "shell.execute_reply.started": "2021-06-07T13:11:56.410836Z"
    },
    "papermill": {
     "duration": 0.050634,
     "end_time": "2021-06-07T15:29:31.940748",
     "exception": false,
     "start_time": "2021-06-07T15:29:31.890114",
     "status": "completed"
    },
    "tags": []
   },
   "outputs": [],
   "source": [
    "train_df = train_df.drop(['Ticket', 'Cabin', 'Embarked'], axis=1)"
   ]
  },
  {
   "cell_type": "markdown",
   "id": "given-consortium",
   "metadata": {
    "papermill": {
     "duration": 0.041142,
     "end_time": "2021-06-07T15:29:32.023769",
     "exception": false,
     "start_time": "2021-06-07T15:29:31.982627",
     "status": "completed"
    },
    "tags": []
   },
   "source": [
    "**Creating new features from existing ones: Titles from Names**"
   ]
  },
  {
   "cell_type": "code",
   "execution_count": 8,
   "id": "about-tenant",
   "metadata": {
    "execution": {
     "iopub.execute_input": "2021-06-07T15:29:32.109930Z",
     "iopub.status.busy": "2021-06-07T15:29:32.108852Z",
     "iopub.status.idle": "2021-06-07T15:29:32.125633Z",
     "shell.execute_reply": "2021-06-07T15:29:32.125079Z",
     "shell.execute_reply.started": "2021-06-07T11:55:40.75294Z"
    },
    "papermill": {
     "duration": 0.060834,
     "end_time": "2021-06-07T15:29:32.125778",
     "exception": false,
     "start_time": "2021-06-07T15:29:32.064944",
     "status": "completed"
    },
    "tags": []
   },
   "outputs": [
    {
     "data": {
      "text/html": [
       "<div>\n",
       "<style scoped>\n",
       "    .dataframe tbody tr th:only-of-type {\n",
       "        vertical-align: middle;\n",
       "    }\n",
       "\n",
       "    .dataframe tbody tr th {\n",
       "        vertical-align: top;\n",
       "    }\n",
       "\n",
       "    .dataframe thead th {\n",
       "        text-align: right;\n",
       "    }\n",
       "</style>\n",
       "<table border=\"1\" class=\"dataframe\">\n",
       "  <thead>\n",
       "    <tr style=\"text-align: right;\">\n",
       "      <th></th>\n",
       "      <th>PassengerId</th>\n",
       "      <th>Survived</th>\n",
       "      <th>Pclass</th>\n",
       "      <th>Name</th>\n",
       "      <th>Sex</th>\n",
       "      <th>Age</th>\n",
       "      <th>SibSp</th>\n",
       "      <th>Parch</th>\n",
       "      <th>Fare</th>\n",
       "    </tr>\n",
       "  </thead>\n",
       "  <tbody>\n",
       "    <tr>\n",
       "      <th>0</th>\n",
       "      <td>1</td>\n",
       "      <td>0</td>\n",
       "      <td>3</td>\n",
       "      <td>Braund, Mr. Owen Harris</td>\n",
       "      <td>male</td>\n",
       "      <td>22.0</td>\n",
       "      <td>1</td>\n",
       "      <td>0</td>\n",
       "      <td>7.2500</td>\n",
       "    </tr>\n",
       "    <tr>\n",
       "      <th>1</th>\n",
       "      <td>2</td>\n",
       "      <td>1</td>\n",
       "      <td>1</td>\n",
       "      <td>Cumings, Mrs. John Bradley (Florence Briggs Th...</td>\n",
       "      <td>female</td>\n",
       "      <td>38.0</td>\n",
       "      <td>1</td>\n",
       "      <td>0</td>\n",
       "      <td>71.2833</td>\n",
       "    </tr>\n",
       "    <tr>\n",
       "      <th>2</th>\n",
       "      <td>3</td>\n",
       "      <td>1</td>\n",
       "      <td>3</td>\n",
       "      <td>Heikkinen, Miss. Laina</td>\n",
       "      <td>female</td>\n",
       "      <td>26.0</td>\n",
       "      <td>0</td>\n",
       "      <td>0</td>\n",
       "      <td>7.9250</td>\n",
       "    </tr>\n",
       "    <tr>\n",
       "      <th>3</th>\n",
       "      <td>4</td>\n",
       "      <td>1</td>\n",
       "      <td>1</td>\n",
       "      <td>Futrelle, Mrs. Jacques Heath (Lily May Peel)</td>\n",
       "      <td>female</td>\n",
       "      <td>35.0</td>\n",
       "      <td>1</td>\n",
       "      <td>0</td>\n",
       "      <td>53.1000</td>\n",
       "    </tr>\n",
       "    <tr>\n",
       "      <th>4</th>\n",
       "      <td>5</td>\n",
       "      <td>0</td>\n",
       "      <td>3</td>\n",
       "      <td>Allen, Mr. William Henry</td>\n",
       "      <td>male</td>\n",
       "      <td>35.0</td>\n",
       "      <td>0</td>\n",
       "      <td>0</td>\n",
       "      <td>8.0500</td>\n",
       "    </tr>\n",
       "    <tr>\n",
       "      <th>5</th>\n",
       "      <td>6</td>\n",
       "      <td>0</td>\n",
       "      <td>3</td>\n",
       "      <td>Moran, Mr. James</td>\n",
       "      <td>male</td>\n",
       "      <td>NaN</td>\n",
       "      <td>0</td>\n",
       "      <td>0</td>\n",
       "      <td>8.4583</td>\n",
       "    </tr>\n",
       "    <tr>\n",
       "      <th>6</th>\n",
       "      <td>7</td>\n",
       "      <td>0</td>\n",
       "      <td>1</td>\n",
       "      <td>McCarthy, Mr. Timothy J</td>\n",
       "      <td>male</td>\n",
       "      <td>54.0</td>\n",
       "      <td>0</td>\n",
       "      <td>0</td>\n",
       "      <td>51.8625</td>\n",
       "    </tr>\n",
       "    <tr>\n",
       "      <th>7</th>\n",
       "      <td>8</td>\n",
       "      <td>0</td>\n",
       "      <td>3</td>\n",
       "      <td>Palsson, Master. Gosta Leonard</td>\n",
       "      <td>male</td>\n",
       "      <td>2.0</td>\n",
       "      <td>3</td>\n",
       "      <td>1</td>\n",
       "      <td>21.0750</td>\n",
       "    </tr>\n",
       "    <tr>\n",
       "      <th>8</th>\n",
       "      <td>9</td>\n",
       "      <td>1</td>\n",
       "      <td>3</td>\n",
       "      <td>Johnson, Mrs. Oscar W (Elisabeth Vilhelmina Berg)</td>\n",
       "      <td>female</td>\n",
       "      <td>27.0</td>\n",
       "      <td>0</td>\n",
       "      <td>2</td>\n",
       "      <td>11.1333</td>\n",
       "    </tr>\n",
       "    <tr>\n",
       "      <th>9</th>\n",
       "      <td>10</td>\n",
       "      <td>1</td>\n",
       "      <td>2</td>\n",
       "      <td>Nasser, Mrs. Nicholas (Adele Achem)</td>\n",
       "      <td>female</td>\n",
       "      <td>14.0</td>\n",
       "      <td>1</td>\n",
       "      <td>0</td>\n",
       "      <td>30.0708</td>\n",
       "    </tr>\n",
       "  </tbody>\n",
       "</table>\n",
       "</div>"
      ],
      "text/plain": [
       "   PassengerId  Survived  Pclass  \\\n",
       "0            1         0       3   \n",
       "1            2         1       1   \n",
       "2            3         1       3   \n",
       "3            4         1       1   \n",
       "4            5         0       3   \n",
       "5            6         0       3   \n",
       "6            7         0       1   \n",
       "7            8         0       3   \n",
       "8            9         1       3   \n",
       "9           10         1       2   \n",
       "\n",
       "                                                Name     Sex   Age  SibSp  \\\n",
       "0                            Braund, Mr. Owen Harris    male  22.0      1   \n",
       "1  Cumings, Mrs. John Bradley (Florence Briggs Th...  female  38.0      1   \n",
       "2                             Heikkinen, Miss. Laina  female  26.0      0   \n",
       "3       Futrelle, Mrs. Jacques Heath (Lily May Peel)  female  35.0      1   \n",
       "4                           Allen, Mr. William Henry    male  35.0      0   \n",
       "5                                   Moran, Mr. James    male   NaN      0   \n",
       "6                            McCarthy, Mr. Timothy J    male  54.0      0   \n",
       "7                     Palsson, Master. Gosta Leonard    male   2.0      3   \n",
       "8  Johnson, Mrs. Oscar W (Elisabeth Vilhelmina Berg)  female  27.0      0   \n",
       "9                Nasser, Mrs. Nicholas (Adele Achem)  female  14.0      1   \n",
       "\n",
       "   Parch     Fare  \n",
       "0      0   7.2500  \n",
       "1      0  71.2833  \n",
       "2      0   7.9250  \n",
       "3      0  53.1000  \n",
       "4      0   8.0500  \n",
       "5      0   8.4583  \n",
       "6      0  51.8625  \n",
       "7      1  21.0750  \n",
       "8      2  11.1333  \n",
       "9      0  30.0708  "
      ]
     },
     "execution_count": 8,
     "metadata": {},
     "output_type": "execute_result"
    }
   ],
   "source": [
    "train_df.head(10)"
   ]
  },
  {
   "cell_type": "code",
   "execution_count": 10,
   "id": "distinct-monaco",
   "metadata": {
    "execution": {
     "iopub.execute_input": "2021-06-07T15:29:32.222608Z",
     "iopub.status.busy": "2021-06-07T15:29:32.222029Z",
     "iopub.status.idle": "2021-06-07T15:29:32.249650Z",
     "shell.execute_reply": "2021-06-07T15:29:32.250128Z",
     "shell.execute_reply.started": "2021-06-07T13:14:20.123844Z"
    },
    "papermill": {
     "duration": 0.082386,
     "end_time": "2021-06-07T15:29:32.250289",
     "exception": false,
     "start_time": "2021-06-07T15:29:32.167903",
     "status": "completed"
    },
    "tags": []
   },
   "outputs": [
    {
     "data": {
      "text/html": [
       "<div>\n",
       "<style scoped>\n",
       "    .dataframe tbody tr th:only-of-type {\n",
       "        vertical-align: middle;\n",
       "    }\n",
       "\n",
       "    .dataframe tbody tr th {\n",
       "        vertical-align: top;\n",
       "    }\n",
       "\n",
       "    .dataframe thead th {\n",
       "        text-align: right;\n",
       "    }\n",
       "</style>\n",
       "<table border=\"1\" class=\"dataframe\">\n",
       "  <thead>\n",
       "    <tr style=\"text-align: right;\">\n",
       "      <th>Sex</th>\n",
       "      <th>female</th>\n",
       "      <th>male</th>\n",
       "    </tr>\n",
       "    <tr>\n",
       "      <th>Title</th>\n",
       "      <th></th>\n",
       "      <th></th>\n",
       "    </tr>\n",
       "  </thead>\n",
       "  <tbody>\n",
       "    <tr>\n",
       "      <th>Capt</th>\n",
       "      <td>0</td>\n",
       "      <td>1</td>\n",
       "    </tr>\n",
       "    <tr>\n",
       "      <th>Col</th>\n",
       "      <td>0</td>\n",
       "      <td>2</td>\n",
       "    </tr>\n",
       "    <tr>\n",
       "      <th>Countess</th>\n",
       "      <td>1</td>\n",
       "      <td>0</td>\n",
       "    </tr>\n",
       "    <tr>\n",
       "      <th>Don</th>\n",
       "      <td>0</td>\n",
       "      <td>1</td>\n",
       "    </tr>\n",
       "    <tr>\n",
       "      <th>Dr</th>\n",
       "      <td>1</td>\n",
       "      <td>6</td>\n",
       "    </tr>\n",
       "    <tr>\n",
       "      <th>Jonkheer</th>\n",
       "      <td>0</td>\n",
       "      <td>1</td>\n",
       "    </tr>\n",
       "    <tr>\n",
       "      <th>Lady</th>\n",
       "      <td>1</td>\n",
       "      <td>0</td>\n",
       "    </tr>\n",
       "    <tr>\n",
       "      <th>Major</th>\n",
       "      <td>0</td>\n",
       "      <td>2</td>\n",
       "    </tr>\n",
       "    <tr>\n",
       "      <th>Master</th>\n",
       "      <td>0</td>\n",
       "      <td>40</td>\n",
       "    </tr>\n",
       "    <tr>\n",
       "      <th>Miss</th>\n",
       "      <td>182</td>\n",
       "      <td>0</td>\n",
       "    </tr>\n",
       "    <tr>\n",
       "      <th>Mlle</th>\n",
       "      <td>2</td>\n",
       "      <td>0</td>\n",
       "    </tr>\n",
       "    <tr>\n",
       "      <th>Mme</th>\n",
       "      <td>1</td>\n",
       "      <td>0</td>\n",
       "    </tr>\n",
       "    <tr>\n",
       "      <th>Mr</th>\n",
       "      <td>0</td>\n",
       "      <td>517</td>\n",
       "    </tr>\n",
       "    <tr>\n",
       "      <th>Mrs</th>\n",
       "      <td>125</td>\n",
       "      <td>0</td>\n",
       "    </tr>\n",
       "    <tr>\n",
       "      <th>Ms</th>\n",
       "      <td>1</td>\n",
       "      <td>0</td>\n",
       "    </tr>\n",
       "    <tr>\n",
       "      <th>Rev</th>\n",
       "      <td>0</td>\n",
       "      <td>6</td>\n",
       "    </tr>\n",
       "    <tr>\n",
       "      <th>Sir</th>\n",
       "      <td>0</td>\n",
       "      <td>1</td>\n",
       "    </tr>\n",
       "  </tbody>\n",
       "</table>\n",
       "</div>"
      ],
      "text/plain": [
       "Sex       female  male\n",
       "Title                 \n",
       "Capt           0     1\n",
       "Col            0     2\n",
       "Countess       1     0\n",
       "Don            0     1\n",
       "Dr             1     6\n",
       "Jonkheer       0     1\n",
       "Lady           1     0\n",
       "Major          0     2\n",
       "Master         0    40\n",
       "Miss         182     0\n",
       "Mlle           2     0\n",
       "Mme            1     0\n",
       "Mr             0   517\n",
       "Mrs          125     0\n",
       "Ms             1     0\n",
       "Rev            0     6\n",
       "Sir            0     1"
      ]
     },
     "execution_count": 10,
     "metadata": {},
     "output_type": "execute_result"
    }
   ],
   "source": [
    "train_df['Title'] = train_df.Name.str.extract('([A-Za-z]+)\\.')\n",
    "\n",
    "pd.crosstab(train_df['Title'], train_df['Sex'])"
   ]
  },
  {
   "cell_type": "code",
   "execution_count": 11,
   "id": "hydraulic-rebecca",
   "metadata": {
    "execution": {
     "iopub.execute_input": "2021-06-07T15:29:32.338443Z",
     "iopub.status.busy": "2021-06-07T15:29:32.337858Z",
     "iopub.status.idle": "2021-06-07T15:29:32.357461Z",
     "shell.execute_reply": "2021-06-07T15:29:32.356824Z",
     "shell.execute_reply.started": "2021-06-07T13:15:55.080235Z"
    },
    "papermill": {
     "duration": 0.064612,
     "end_time": "2021-06-07T15:29:32.357596",
     "exception": false,
     "start_time": "2021-06-07T15:29:32.292984",
     "status": "completed"
    },
    "tags": []
   },
   "outputs": [
    {
     "data": {
      "text/html": [
       "<div>\n",
       "<style scoped>\n",
       "    .dataframe tbody tr th:only-of-type {\n",
       "        vertical-align: middle;\n",
       "    }\n",
       "\n",
       "    .dataframe tbody tr th {\n",
       "        vertical-align: top;\n",
       "    }\n",
       "\n",
       "    .dataframe thead th {\n",
       "        text-align: right;\n",
       "    }\n",
       "</style>\n",
       "<table border=\"1\" class=\"dataframe\">\n",
       "  <thead>\n",
       "    <tr style=\"text-align: right;\">\n",
       "      <th></th>\n",
       "      <th>Title</th>\n",
       "      <th>Survived</th>\n",
       "    </tr>\n",
       "  </thead>\n",
       "  <tbody>\n",
       "    <tr>\n",
       "      <th>0</th>\n",
       "      <td>Master</td>\n",
       "      <td>0.575000</td>\n",
       "    </tr>\n",
       "    <tr>\n",
       "      <th>1</th>\n",
       "      <td>Miss</td>\n",
       "      <td>0.702703</td>\n",
       "    </tr>\n",
       "    <tr>\n",
       "      <th>2</th>\n",
       "      <td>Mr</td>\n",
       "      <td>0.156673</td>\n",
       "    </tr>\n",
       "    <tr>\n",
       "      <th>3</th>\n",
       "      <td>Mrs</td>\n",
       "      <td>0.793651</td>\n",
       "    </tr>\n",
       "    <tr>\n",
       "      <th>4</th>\n",
       "      <td>Rare</td>\n",
       "      <td>0.347826</td>\n",
       "    </tr>\n",
       "  </tbody>\n",
       "</table>\n",
       "</div>"
      ],
      "text/plain": [
       "    Title  Survived\n",
       "0  Master  0.575000\n",
       "1    Miss  0.702703\n",
       "2      Mr  0.156673\n",
       "3     Mrs  0.793651\n",
       "4    Rare  0.347826"
      ]
     },
     "execution_count": 11,
     "metadata": {},
     "output_type": "execute_result"
    }
   ],
   "source": [
    "train_df['Title'] = train_df['Title'].replace(['Lady', 'Countess','Capt', 'Col',\\\n",
    "'Don', 'Dr', 'Major', 'Rev', 'Sir', 'Jonkheer', 'Dona'], 'Rare')\n",
    "\n",
    "train_df['Title'] = train_df['Title'].replace('Mlle', 'Miss')\n",
    "train_df['Title'] = train_df['Title'].replace('Ms', 'Miss')\n",
    "train_df['Title'] = train_df['Title'].replace('Mme', 'Mrs')\n",
    "    \n",
    "train_df[['Title', 'Survived']].groupby(['Title'], as_index=False).mean()"
   ]
  },
  {
   "cell_type": "markdown",
   "id": "optional-continent",
   "metadata": {
    "papermill": {
     "duration": 0.042416,
     "end_time": "2021-06-07T15:29:32.443178",
     "exception": false,
     "start_time": "2021-06-07T15:29:32.400762",
     "status": "completed"
    },
    "tags": []
   },
   "source": [
    "Encoding categorical variables into numbers can be often problematic. There are many ways to do this, which you will see in the next courses. Here, we will keep it simple and just assign to each string a number "
   ]
  },
  {
   "cell_type": "code",
   "execution_count": 12,
   "id": "hindu-release",
   "metadata": {
    "execution": {
     "iopub.execute_input": "2021-06-07T15:29:32.531875Z",
     "iopub.status.busy": "2021-06-07T15:29:32.530994Z",
     "iopub.status.idle": "2021-06-07T15:29:32.549784Z",
     "shell.execute_reply": "2021-06-07T15:29:32.550261Z",
     "shell.execute_reply.started": "2021-06-07T13:16:48.655554Z"
    },
    "papermill": {
     "duration": 0.06417,
     "end_time": "2021-06-07T15:29:32.550434",
     "exception": false,
     "start_time": "2021-06-07T15:29:32.486264",
     "status": "completed"
    },
    "tags": []
   },
   "outputs": [
    {
     "data": {
      "text/html": [
       "<div>\n",
       "<style scoped>\n",
       "    .dataframe tbody tr th:only-of-type {\n",
       "        vertical-align: middle;\n",
       "    }\n",
       "\n",
       "    .dataframe tbody tr th {\n",
       "        vertical-align: top;\n",
       "    }\n",
       "\n",
       "    .dataframe thead th {\n",
       "        text-align: right;\n",
       "    }\n",
       "</style>\n",
       "<table border=\"1\" class=\"dataframe\">\n",
       "  <thead>\n",
       "    <tr style=\"text-align: right;\">\n",
       "      <th></th>\n",
       "      <th>PassengerId</th>\n",
       "      <th>Survived</th>\n",
       "      <th>Pclass</th>\n",
       "      <th>Name</th>\n",
       "      <th>Sex</th>\n",
       "      <th>Age</th>\n",
       "      <th>SibSp</th>\n",
       "      <th>Parch</th>\n",
       "      <th>Fare</th>\n",
       "      <th>Title</th>\n",
       "      <th>is_female</th>\n",
       "    </tr>\n",
       "  </thead>\n",
       "  <tbody>\n",
       "    <tr>\n",
       "      <th>0</th>\n",
       "      <td>1</td>\n",
       "      <td>0</td>\n",
       "      <td>3</td>\n",
       "      <td>Braund, Mr. Owen Harris</td>\n",
       "      <td>male</td>\n",
       "      <td>22.0</td>\n",
       "      <td>1</td>\n",
       "      <td>0</td>\n",
       "      <td>7.2500</td>\n",
       "      <td>1</td>\n",
       "      <td>0</td>\n",
       "    </tr>\n",
       "    <tr>\n",
       "      <th>1</th>\n",
       "      <td>2</td>\n",
       "      <td>1</td>\n",
       "      <td>1</td>\n",
       "      <td>Cumings, Mrs. John Bradley (Florence Briggs Th...</td>\n",
       "      <td>female</td>\n",
       "      <td>38.0</td>\n",
       "      <td>1</td>\n",
       "      <td>0</td>\n",
       "      <td>71.2833</td>\n",
       "      <td>3</td>\n",
       "      <td>1</td>\n",
       "    </tr>\n",
       "    <tr>\n",
       "      <th>2</th>\n",
       "      <td>3</td>\n",
       "      <td>1</td>\n",
       "      <td>3</td>\n",
       "      <td>Heikkinen, Miss. Laina</td>\n",
       "      <td>female</td>\n",
       "      <td>26.0</td>\n",
       "      <td>0</td>\n",
       "      <td>0</td>\n",
       "      <td>7.9250</td>\n",
       "      <td>2</td>\n",
       "      <td>1</td>\n",
       "    </tr>\n",
       "    <tr>\n",
       "      <th>3</th>\n",
       "      <td>4</td>\n",
       "      <td>1</td>\n",
       "      <td>1</td>\n",
       "      <td>Futrelle, Mrs. Jacques Heath (Lily May Peel)</td>\n",
       "      <td>female</td>\n",
       "      <td>35.0</td>\n",
       "      <td>1</td>\n",
       "      <td>0</td>\n",
       "      <td>53.1000</td>\n",
       "      <td>3</td>\n",
       "      <td>1</td>\n",
       "    </tr>\n",
       "    <tr>\n",
       "      <th>4</th>\n",
       "      <td>5</td>\n",
       "      <td>0</td>\n",
       "      <td>3</td>\n",
       "      <td>Allen, Mr. William Henry</td>\n",
       "      <td>male</td>\n",
       "      <td>35.0</td>\n",
       "      <td>0</td>\n",
       "      <td>0</td>\n",
       "      <td>8.0500</td>\n",
       "      <td>1</td>\n",
       "      <td>0</td>\n",
       "    </tr>\n",
       "  </tbody>\n",
       "</table>\n",
       "</div>"
      ],
      "text/plain": [
       "   PassengerId  Survived  Pclass  \\\n",
       "0            1         0       3   \n",
       "1            2         1       1   \n",
       "2            3         1       3   \n",
       "3            4         1       1   \n",
       "4            5         0       3   \n",
       "\n",
       "                                                Name     Sex   Age  SibSp  \\\n",
       "0                            Braund, Mr. Owen Harris    male  22.0      1   \n",
       "1  Cumings, Mrs. John Bradley (Florence Briggs Th...  female  38.0      1   \n",
       "2                             Heikkinen, Miss. Laina  female  26.0      0   \n",
       "3       Futrelle, Mrs. Jacques Heath (Lily May Peel)  female  35.0      1   \n",
       "4                           Allen, Mr. William Henry    male  35.0      0   \n",
       "\n",
       "   Parch     Fare  Title  is_female  \n",
       "0      0   7.2500      1          0  \n",
       "1      0  71.2833      3          1  \n",
       "2      0   7.9250      2          1  \n",
       "3      0  53.1000      3          1  \n",
       "4      0   8.0500      1          0  "
      ]
     },
     "execution_count": 12,
     "metadata": {},
     "output_type": "execute_result"
    }
   ],
   "source": [
    "title_mapping = {\"Mr\": 1, \"Miss\": 2, \"Mrs\": 3, \"Master\": 4, \"Rare\": 5}\n",
    "\n",
    "train_df['Title'] = train_df['Title'].map(title_mapping)\n",
    "train_df['is_female'] = train_df['Sex'].map( {'female': 1, 'male': 0} ).astype(int)\n",
    "\n",
    "train_df.head()"
   ]
  },
  {
   "cell_type": "markdown",
   "id": "serial-difference",
   "metadata": {
    "papermill": {
     "duration": 0.04312,
     "end_time": "2021-06-07T15:29:32.637260",
     "exception": false,
     "start_time": "2021-06-07T15:29:32.594140",
     "status": "completed"
    },
    "tags": []
   },
   "source": [
    "It is often useful to encode categorical variables into one-hot encodings. "
   ]
  },
  {
   "cell_type": "code",
   "execution_count": 13,
   "id": "elder-disposition",
   "metadata": {
    "execution": {
     "iopub.execute_input": "2021-06-07T15:29:32.730627Z",
     "iopub.status.busy": "2021-06-07T15:29:32.730007Z",
     "iopub.status.idle": "2021-06-07T15:29:32.735460Z",
     "shell.execute_reply": "2021-06-07T15:29:32.736009Z",
     "shell.execute_reply.started": "2021-06-07T13:17:27.445245Z"
    },
    "papermill": {
     "duration": 0.055568,
     "end_time": "2021-06-07T15:29:32.736164",
     "exception": false,
     "start_time": "2021-06-07T15:29:32.680596",
     "status": "completed"
    },
    "tags": []
   },
   "outputs": [],
   "source": [
    "train_df[['is_mr', 'is_miss', 'is_mrs', 'is_master', 'is_rare_title']] = pd.get_dummies(train_df[\"Title\"])"
   ]
  },
  {
   "cell_type": "code",
   "execution_count": 14,
   "id": "neither-german",
   "metadata": {
    "execution": {
     "iopub.execute_input": "2021-06-07T15:29:32.826255Z",
     "iopub.status.busy": "2021-06-07T15:29:32.825672Z",
     "iopub.status.idle": "2021-06-07T15:29:32.841056Z",
     "shell.execute_reply": "2021-06-07T15:29:32.841625Z",
     "shell.execute_reply.started": "2021-06-07T13:17:29.077893Z"
    },
    "papermill": {
     "duration": 0.061826,
     "end_time": "2021-06-07T15:29:32.841797",
     "exception": false,
     "start_time": "2021-06-07T15:29:32.779971",
     "status": "completed"
    },
    "tags": []
   },
   "outputs": [
    {
     "data": {
      "text/html": [
       "<div>\n",
       "<style scoped>\n",
       "    .dataframe tbody tr th:only-of-type {\n",
       "        vertical-align: middle;\n",
       "    }\n",
       "\n",
       "    .dataframe tbody tr th {\n",
       "        vertical-align: top;\n",
       "    }\n",
       "\n",
       "    .dataframe thead th {\n",
       "        text-align: right;\n",
       "    }\n",
       "</style>\n",
       "<table border=\"1\" class=\"dataframe\">\n",
       "  <thead>\n",
       "    <tr style=\"text-align: right;\">\n",
       "      <th></th>\n",
       "      <th>PassengerId</th>\n",
       "      <th>Survived</th>\n",
       "      <th>Pclass</th>\n",
       "      <th>Name</th>\n",
       "      <th>Sex</th>\n",
       "      <th>Age</th>\n",
       "      <th>SibSp</th>\n",
       "      <th>Parch</th>\n",
       "      <th>Fare</th>\n",
       "      <th>Title</th>\n",
       "      <th>is_female</th>\n",
       "      <th>is_mr</th>\n",
       "      <th>is_miss</th>\n",
       "      <th>is_mrs</th>\n",
       "      <th>is_master</th>\n",
       "      <th>is_rare_title</th>\n",
       "    </tr>\n",
       "  </thead>\n",
       "  <tbody>\n",
       "    <tr>\n",
       "      <th>0</th>\n",
       "      <td>1</td>\n",
       "      <td>0</td>\n",
       "      <td>3</td>\n",
       "      <td>Braund, Mr. Owen Harris</td>\n",
       "      <td>male</td>\n",
       "      <td>22.0</td>\n",
       "      <td>1</td>\n",
       "      <td>0</td>\n",
       "      <td>7.2500</td>\n",
       "      <td>1</td>\n",
       "      <td>0</td>\n",
       "      <td>1</td>\n",
       "      <td>0</td>\n",
       "      <td>0</td>\n",
       "      <td>0</td>\n",
       "      <td>0</td>\n",
       "    </tr>\n",
       "    <tr>\n",
       "      <th>1</th>\n",
       "      <td>2</td>\n",
       "      <td>1</td>\n",
       "      <td>1</td>\n",
       "      <td>Cumings, Mrs. John Bradley (Florence Briggs Th...</td>\n",
       "      <td>female</td>\n",
       "      <td>38.0</td>\n",
       "      <td>1</td>\n",
       "      <td>0</td>\n",
       "      <td>71.2833</td>\n",
       "      <td>3</td>\n",
       "      <td>1</td>\n",
       "      <td>0</td>\n",
       "      <td>0</td>\n",
       "      <td>1</td>\n",
       "      <td>0</td>\n",
       "      <td>0</td>\n",
       "    </tr>\n",
       "    <tr>\n",
       "      <th>2</th>\n",
       "      <td>3</td>\n",
       "      <td>1</td>\n",
       "      <td>3</td>\n",
       "      <td>Heikkinen, Miss. Laina</td>\n",
       "      <td>female</td>\n",
       "      <td>26.0</td>\n",
       "      <td>0</td>\n",
       "      <td>0</td>\n",
       "      <td>7.9250</td>\n",
       "      <td>2</td>\n",
       "      <td>1</td>\n",
       "      <td>0</td>\n",
       "      <td>1</td>\n",
       "      <td>0</td>\n",
       "      <td>0</td>\n",
       "      <td>0</td>\n",
       "    </tr>\n",
       "    <tr>\n",
       "      <th>3</th>\n",
       "      <td>4</td>\n",
       "      <td>1</td>\n",
       "      <td>1</td>\n",
       "      <td>Futrelle, Mrs. Jacques Heath (Lily May Peel)</td>\n",
       "      <td>female</td>\n",
       "      <td>35.0</td>\n",
       "      <td>1</td>\n",
       "      <td>0</td>\n",
       "      <td>53.1000</td>\n",
       "      <td>3</td>\n",
       "      <td>1</td>\n",
       "      <td>0</td>\n",
       "      <td>0</td>\n",
       "      <td>1</td>\n",
       "      <td>0</td>\n",
       "      <td>0</td>\n",
       "    </tr>\n",
       "    <tr>\n",
       "      <th>4</th>\n",
       "      <td>5</td>\n",
       "      <td>0</td>\n",
       "      <td>3</td>\n",
       "      <td>Allen, Mr. William Henry</td>\n",
       "      <td>male</td>\n",
       "      <td>35.0</td>\n",
       "      <td>0</td>\n",
       "      <td>0</td>\n",
       "      <td>8.0500</td>\n",
       "      <td>1</td>\n",
       "      <td>0</td>\n",
       "      <td>1</td>\n",
       "      <td>0</td>\n",
       "      <td>0</td>\n",
       "      <td>0</td>\n",
       "      <td>0</td>\n",
       "    </tr>\n",
       "  </tbody>\n",
       "</table>\n",
       "</div>"
      ],
      "text/plain": [
       "   PassengerId  Survived  Pclass  \\\n",
       "0            1         0       3   \n",
       "1            2         1       1   \n",
       "2            3         1       3   \n",
       "3            4         1       1   \n",
       "4            5         0       3   \n",
       "\n",
       "                                                Name     Sex   Age  SibSp  \\\n",
       "0                            Braund, Mr. Owen Harris    male  22.0      1   \n",
       "1  Cumings, Mrs. John Bradley (Florence Briggs Th...  female  38.0      1   \n",
       "2                             Heikkinen, Miss. Laina  female  26.0      0   \n",
       "3       Futrelle, Mrs. Jacques Heath (Lily May Peel)  female  35.0      1   \n",
       "4                           Allen, Mr. William Henry    male  35.0      0   \n",
       "\n",
       "   Parch     Fare  Title  is_female  is_mr  is_miss  is_mrs  is_master  \\\n",
       "0      0   7.2500      1          0      1        0       0          0   \n",
       "1      0  71.2833      3          1      0        0       1          0   \n",
       "2      0   7.9250      2          1      0        1       0          0   \n",
       "3      0  53.1000      3          1      0        0       1          0   \n",
       "4      0   8.0500      1          0      1        0       0          0   \n",
       "\n",
       "   is_rare_title  \n",
       "0              0  \n",
       "1              0  \n",
       "2              0  \n",
       "3              0  \n",
       "4              0  "
      ]
     },
     "execution_count": 14,
     "metadata": {},
     "output_type": "execute_result"
    }
   ],
   "source": [
    "train_df.head()"
   ]
  },
  {
   "cell_type": "markdown",
   "id": "technical-peter",
   "metadata": {
    "papermill": {
     "duration": 0.043529,
     "end_time": "2021-06-07T15:29:32.928961",
     "exception": false,
     "start_time": "2021-06-07T15:29:32.885432",
     "status": "completed"
    },
    "tags": []
   },
   "source": [
    "At this point, we can drop the 'Name', 'Sex' and 'Title' columnns"
   ]
  },
  {
   "cell_type": "code",
   "execution_count": 15,
   "id": "exciting-victoria",
   "metadata": {
    "execution": {
     "iopub.execute_input": "2021-06-07T15:29:33.019574Z",
     "iopub.status.busy": "2021-06-07T15:29:33.019014Z",
     "iopub.status.idle": "2021-06-07T15:29:33.024494Z",
     "shell.execute_reply": "2021-06-07T15:29:33.025048Z",
     "shell.execute_reply.started": "2021-06-07T13:18:18.065561Z"
    },
    "papermill": {
     "duration": 0.052395,
     "end_time": "2021-06-07T15:29:33.025205",
     "exception": false,
     "start_time": "2021-06-07T15:29:32.972810",
     "status": "completed"
    },
    "tags": []
   },
   "outputs": [],
   "source": [
    "train_df.drop(['Name', 'Sex', 'Title'] , axis=1, inplace = True)"
   ]
  },
  {
   "cell_type": "code",
   "execution_count": 16,
   "id": "engaging-franklin",
   "metadata": {
    "execution": {
     "iopub.execute_input": "2021-06-07T15:29:33.117212Z",
     "iopub.status.busy": "2021-06-07T15:29:33.116632Z",
     "iopub.status.idle": "2021-06-07T15:29:33.131157Z",
     "shell.execute_reply": "2021-06-07T15:29:33.130615Z",
     "shell.execute_reply.started": "2021-06-07T13:18:21.642122Z"
    },
    "papermill": {
     "duration": 0.061478,
     "end_time": "2021-06-07T15:29:33.131288",
     "exception": false,
     "start_time": "2021-06-07T15:29:33.069810",
     "status": "completed"
    },
    "tags": []
   },
   "outputs": [
    {
     "data": {
      "text/html": [
       "<div>\n",
       "<style scoped>\n",
       "    .dataframe tbody tr th:only-of-type {\n",
       "        vertical-align: middle;\n",
       "    }\n",
       "\n",
       "    .dataframe tbody tr th {\n",
       "        vertical-align: top;\n",
       "    }\n",
       "\n",
       "    .dataframe thead th {\n",
       "        text-align: right;\n",
       "    }\n",
       "</style>\n",
       "<table border=\"1\" class=\"dataframe\">\n",
       "  <thead>\n",
       "    <tr style=\"text-align: right;\">\n",
       "      <th></th>\n",
       "      <th>PassengerId</th>\n",
       "      <th>Survived</th>\n",
       "      <th>Pclass</th>\n",
       "      <th>Age</th>\n",
       "      <th>SibSp</th>\n",
       "      <th>Parch</th>\n",
       "      <th>Fare</th>\n",
       "      <th>is_female</th>\n",
       "      <th>is_mr</th>\n",
       "      <th>is_miss</th>\n",
       "      <th>is_mrs</th>\n",
       "      <th>is_master</th>\n",
       "      <th>is_rare_title</th>\n",
       "    </tr>\n",
       "  </thead>\n",
       "  <tbody>\n",
       "    <tr>\n",
       "      <th>0</th>\n",
       "      <td>1</td>\n",
       "      <td>0</td>\n",
       "      <td>3</td>\n",
       "      <td>22.0</td>\n",
       "      <td>1</td>\n",
       "      <td>0</td>\n",
       "      <td>7.2500</td>\n",
       "      <td>0</td>\n",
       "      <td>1</td>\n",
       "      <td>0</td>\n",
       "      <td>0</td>\n",
       "      <td>0</td>\n",
       "      <td>0</td>\n",
       "    </tr>\n",
       "    <tr>\n",
       "      <th>1</th>\n",
       "      <td>2</td>\n",
       "      <td>1</td>\n",
       "      <td>1</td>\n",
       "      <td>38.0</td>\n",
       "      <td>1</td>\n",
       "      <td>0</td>\n",
       "      <td>71.2833</td>\n",
       "      <td>1</td>\n",
       "      <td>0</td>\n",
       "      <td>0</td>\n",
       "      <td>1</td>\n",
       "      <td>0</td>\n",
       "      <td>0</td>\n",
       "    </tr>\n",
       "    <tr>\n",
       "      <th>2</th>\n",
       "      <td>3</td>\n",
       "      <td>1</td>\n",
       "      <td>3</td>\n",
       "      <td>26.0</td>\n",
       "      <td>0</td>\n",
       "      <td>0</td>\n",
       "      <td>7.9250</td>\n",
       "      <td>1</td>\n",
       "      <td>0</td>\n",
       "      <td>1</td>\n",
       "      <td>0</td>\n",
       "      <td>0</td>\n",
       "      <td>0</td>\n",
       "    </tr>\n",
       "    <tr>\n",
       "      <th>3</th>\n",
       "      <td>4</td>\n",
       "      <td>1</td>\n",
       "      <td>1</td>\n",
       "      <td>35.0</td>\n",
       "      <td>1</td>\n",
       "      <td>0</td>\n",
       "      <td>53.1000</td>\n",
       "      <td>1</td>\n",
       "      <td>0</td>\n",
       "      <td>0</td>\n",
       "      <td>1</td>\n",
       "      <td>0</td>\n",
       "      <td>0</td>\n",
       "    </tr>\n",
       "    <tr>\n",
       "      <th>4</th>\n",
       "      <td>5</td>\n",
       "      <td>0</td>\n",
       "      <td>3</td>\n",
       "      <td>35.0</td>\n",
       "      <td>0</td>\n",
       "      <td>0</td>\n",
       "      <td>8.0500</td>\n",
       "      <td>0</td>\n",
       "      <td>1</td>\n",
       "      <td>0</td>\n",
       "      <td>0</td>\n",
       "      <td>0</td>\n",
       "      <td>0</td>\n",
       "    </tr>\n",
       "  </tbody>\n",
       "</table>\n",
       "</div>"
      ],
      "text/plain": [
       "   PassengerId  Survived  Pclass   Age  SibSp  Parch     Fare  is_female  \\\n",
       "0            1         0       3  22.0      1      0   7.2500          0   \n",
       "1            2         1       1  38.0      1      0  71.2833          1   \n",
       "2            3         1       3  26.0      0      0   7.9250          1   \n",
       "3            4         1       1  35.0      1      0  53.1000          1   \n",
       "4            5         0       3  35.0      0      0   8.0500          0   \n",
       "\n",
       "   is_mr  is_miss  is_mrs  is_master  is_rare_title  \n",
       "0      1        0       0          0              0  \n",
       "1      0        0       1          0              0  \n",
       "2      0        1       0          0              0  \n",
       "3      0        0       1          0              0  \n",
       "4      1        0       0          0              0  "
      ]
     },
     "execution_count": 16,
     "metadata": {},
     "output_type": "execute_result"
    }
   ],
   "source": [
    "train_df.head()"
   ]
  },
  {
   "cell_type": "markdown",
   "id": "average-sessions",
   "metadata": {
    "papermill": {
     "duration": 0.044158,
     "end_time": "2021-06-07T15:29:33.220238",
     "exception": false,
     "start_time": "2021-06-07T15:29:33.176080",
     "status": "completed"
    },
    "tags": []
   },
   "source": [
    "# Cleaning Numerical features"
   ]
  },
  {
   "cell_type": "markdown",
   "id": "fallen-consolidation",
   "metadata": {
    "papermill": {
     "duration": 0.044169,
     "end_time": "2021-06-07T15:29:33.308271",
     "exception": false,
     "start_time": "2021-06-07T15:29:33.264102",
     "status": "completed"
    },
    "tags": []
   },
   "source": [
    "Now that we have dealt with categorical columns in our dataframe, we can move on to analysing the numerical columns.\n",
    "\n",
    "Contrary to before, we will start with creating some new features that may help in our modelling. First, we associate for each passenger the number of family members"
   ]
  },
  {
   "cell_type": "code",
   "execution_count": 18,
   "id": "traditional-installation",
   "metadata": {
    "execution": {
     "iopub.execute_input": "2021-06-07T15:29:33.405363Z",
     "iopub.status.busy": "2021-06-07T15:29:33.404749Z",
     "iopub.status.idle": "2021-06-07T15:29:33.414496Z",
     "shell.execute_reply": "2021-06-07T15:29:33.415020Z",
     "shell.execute_reply.started": "2021-06-07T13:19:06.791713Z"
    },
    "papermill": {
     "duration": 0.061472,
     "end_time": "2021-06-07T15:29:33.415177",
     "exception": false,
     "start_time": "2021-06-07T15:29:33.353705",
     "status": "completed"
    },
    "tags": []
   },
   "outputs": [
    {
     "data": {
      "text/html": [
       "<div>\n",
       "<style scoped>\n",
       "    .dataframe tbody tr th:only-of-type {\n",
       "        vertical-align: middle;\n",
       "    }\n",
       "\n",
       "    .dataframe tbody tr th {\n",
       "        vertical-align: top;\n",
       "    }\n",
       "\n",
       "    .dataframe thead th {\n",
       "        text-align: right;\n",
       "    }\n",
       "</style>\n",
       "<table border=\"1\" class=\"dataframe\">\n",
       "  <thead>\n",
       "    <tr style=\"text-align: right;\">\n",
       "      <th></th>\n",
       "      <th>Survived</th>\n",
       "    </tr>\n",
       "    <tr>\n",
       "      <th>FamilySize</th>\n",
       "      <th></th>\n",
       "    </tr>\n",
       "  </thead>\n",
       "  <tbody>\n",
       "    <tr>\n",
       "      <th>4</th>\n",
       "      <td>0.724138</td>\n",
       "    </tr>\n",
       "    <tr>\n",
       "      <th>3</th>\n",
       "      <td>0.578431</td>\n",
       "    </tr>\n",
       "    <tr>\n",
       "      <th>2</th>\n",
       "      <td>0.552795</td>\n",
       "    </tr>\n",
       "    <tr>\n",
       "      <th>7</th>\n",
       "      <td>0.333333</td>\n",
       "    </tr>\n",
       "    <tr>\n",
       "      <th>1</th>\n",
       "      <td>0.303538</td>\n",
       "    </tr>\n",
       "    <tr>\n",
       "      <th>5</th>\n",
       "      <td>0.200000</td>\n",
       "    </tr>\n",
       "    <tr>\n",
       "      <th>6</th>\n",
       "      <td>0.136364</td>\n",
       "    </tr>\n",
       "    <tr>\n",
       "      <th>8</th>\n",
       "      <td>0.000000</td>\n",
       "    </tr>\n",
       "    <tr>\n",
       "      <th>11</th>\n",
       "      <td>0.000000</td>\n",
       "    </tr>\n",
       "  </tbody>\n",
       "</table>\n",
       "</div>"
      ],
      "text/plain": [
       "            Survived\n",
       "FamilySize          \n",
       "4           0.724138\n",
       "3           0.578431\n",
       "2           0.552795\n",
       "7           0.333333\n",
       "1           0.303538\n",
       "5           0.200000\n",
       "6           0.136364\n",
       "8           0.000000\n",
       "11          0.000000"
      ]
     },
     "execution_count": 18,
     "metadata": {},
     "output_type": "execute_result"
    }
   ],
   "source": [
    "train_df['FamilySize'] = train_df['SibSp'] + train_df['Parch'] + 1\n",
    "\n",
    "train_df[['FamilySize', 'Survived']].groupby('FamilySize').mean().sort_values(by='Survived', ascending=False)"
   ]
  },
  {
   "cell_type": "markdown",
   "id": "economic-board",
   "metadata": {
    "papermill": {
     "duration": 0.044674,
     "end_time": "2021-06-07T15:29:33.504732",
     "exception": false,
     "start_time": "2021-06-07T15:29:33.460058",
     "status": "completed"
    },
    "tags": []
   },
   "source": [
    "Another similar feature we can extract is whether a person was alone or not"
   ]
  },
  {
   "cell_type": "code",
   "execution_count": 19,
   "id": "northern-pearl",
   "metadata": {
    "execution": {
     "iopub.execute_input": "2021-06-07T15:29:33.601649Z",
     "iopub.status.busy": "2021-06-07T15:29:33.601027Z",
     "iopub.status.idle": "2021-06-07T15:29:33.610626Z",
     "shell.execute_reply": "2021-06-07T15:29:33.611110Z",
     "shell.execute_reply.started": "2021-06-07T13:19:31.481014Z"
    },
    "papermill": {
     "duration": 0.061569,
     "end_time": "2021-06-07T15:29:33.611273",
     "exception": false,
     "start_time": "2021-06-07T15:29:33.549704",
     "status": "completed"
    },
    "tags": []
   },
   "outputs": [
    {
     "data": {
      "text/html": [
       "<div>\n",
       "<style scoped>\n",
       "    .dataframe tbody tr th:only-of-type {\n",
       "        vertical-align: middle;\n",
       "    }\n",
       "\n",
       "    .dataframe tbody tr th {\n",
       "        vertical-align: top;\n",
       "    }\n",
       "\n",
       "    .dataframe thead th {\n",
       "        text-align: right;\n",
       "    }\n",
       "</style>\n",
       "<table border=\"1\" class=\"dataframe\">\n",
       "  <thead>\n",
       "    <tr style=\"text-align: right;\">\n",
       "      <th></th>\n",
       "      <th>IsAlone</th>\n",
       "      <th>Survived</th>\n",
       "    </tr>\n",
       "  </thead>\n",
       "  <tbody>\n",
       "    <tr>\n",
       "      <th>0</th>\n",
       "      <td>0</td>\n",
       "      <td>0.505650</td>\n",
       "    </tr>\n",
       "    <tr>\n",
       "      <th>1</th>\n",
       "      <td>1</td>\n",
       "      <td>0.303538</td>\n",
       "    </tr>\n",
       "  </tbody>\n",
       "</table>\n",
       "</div>"
      ],
      "text/plain": [
       "   IsAlone  Survived\n",
       "0        0  0.505650\n",
       "1        1  0.303538"
      ]
     },
     "execution_count": 19,
     "metadata": {},
     "output_type": "execute_result"
    }
   ],
   "source": [
    "train_df['IsAlone'] = 0\n",
    "train_df.loc[train_df['FamilySize'] == 1, 'IsAlone'] = 1\n",
    "\n",
    "train_df[['IsAlone', 'Survived']].groupby(['IsAlone'], as_index=False).mean()"
   ]
  },
  {
   "cell_type": "code",
   "execution_count": 20,
   "id": "dense-emerald",
   "metadata": {
    "execution": {
     "iopub.execute_input": "2021-06-07T15:29:33.704850Z",
     "iopub.status.busy": "2021-06-07T15:29:33.704221Z",
     "iopub.status.idle": "2021-06-07T15:29:33.708853Z",
     "shell.execute_reply": "2021-06-07T15:29:33.709430Z",
     "shell.execute_reply.started": "2021-06-07T13:19:43.07465Z"
    },
    "papermill": {
     "duration": 0.052731,
     "end_time": "2021-06-07T15:29:33.709590",
     "exception": false,
     "start_time": "2021-06-07T15:29:33.656859",
     "status": "completed"
    },
    "tags": []
   },
   "outputs": [],
   "source": [
    "train_df.drop(['SibSp', 'Parch'] , axis=1, inplace = True)"
   ]
  },
  {
   "cell_type": "markdown",
   "id": "english-potato",
   "metadata": {
    "papermill": {
     "duration": 0.044972,
     "end_time": "2021-06-07T15:29:33.800256",
     "exception": false,
     "start_time": "2021-06-07T15:29:33.755284",
     "status": "completed"
    },
    "tags": []
   },
   "source": [
    "Next, we examine the feature correlation, missing values and their most interesting statistical properties using the pandas profiler. It creates an interactive html page which can be downloaded"
   ]
  },
  {
   "cell_type": "code",
   "execution_count": 21,
   "id": "continental-equation",
   "metadata": {
    "execution": {
     "iopub.execute_input": "2021-06-07T15:29:33.894217Z",
     "iopub.status.busy": "2021-06-07T15:29:33.893645Z",
     "iopub.status.idle": "2021-06-07T15:29:50.836202Z",
     "shell.execute_reply": "2021-06-07T15:29:50.835588Z",
     "shell.execute_reply.started": "2021-06-07T13:20:14.144155Z"
    },
    "papermill": {
     "duration": 16.990624,
     "end_time": "2021-06-07T15:29:50.836667",
     "exception": false,
     "start_time": "2021-06-07T15:29:33.846043",
     "status": "completed"
    },
    "tags": []
   },
   "outputs": [
    {
     "data": {
      "application/vnd.jupyter.widget-view+json": {
       "model_id": "5e8f3bd02282401fa0eaa8537c8c8779",
       "version_major": 2,
       "version_minor": 0
      },
      "text/plain": [
       "Summarize dataset:   0%|          | 0/5 [00:00<?, ?it/s]"
      ]
     },
     "metadata": {},
     "output_type": "display_data"
    },
    {
     "data": {
      "application/vnd.jupyter.widget-view+json": {
       "model_id": "e6894ce01b254ea788a623470f044703",
       "version_major": 2,
       "version_minor": 0
      },
      "text/plain": [
       "Generate report structure:   0%|          | 0/1 [00:00<?, ?it/s]"
      ]
     },
     "metadata": {},
     "output_type": "display_data"
    },
    {
     "data": {
      "application/vnd.jupyter.widget-view+json": {
       "model_id": "881ca45777404ca8bac6292ba0661d24",
       "version_major": 2,
       "version_minor": 0
      },
      "text/plain": [
       "Render HTML:   0%|          | 0/1 [00:00<?, ?it/s]"
      ]
     },
     "metadata": {},
     "output_type": "display_data"
    },
    {
     "data": {
      "application/vnd.jupyter.widget-view+json": {
       "model_id": "40576de25e964d56860e77d11be4e941",
       "version_major": 2,
       "version_minor": 0
      },
      "text/plain": [
       "Export report to file:   0%|          | 0/1 [00:00<?, ?it/s]"
      ]
     },
     "metadata": {},
     "output_type": "display_data"
    }
   ],
   "source": [
    "from pandas_profiling import ProfileReport\n",
    "profile = ProfileReport(train_df, title=\"Titanic Survival Report\", explorative=True)\n",
    "profile.to_file(\"titanic_report.html\")"
   ]
  },
  {
   "cell_type": "code",
   "execution_count": 22,
   "id": "gross-entry",
   "metadata": {
    "execution": {
     "iopub.execute_input": "2021-06-07T15:29:50.938168Z",
     "iopub.status.busy": "2021-06-07T15:29:50.937153Z",
     "iopub.status.idle": "2021-06-07T15:29:51.279987Z",
     "shell.execute_reply": "2021-06-07T15:29:51.280471Z",
     "shell.execute_reply.started": "2021-06-07T13:21:29.820052Z"
    },
    "papermill": {
     "duration": 0.395971,
     "end_time": "2021-06-07T15:29:51.280636",
     "exception": false,
     "start_time": "2021-06-07T15:29:50.884665",
     "status": "completed"
    },
    "tags": []
   },
   "outputs": [
    {
     "data": {
      "text/plain": [
       "<AxesSubplot:>"
      ]
     },
     "execution_count": 22,
     "metadata": {},
     "output_type": "execute_result"
    },
    {
     "data": {
      "image/png": "[encoded data removed]",
      "text/plain": [
       "<Figure size 432x288 with 2 Axes>"
      ]
     },
     "metadata": {
      "needs_background": "light"
     },
     "output_type": "display_data"
    }
   ],
   "source": [
    "corr_matr = train_df.corr()\n",
    "cmap = sns.diverging_palette(230, 20, as_cmap=True)\n",
    "sns.heatmap(corr_matr, cmap = cmap)"
   ]
  },
  {
   "cell_type": "markdown",
   "id": "infectious-brown",
   "metadata": {
    "papermill": {
     "duration": 0.050235,
     "end_time": "2021-06-07T15:29:51.379471",
     "exception": false,
     "start_time": "2021-06-07T15:29:51.329236",
     "status": "completed"
    },
    "tags": []
   },
   "source": [
    "**Question 2)**\n",
    "\n",
    "Given the correlation matrix, which feature is likely going to be the **least** important for our modelling (choose one)?\n",
    "\n",
    "a) is_female \\\n",
    "b) Fare \\\n",
    "c) PassengerId \\\n",
    "d) Not enough info / they are all very important"
   ]
  },
  {
   "cell_type": "markdown",
   "id": "dietary-marble",
   "metadata": {
    "_kg_hide-input": false,
    "papermill": {
     "duration": 0.048816,
     "end_time": "2021-06-07T15:29:51.477464",
     "exception": false,
     "start_time": "2021-06-07T15:29:51.428648",
     "status": "completed"
    },
    "tags": []
   },
   "source": [
    "From the plots, we have seen that the 'PassengerId' columns has almost no correlation with the other columns. Therefore, we will drop it from the training dataframe (we will keep in on the test_df because it is used for scoring our submission kaggle matches PassengerID to our answer)>"
   ]
  },
  {
   "cell_type": "code",
   "execution_count": null,
   "id": "grateful-produce",
   "metadata": {
    "execution": {
     "iopub.execute_input": "2021-06-07T15:29:51.578361Z",
     "iopub.status.busy": "2021-06-07T15:29:51.577395Z",
     "iopub.status.idle": "2021-06-07T15:29:51.582346Z",
     "shell.execute_reply": "2021-06-07T15:29:51.582834Z",
     "shell.execute_reply.started": "2021-06-07T13:24:18.645635Z"
    },
    "papermill": {
     "duration": 0.056838,
     "end_time": "2021-06-07T15:29:51.582988",
     "exception": false,
     "start_time": "2021-06-07T15:29:51.526150",
     "status": "completed"
    },
    "tags": []
   },
   "outputs": [],
   "source": [
    "train_df = train_df.drop(['PassengerId'], axis=1)"
   ]
  },
  {
   "cell_type": "markdown",
   "id": "enclosed-dublin",
   "metadata": {
    "_kg_hide-output": false,
    "papermill": {
     "duration": 0.048258,
     "end_time": "2021-06-07T15:29:51.680029",
     "exception": false,
     "start_time": "2021-06-07T15:29:51.631771",
     "status": "completed"
    },
    "tags": []
   },
   "source": [
    "**Conclusions from data analysis and feature extraction**\n",
    "\n",
    "**Dropped features**\n",
    "\n",
    "* Ticket feature was be dropped from our analysis as it contains high ratio of duplicates (22%) and there may not be a correlation between Ticket and survival.\n",
    "* Cabin feature was be dropped as it is highly incomplete or contains many null values both in training and test dataset.\n",
    "* PassengerId was be dropped from training dataset as it not correlated to survival.\n",
    "\n",
    "\n",
    "**Created features**\n",
    "\n",
    "* Created a new feature called Family based on Parch and SibSp to get total count of family members on board.\n",
    "* Extracted Title from Name as a new feature. One-hot encoded it for modelling"
   ]
  },
  {
   "cell_type": "markdown",
   "id": "hispanic-export",
   "metadata": {
    "papermill": {
     "duration": 0.048094,
     "end_time": "2021-06-07T15:29:51.776679",
     "exception": false,
     "start_time": "2021-06-07T15:29:51.728585",
     "status": "completed"
    },
    "tags": []
   },
   "source": [
    "# Model training and testing"
   ]
  },
  {
   "cell_type": "markdown",
   "id": "applicable-studio",
   "metadata": {
    "papermill": {
     "duration": 0.048304,
     "end_time": "2021-06-07T15:29:51.873503",
     "exception": false,
     "start_time": "2021-06-07T15:29:51.825199",
     "status": "completed"
    },
    "tags": []
   },
   "source": [
    "In this section we will train and test one Knn and one Random forest classifier to predict survival rates. However, in our dataset there are still some missing values\n",
    "\n",
    "**Question 3)**\n",
    "\n",
    "What do we do with missing values?\n",
    "\n",
    "a) We fill them with the column mean/median \\\n",
    "b) We drop the column \\\n",
    "c) Depends on the algorithm that we use \\\n",
    "d) We fill them with an out-of-sample value (e.g. default_age = -10)"
   ]
  },
  {
   "cell_type": "markdown",
   "id": "hybrid-canon",
   "metadata": {
    "papermill": {
     "duration": 0.048586,
     "end_time": "2021-06-07T15:29:51.971479",
     "exception": false,
     "start_time": "2021-06-07T15:29:51.922893",
     "status": "completed"
    },
    "tags": []
   },
   "source": [
    "Let's created the proper train and validation set from the traind_df dataframe"
   ]
  },
  {
   "cell_type": "code",
   "execution_count": null,
   "id": "imperial-captain",
   "metadata": {
    "execution": {
     "iopub.execute_input": "2021-06-07T15:29:52.074320Z",
     "iopub.status.busy": "2021-06-07T15:29:52.073413Z",
     "iopub.status.idle": "2021-06-07T15:29:52.417987Z",
     "shell.execute_reply": "2021-06-07T15:29:52.414655Z",
     "shell.execute_reply.started": "2021-06-07T13:28:54.929093Z"
    },
    "papermill": {
     "duration": 0.397982,
     "end_time": "2021-06-07T15:29:52.418264",
     "exception": false,
     "start_time": "2021-06-07T15:29:52.020282",
     "status": "completed"
    },
    "tags": []
   },
   "outputs": [],
   "source": [
    "from sklearn.model_selection import train_test_split\n",
    "from sklearn.neighbors import KNeighborsClassifier\n",
    "from sklearn.preprocessing import StandardScaler\n",
    "from sklearn.ensemble import RandomForestClassifier\n",
    "from sklearn.metrics import accuracy_score\n",
    "\n",
    "\n",
    "X = train_df.loc[:, train_df.columns != 'Survived']\n",
    "y = train_df.loc[:, 'Survived']\n",
    "X_train, X_val, y_train, y_val = train_test_split(X, y, test_size=0.3, random_state=42)"
   ]
  },
  {
   "cell_type": "markdown",
   "id": "wrapped-volunteer",
   "metadata": {
    "papermill": {
     "duration": 0.049234,
     "end_time": "2021-06-07T15:29:52.535283",
     "exception": false,
     "start_time": "2021-06-07T15:29:52.486049",
     "status": "completed"
    },
    "tags": []
   },
   "source": [
    "**Question 4)**\n",
    "\n",
    "We are now going to train 4 different models, 2 Knn (one scaled, one not) and 2 Random Forest models (also, one scaled, one not). What to we expect from scaling the input data?\n",
    "\n",
    "a) Knn score improves, Random forest remains (more or less) the same \\\n",
    "b) Both Knn and Random forest scores improve \\\n",
    "c) Both scores remain the same (more or less) \\\n",
    "d) Both scores get worse"
   ]
  },
  {
   "cell_type": "markdown",
   "id": "prescription-analysis",
   "metadata": {
    "papermill": {
     "duration": 0.050059,
     "end_time": "2021-06-07T15:29:52.633673",
     "exception": false,
     "start_time": "2021-06-07T15:29:52.583614",
     "status": "completed"
    },
    "tags": []
   },
   "source": [
    "# KNN training and scoring"
   ]
  },
  {
   "cell_type": "markdown",
   "id": "unavailable-cloud",
   "metadata": {
    "papermill": {
     "duration": 0.048501,
     "end_time": "2021-06-07T15:29:52.730903",
     "exception": false,
     "start_time": "2021-06-07T15:29:52.682402",
     "status": "completed"
    },
    "tags": []
   },
   "source": [
    "In sklearn, both Knn and Random Forests do not handle missing values internally. Therefore, we need to impute the missing values before passing it through the models"
   ]
  },
  {
   "cell_type": "code",
   "execution_count": null,
   "id": "temporal-newspaper",
   "metadata": {
    "execution": {
     "iopub.execute_input": "2021-06-07T15:29:52.840954Z",
     "iopub.status.busy": "2021-06-07T15:29:52.840059Z",
     "iopub.status.idle": "2021-06-07T15:29:52.844676Z",
     "shell.execute_reply": "2021-06-07T15:29:52.844170Z",
     "shell.execute_reply.started": "2021-06-07T13:32:14.644082Z"
    },
    "papermill": {
     "duration": 0.065041,
     "end_time": "2021-06-07T15:29:52.844811",
     "exception": false,
     "start_time": "2021-06-07T15:29:52.779770",
     "status": "completed"
    },
    "tags": []
   },
   "outputs": [],
   "source": [
    "X_train = X_train.fillna(X_train.mean())\n",
    "X_val= X_val.fillna(X_val.mean())"
   ]
  },
  {
   "cell_type": "markdown",
   "id": "arabic-blowing",
   "metadata": {
    "papermill": {
     "duration": 0.049015,
     "end_time": "2021-06-07T15:29:52.942922",
     "exception": false,
     "start_time": "2021-06-07T15:29:52.893907",
     "status": "completed"
    },
    "tags": []
   },
   "source": [
    "We can now move on to training the KNN model"
   ]
  },
  {
   "cell_type": "code",
   "execution_count": null,
   "id": "continental-modem",
   "metadata": {
    "execution": {
     "iopub.execute_input": "2021-06-07T15:29:53.045082Z",
     "iopub.status.busy": "2021-06-07T15:29:53.044139Z",
     "iopub.status.idle": "2021-06-07T15:29:53.068084Z",
     "shell.execute_reply": "2021-06-07T15:29:53.068631Z",
     "shell.execute_reply.started": "2021-06-07T13:32:36.001322Z"
    },
    "papermill": {
     "duration": 0.076398,
     "end_time": "2021-06-07T15:29:53.068797",
     "exception": false,
     "start_time": "2021-06-07T15:29:52.992399",
     "status": "completed"
    },
    "tags": []
   },
   "outputs": [],
   "source": [
    "knn = KNeighborsClassifier(n_neighbors = 3)\n",
    "knn.fit(X_train, y_train)\n",
    "knn.score(X_val, y_val)"
   ]
  },
  {
   "cell_type": "code",
   "execution_count": null,
   "id": "fallen-nickname",
   "metadata": {
    "execution": {
     "iopub.execute_input": "2021-06-07T15:29:53.172987Z",
     "iopub.status.busy": "2021-06-07T15:29:53.172037Z",
     "iopub.status.idle": "2021-06-07T15:29:53.201148Z",
     "shell.execute_reply": "2021-06-07T15:29:53.200633Z",
     "shell.execute_reply.started": "2021-06-07T13:32:52.607381Z"
    },
    "papermill": {
     "duration": 0.083041,
     "end_time": "2021-06-07T15:29:53.201294",
     "exception": false,
     "start_time": "2021-06-07T15:29:53.118253",
     "status": "completed"
    },
    "tags": []
   },
   "outputs": [],
   "source": [
    "ss = StandardScaler()\n",
    "\n",
    "X_train_scaled = ss.fit_transform(X_train)\n",
    "X_val_scaled = ss.transform(X_val)\n",
    "\n",
    "knn = KNeighborsClassifier(n_neighbors = 3)\n",
    "knn.fit(X_train_scaled, y_train)\n",
    "knn.score(X_val_scaled, y_val)"
   ]
  },
  {
   "cell_type": "markdown",
   "id": "minute-mixture",
   "metadata": {
    "papermill": {
     "duration": 0.049648,
     "end_time": "2021-06-07T15:29:53.301115",
     "exception": false,
     "start_time": "2021-06-07T15:29:53.251467",
     "status": "completed"
    },
    "tags": []
   },
   "source": [
    "In this example we have only used a standard scaler, but often other types of scaling yield better results. For example, some features may benefit from log scaling their values (typical for \"fat tails\")"
   ]
  },
  {
   "cell_type": "code",
   "execution_count": null,
   "id": "varying-overview",
   "metadata": {
    "execution": {
     "iopub.execute_input": "2021-06-07T15:29:53.410099Z",
     "iopub.status.busy": "2021-06-07T15:29:53.409124Z",
     "iopub.status.idle": "2021-06-07T15:29:54.473854Z",
     "shell.execute_reply": "2021-06-07T15:29:54.473199Z",
     "shell.execute_reply.started": "2021-06-07T13:33:10.907756Z"
    },
    "papermill": {
     "duration": 1.122892,
     "end_time": "2021-06-07T15:29:54.473991",
     "exception": false,
     "start_time": "2021-06-07T15:29:53.351099",
     "status": "completed"
    },
    "tags": []
   },
   "outputs": [],
   "source": [
    "sns.pairplot(train_df[['Fare', 'Age']])"
   ]
  },
  {
   "cell_type": "markdown",
   "id": "oriental-sewing",
   "metadata": {
    "papermill": {
     "duration": 0.050707,
     "end_time": "2021-06-07T15:29:54.576176",
     "exception": false,
     "start_time": "2021-06-07T15:29:54.525469",
     "status": "completed"
    },
    "tags": []
   },
   "source": [
    "# Random forest training and scoring"
   ]
  },
  {
   "cell_type": "code",
   "execution_count": null,
   "id": "variable-block",
   "metadata": {
    "execution": {
     "iopub.execute_input": "2021-06-07T15:29:54.686033Z",
     "iopub.status.busy": "2021-06-07T15:29:54.685327Z",
     "iopub.status.idle": "2021-06-07T15:29:54.927021Z",
     "shell.execute_reply": "2021-06-07T15:29:54.925923Z",
     "shell.execute_reply.started": "2021-06-07T13:33:39.541071Z"
    },
    "papermill": {
     "duration": 0.300039,
     "end_time": "2021-06-07T15:29:54.927300",
     "exception": false,
     "start_time": "2021-06-07T15:29:54.627261",
     "status": "completed"
    },
    "tags": []
   },
   "outputs": [],
   "source": [
    "rf = RandomForestClassifier(random_state=42)\n",
    "rf.fit(X_train, y_train)\n",
    "print(f'accuracy score: {accuracy_score(rf.predict(X_val), y_val)}')\n",
    "print(f'Feature importance: \\n {dict(zip(X.columns, rf.feature_importances_.round(2)))}')"
   ]
  },
  {
   "cell_type": "code",
   "execution_count": null,
   "id": "checked-pencil",
   "metadata": {
    "execution": {
     "iopub.execute_input": "2021-06-07T15:29:55.036069Z",
     "iopub.status.busy": "2021-06-07T15:29:55.035393Z",
     "iopub.status.idle": "2021-06-07T15:29:55.272482Z",
     "shell.execute_reply": "2021-06-07T15:29:55.273401Z",
     "shell.execute_reply.started": "2021-06-07T13:33:44.898659Z"
    },
    "papermill": {
     "duration": 0.29425,
     "end_time": "2021-06-07T15:29:55.273721",
     "exception": false,
     "start_time": "2021-06-07T15:29:54.979471",
     "status": "completed"
    },
    "tags": []
   },
   "outputs": [],
   "source": [
    "rf.fit(X_train_scaled, y_train)\n",
    "print(f'accuracy score: {accuracy_score(rf.predict(X_val_scaled), y_val)}')\n",
    "print(f'Feature importance: \\n {dict(zip(X.columns, rf.feature_importances_.round(2)))}')"
   ]
  },
  {
   "cell_type": "markdown",
   "id": "swedish-renewal",
   "metadata": {
    "papermill": {
     "duration": 0.053167,
     "end_time": "2021-06-07T15:29:55.380158",
     "exception": false,
     "start_time": "2021-06-07T15:29:55.326991",
     "status": "completed"
    },
    "tags": []
   },
   "source": [
    "Notice that a feature being correlated to survival does not necessarily mean that the feature importance in a model is going to be high"
   ]
  },
  {
   "cell_type": "code",
   "execution_count": null,
   "id": "located-british",
   "metadata": {
    "execution": {
     "iopub.execute_input": "2021-06-07T15:29:55.487228Z",
     "iopub.status.busy": "2021-06-07T15:29:55.486626Z",
     "iopub.status.idle": "2021-06-07T15:29:55.865663Z",
     "shell.execute_reply": "2021-06-07T15:29:55.866145Z",
     "shell.execute_reply.started": "2021-06-07T13:34:10.441342Z"
    },
    "papermill": {
     "duration": 0.433929,
     "end_time": "2021-06-07T15:29:55.866318",
     "exception": false,
     "start_time": "2021-06-07T15:29:55.432389",
     "status": "completed"
    },
    "tags": []
   },
   "outputs": [],
   "source": [
    "corr_matr = train_df.corr()\n",
    "cmap = sns.diverging_palette(230, 20, as_cmap=True)\n",
    "sns.heatmap(corr_matr, cmap = cmap)"
   ]
  },
  {
   "cell_type": "code",
   "execution_count": null,
   "id": "biblical-insight",
   "metadata": {
    "papermill": {
     "duration": 0.05421,
     "end_time": "2021-06-07T15:29:55.973383",
     "exception": false,
     "start_time": "2021-06-07T15:29:55.919173",
     "status": "completed"
    },
    "tags": []
   },
   "outputs": [],
   "source": []
  }
 ],
 "metadata": {
  "kernelspec": {
   "display_name": "Python 3",
   "language": "python",
   "name": "python3"
  },
  "language_info": {
   "codemirror_mode": {
    "name": "ipython",
    "version": 3
   },
   "file_extension": ".py",
   "mimetype": "text/x-python",
   "name": "python",
   "nbconvert_exporter": "python",
   "pygments_lexer": "ipython3",
   "version": "3.8.2"
  },
  "papermill": {
   "default_parameters": {},
   "duration": 35.755223,
   "end_time": "2021-06-07T15:29:57.240272",
   "environment_variables": {},
   "exception": null,
   "input_path": "__notebook__.ipynb",
   "output_path": "__notebook__.ipynb",
   "parameters": {},
   "start_time": "2021-06-07T15:29:21.485049",
   "version": "2.3.3"
  },
  "widgets": {
   "application/vnd.jupyter.widget-state+json": {
    "state": {
     "00d986be04b4464e849847e9e6c25054": {
      "model_module": "@jupyter-widgets/controls",
      "model_module_version": "1.5.0",
      "model_name": "HTMLModel",
      "state": {
       "_dom_classes": [],
       "_model_module": "@jupyter-widgets/controls",
       "_model_module_version": "1.5.0",
       "_model_name": "HTMLModel",
       "_view_count": null,
       "_view_module": "@jupyter-widgets/controls",
       "_view_module_version": "1.5.0",
       "_view_name": "HTMLView",
       "description": "",
       "description_tooltip": null,
       "layout": "IPY_MODEL_83b36ba33c5b4b0ebfa68c5040865644",
       "placeholder": "​",
       "style": "IPY_MODEL_1ef9c18e0eb8402989bb600d0323285c",
       "value": "Summarize dataset: 100%"
      }
     },
     "0894f78782104145a23e2931e47258ad": {
      "model_module": "@jupyter-widgets/base",
      "model_module_version": "1.2.0",
      "model_name": "LayoutModel",
      "state": {
       "_model_module": "@jupyter-widgets/base",
       "_model_module_version": "1.2.0",
       "_model_name": "LayoutModel",
       "_view_count": null,
       "_view_module": "@jupyter-widgets/base",
       "_view_module_version": "1.2.0",
       "_view_name": "LayoutView",
       "align_content": null,
       "align_items": null,
       "align_self": null,
       "border": null,
       "bottom": null,
       "display": null,
       "flex": null,
       "flex_flow": null,
       "grid_area": null,
       "grid_auto_columns": null,
       "grid_auto_flow": null,
       "grid_auto_rows": null,
       "grid_column": null,
       "grid_gap": null,
       "grid_row": null,
       "grid_template_areas": null,
       "grid_template_columns": null,
       "grid_template_rows": null,
       "height": null,
       "justify_content": null,
       "justify_items": null,
       "left": null,
       "margin": null,
       "max_height": null,
       "max_width": null,
       "min_height": null,
       "min_width": null,
       "object_fit": null,
       "object_position": null,
       "order": null,
       "overflow": null,
       "overflow_x": null,
       "overflow_y": null,
       "padding": null,
       "right": null,
       "top": null,
       "visibility": null,
       "width": null
      }
     },
     "0f9f0cd8673b4e68bdfa3258fad12699": {
      "model_module": "@jupyter-widgets/controls",
      "model_module_version": "1.5.0",
      "model_name": "DescriptionStyleModel",
      "state": {
       "_model_module": "@jupyter-widgets/controls",
       "_model_module_version": "1.5.0",
       "_model_name": "DescriptionStyleModel",
       "_view_count": null,
       "_view_module": "@jupyter-widgets/base",
       "_view_module_version": "1.2.0",
       "_view_name": "StyleView",
       "description_width": ""
      }
     },
     "159ffa015dd843d8b614854ac7246dca": {
      "model_module": "@jupyter-widgets/controls",
      "model_module_version": "1.5.0",
      "model_name": "ProgressStyleModel",
      "state": {
       "_model_module": "@jupyter-widgets/controls",
       "_model_module_version": "1.5.0",
       "_model_name": "ProgressStyleModel",
       "_view_count": null,
       "_view_module": "@jupyter-widgets/base",
       "_view_module_version": "1.2.0",
       "_view_name": "StyleView",
       "bar_color": null,
       "description_width": ""
      }
     },
     "1972e4c6aed1415fb6baea877f69ff6a": {
      "model_module": "@jupyter-widgets/base",
      "model_module_version": "1.2.0",
      "model_name": "LayoutModel",
      "state": {
       "_model_module": "@jupyter-widgets/base",
       "_model_module_version": "1.2.0",
       "_model_name": "LayoutModel",
       "_view_count": null,
       "_view_module": "@jupyter-widgets/base",
       "_view_module_version": "1.2.0",
       "_view_name": "LayoutView",
       "align_content": null,
       "align_items": null,
       "align_self": null,
       "border": null,
       "bottom": null,
       "display": null,
       "flex": null,
       "flex_flow": null,
       "grid_area": null,
       "grid_auto_columns": null,
       "grid_auto_flow": null,
       "grid_auto_rows": null,
       "grid_column": null,
       "grid_gap": null,
       "grid_row": null,
       "grid_template_areas": null,
       "grid_template_columns": null,
       "grid_template_rows": null,
       "height": null,
       "justify_content": null,
       "justify_items": null,
       "left": null,
       "margin": null,
       "max_height": null,
       "max_width": null,
       "min_height": null,
       "min_width": null,
       "object_fit": null,
       "object_position": null,
       "order": null,
       "overflow": null,
       "overflow_x": null,
       "overflow_y": null,
       "padding": null,
       "right": null,
       "top": null,
       "visibility": null,
       "width": null
      }
     },
     "1b0325a551b14c33937a972c32d1b7c9": {
      "model_module": "@jupyter-widgets/base",
      "model_module_version": "1.2.0",
      "model_name": "LayoutModel",
      "state": {
       "_model_module": "@jupyter-widgets/base",
       "_model_module_version": "1.2.0",
       "_model_name": "LayoutModel",
       "_view_count": null,
       "_view_module": "@jupyter-widgets/base",
       "_view_module_version": "1.2.0",
       "_view_name": "LayoutView",
       "align_content": null,
       "align_items": null,
       "align_self": null,
       "border": null,
       "bottom": null,
       "display": null,
       "flex": null,
       "flex_flow": null,
       "grid_area": null,
       "grid_auto_columns": null,
       "grid_auto_flow": null,
       "grid_auto_rows": null,
       "grid_column": null,
       "grid_gap": null,
       "grid_row": null,
       "grid_template_areas": null,
       "grid_template_columns": null,
       "grid_template_rows": null,
       "height": null,
       "justify_content": null,
       "justify_items": null,
       "left": null,
       "margin": null,
       "max_height": null,
       "max_width": null,
       "min_height": null,
       "min_width": null,
       "object_fit": null,
       "object_position": null,
       "order": null,
       "overflow": null,
       "overflow_x": null,
       "overflow_y": null,
       "padding": null,
       "right": null,
       "top": null,
       "visibility": null,
       "width": null
      }
     },
     "1ef9c18e0eb8402989bb600d0323285c": {
      "model_module": "@jupyter-widgets/controls",
      "model_module_version": "1.5.0",
      "model_name": "DescriptionStyleModel",
      "state": {
       "_model_module": "@jupyter-widgets/controls",
       "_model_module_version": "1.5.0",
       "_model_name": "DescriptionStyleModel",
       "_view_count": null,
       "_view_module": "@jupyter-widgets/base",
       "_view_module_version": "1.2.0",
       "_view_name": "StyleView",
       "description_width": ""
      }
     },
     "3182ffb9595643d38f4c79127c1b25ed": {
      "model_module": "@jupyter-widgets/controls",
      "model_module_version": "1.5.0",
      "model_name": "FloatProgressModel",
      "state": {
       "_dom_classes": [],
       "_model_module": "@jupyter-widgets/controls",
       "_model_module_version": "1.5.0",
       "_model_name": "FloatProgressModel",
       "_view_count": null,
       "_view_module": "@jupyter-widgets/controls",
       "_view_module_version": "1.5.0",
       "_view_name": "ProgressView",
       "bar_style": "success",
       "description": "",
       "description_tooltip": null,
       "layout": "IPY_MODEL_98e57afeceb6464eb67104a5f7f5aed9",
       "max": 1,
       "min": 0,
       "orientation": "horizontal",
       "style": "IPY_MODEL_4a5fdcea5307471aa418afae7918f58a",
       "value": 1
      }
     },
     "4033ebcf77ae42518a9358d87eadbbb9": {
      "model_module": "@jupyter-widgets/controls",
      "model_module_version": "1.5.0",
      "model_name": "FloatProgressModel",
      "state": {
       "_dom_classes": [],
       "_model_module": "@jupyter-widgets/controls",
       "_model_module_version": "1.5.0",
       "_model_name": "FloatProgressModel",
       "_view_count": null,
       "_view_module": "@jupyter-widgets/controls",
       "_view_module_version": "1.5.0",
       "_view_name": "ProgressView",
       "bar_style": "success",
       "description": "",
       "description_tooltip": null,
       "layout": "IPY_MODEL_1b0325a551b14c33937a972c32d1b7c9",
       "max": 26,
       "min": 0,
       "orientation": "horizontal",
       "style": "IPY_MODEL_cd47520edc9341e890c9a63a58cbae76",
       "value": 26
      }
     },
     "449e616c5963475394f68428dc478ae4": {
      "model_module": "@jupyter-widgets/base",
      "model_module_version": "1.2.0",
      "model_name": "LayoutModel",
      "state": {
       "_model_module": "@jupyter-widgets/base",
       "_model_module_version": "1.2.0",
       "_model_name": "LayoutModel",
       "_view_count": null,
       "_view_module": "@jupyter-widgets/base",
       "_view_module_version": "1.2.0",
       "_view_name": "LayoutView",
       "align_content": null,
       "align_items": null,
       "align_self": null,
       "border": null,
       "bottom": null,
       "display": null,
       "flex": null,
       "flex_flow": null,
       "grid_area": null,
       "grid_auto_columns": null,
       "grid_auto_flow": null,
       "grid_auto_rows": null,
       "grid_column": null,
       "grid_gap": null,
       "grid_row": null,
       "grid_template_areas": null,
       "grid_template_columns": null,
       "grid_template_rows": null,
       "height": null,
       "justify_content": null,
       "justify_items": null,
       "left": null,
       "margin": null,
       "max_height": null,
       "max_width": null,
       "min_height": null,
       "min_width": null,
       "object_fit": null,
       "object_position": null,
       "order": null,
       "overflow": null,
       "overflow_x": null,
       "overflow_y": null,
       "padding": null,
       "right": null,
       "top": null,
       "visibility": null,
       "width": null
      }
     },
     "4a5fdcea5307471aa418afae7918f58a": {
      "model_module": "@jupyter-widgets/controls",
      "model_module_version": "1.5.0",
      "model_name": "ProgressStyleModel",
      "state": {
       "_model_module": "@jupyter-widgets/controls",
       "_model_module_version": "1.5.0",
       "_model_name": "ProgressStyleModel",
       "_view_count": null,
       "_view_module": "@jupyter-widgets/base",
       "_view_module_version": "1.2.0",
       "_view_name": "StyleView",
       "bar_color": null,
       "description_width": ""
      }
     },
     "4d126baa0a0c4c30912b1df003186c68": {
      "model_module": "@jupyter-widgets/controls",
      "model_module_version": "1.5.0",
      "model_name": "HTMLModel",
      "state": {
       "_dom_classes": [],
       "_model_module": "@jupyter-widgets/controls",
       "_model_module_version": "1.5.0",
       "_model_name": "HTMLModel",
       "_view_count": null,
       "_view_module": "@jupyter-widgets/controls",
       "_view_module_version": "1.5.0",
       "_view_name": "HTMLView",
       "description": "",
       "description_tooltip": null,
       "layout": "IPY_MODEL_893fbde7d0034cbdb1b4dc5d60ccfe95",
       "placeholder": "​",
       "style": "IPY_MODEL_0f9f0cd8673b4e68bdfa3258fad12699",
       "value": " 1/1 [00:01&lt;00:00,  1.53s/it]"
      }
     },
     "5396959b8141489e9a032031047a59e5": {
      "model_module": "@jupyter-widgets/controls",
      "model_module_version": "1.5.0",
      "model_name": "FloatProgressModel",
      "state": {
       "_dom_classes": [],
       "_model_module": "@jupyter-widgets/controls",
       "_model_module_version": "1.5.0",
       "_model_name": "FloatProgressModel",
       "_view_count": null,
       "_view_module": "@jupyter-widgets/controls",
       "_view_module_version": "1.5.0",
       "_view_name": "ProgressView",
       "bar_style": "success",
       "description": "",
       "description_tooltip": null,
       "layout": "IPY_MODEL_1972e4c6aed1415fb6baea877f69ff6a",
       "max": 1,
       "min": 0,
       "orientation": "horizontal",
       "style": "IPY_MODEL_d1c4a415bb92448abdeb1fbc45277337",
       "value": 1
      }
     },
     "55ffc7e329dc4a509dc310fa276a6892": {
      "model_module": "@jupyter-widgets/controls",
      "model_module_version": "1.5.0",
      "model_name": "HTMLModel",
      "state": {
       "_dom_classes": [],
       "_model_module": "@jupyter-widgets/controls",
       "_model_module_version": "1.5.0",
       "_model_name": "HTMLModel",
       "_view_count": null,
       "_view_module": "@jupyter-widgets/controls",
       "_view_module_version": "1.5.0",
       "_view_name": "HTMLView",
       "description": "",
       "description_tooltip": null,
       "layout": "IPY_MODEL_6d1d240671354cedb13a766e2c27eed7",
       "placeholder": "​",
       "style": "IPY_MODEL_62a5be7ec55a41f4b8f1104f0b59fcc5",
       "value": " 1/1 [00:00&lt;00:00, 27.25it/s]"
      }
     },
     "58438fa2a06b42f5ab314b5fb25e736e": {
      "model_module": "@jupyter-widgets/controls",
      "model_module_version": "1.5.0",
      "model_name": "HBoxModel",
      "state": {
       "_dom_classes": [],
       "_model_module": "@jupyter-widgets/controls",
       "_model_module_version": "1.5.0",
       "_model_name": "HBoxModel",
       "_view_count": null,
       "_view_module": "@jupyter-widgets/controls",
       "_view_module_version": "1.5.0",
       "_view_name": "HBoxView",
       "box_style": "",
       "children": [
        "IPY_MODEL_5d02a63ece40494d8efae27e2e45bdee",
        "IPY_MODEL_5396959b8141489e9a032031047a59e5",
        "IPY_MODEL_55ffc7e329dc4a509dc310fa276a6892"
       ],
       "layout": "IPY_MODEL_0894f78782104145a23e2931e47258ad"
      }
     },
     "5d02a63ece40494d8efae27e2e45bdee": {
      "model_module": "@jupyter-widgets/controls",
      "model_module_version": "1.5.0",
      "model_name": "HTMLModel",
      "state": {
       "_dom_classes": [],
       "_model_module": "@jupyter-widgets/controls",
       "_model_module_version": "1.5.0",
       "_model_name": "HTMLModel",
       "_view_count": null,
       "_view_module": "@jupyter-widgets/controls",
       "_view_module_version": "1.5.0",
       "_view_name": "HTMLView",
       "description": "",
       "description_tooltip": null,
       "layout": "IPY_MODEL_449e616c5963475394f68428dc478ae4",
       "placeholder": "​",
       "style": "IPY_MODEL_d0b45cee614c44a893eee5863ba2367c",
       "value": "Export report to file: 100%"
      }
     },
     "62a5be7ec55a41f4b8f1104f0b59fcc5": {
      "model_module": "@jupyter-widgets/controls",
      "model_module_version": "1.5.0",
      "model_name": "DescriptionStyleModel",
      "state": {
       "_model_module": "@jupyter-widgets/controls",
       "_model_module_version": "1.5.0",
       "_model_name": "DescriptionStyleModel",
       "_view_count": null,
       "_view_module": "@jupyter-widgets/base",
       "_view_module_version": "1.2.0",
       "_view_name": "StyleView",
       "description_width": ""
      }
     },
     "6d1d240671354cedb13a766e2c27eed7": {
      "model_module": "@jupyter-widgets/base",
      "model_module_version": "1.2.0",
      "model_name": "LayoutModel",
      "state": {
       "_model_module": "@jupyter-widgets/base",
       "_model_module_version": "1.2.0",
       "_model_name": "LayoutModel",
       "_view_count": null,
       "_view_module": "@jupyter-widgets/base",
       "_view_module_version": "1.2.0",
       "_view_name": "LayoutView",
       "align_content": null,
       "align_items": null,
       "align_self": null,
       "border": null,
       "bottom": null,
       "display": null,
       "flex": null,
       "flex_flow": null,
       "grid_area": null,
       "grid_auto_columns": null,
       "grid_auto_flow": null,
       "grid_auto_rows": null,
       "grid_column": null,
       "grid_gap": null,
       "grid_row": null,
       "grid_template_areas": null,
       "grid_template_columns": null,
       "grid_template_rows": null,
       "height": null,
       "justify_content": null,
       "justify_items": null,
       "left": null,
       "margin": null,
       "max_height": null,
       "max_width": null,
       "min_height": null,
       "min_width": null,
       "object_fit": null,
       "object_position": null,
       "order": null,
       "overflow": null,
       "overflow_x": null,
       "overflow_y": null,
       "padding": null,
       "right": null,
       "top": null,
       "visibility": null,
       "width": null
      }
     },
     "6fc663792d60458e8e8b49997bd9e47f": {
      "model_module": "@jupyter-widgets/controls",
      "model_module_version": "1.5.0",
      "model_name": "HTMLModel",
      "state": {
       "_dom_classes": [],
       "_model_module": "@jupyter-widgets/controls",
       "_model_module_version": "1.5.0",
       "_model_name": "HTMLModel",
       "_view_count": null,
       "_view_module": "@jupyter-widgets/controls",
       "_view_module_version": "1.5.0",
       "_view_name": "HTMLView",
       "description": "",
       "description_tooltip": null,
       "layout": "IPY_MODEL_cae11399337a4f4db72fdf209b8d7d38",
       "placeholder": "​",
       "style": "IPY_MODEL_c2bbcaff581b42f59b6a4db3706b94e1",
       "value": "Generate report structure: 100%"
      }
     },
     "71ecda75edf84203b6e69385d977a512": {
      "model_module": "@jupyter-widgets/controls",
      "model_module_version": "1.5.0",
      "model_name": "DescriptionStyleModel",
      "state": {
       "_model_module": "@jupyter-widgets/controls",
       "_model_module_version": "1.5.0",
       "_model_name": "DescriptionStyleModel",
       "_view_count": null,
       "_view_module": "@jupyter-widgets/base",
       "_view_module_version": "1.2.0",
       "_view_name": "StyleView",
       "description_width": ""
      }
     },
     "787804f5bfca48a987675c0a0a5172d7": {
      "model_module": "@jupyter-widgets/controls",
      "model_module_version": "1.5.0",
      "model_name": "HBoxModel",
      "state": {
       "_dom_classes": [],
       "_model_module": "@jupyter-widgets/controls",
       "_model_module_version": "1.5.0",
       "_model_name": "HBoxModel",
       "_view_count": null,
       "_view_module": "@jupyter-widgets/controls",
       "_view_module_version": "1.5.0",
       "_view_name": "HBoxView",
       "box_style": "",
       "children": [
        "IPY_MODEL_00d986be04b4464e849847e9e6c25054",
        "IPY_MODEL_4033ebcf77ae42518a9358d87eadbbb9",
        "IPY_MODEL_7fd81b1739664c5db0eaf76366107fc8"
       ],
       "layout": "IPY_MODEL_9846303b27724954ac0adfe6c001dbe4"
      }
     },
     "7fd81b1739664c5db0eaf76366107fc8": {
      "model_module": "@jupyter-widgets/controls",
      "model_module_version": "1.5.0",
      "model_name": "HTMLModel",
      "state": {
       "_dom_classes": [],
       "_model_module": "@jupyter-widgets/controls",
       "_model_module_version": "1.5.0",
       "_model_name": "HTMLModel",
       "_view_count": null,
       "_view_module": "@jupyter-widgets/controls",
       "_view_module_version": "1.5.0",
       "_view_name": "HTMLView",
       "description": "",
       "description_tooltip": null,
       "layout": "IPY_MODEL_c32d3310c73743719c81a823d245e49d",
       "placeholder": "​",
       "style": "IPY_MODEL_e276aaba4301406888b47b85b485e979",
       "value": " 26/26 [00:07&lt;00:00,  2.28it/s, Completed]"
      }
     },
     "83b36ba33c5b4b0ebfa68c5040865644": {
      "model_module": "@jupyter-widgets/base",
      "model_module_version": "1.2.0",
      "model_name": "LayoutModel",
      "state": {
       "_model_module": "@jupyter-widgets/base",
       "_model_module_version": "1.2.0",
       "_model_name": "LayoutModel",
       "_view_count": null,
       "_view_module": "@jupyter-widgets/base",
       "_view_module_version": "1.2.0",
       "_view_name": "LayoutView",
       "align_content": null,
       "align_items": null,
       "align_self": null,
       "border": null,
       "bottom": null,
       "display": null,
       "flex": null,
       "flex_flow": null,
       "grid_area": null,
       "grid_auto_columns": null,
       "grid_auto_flow": null,
       "grid_auto_rows": null,
       "grid_column": null,
       "grid_gap": null,
       "grid_row": null,
       "grid_template_areas": null,
       "grid_template_columns": null,
       "grid_template_rows": null,
       "height": null,
       "justify_content": null,
       "justify_items": null,
       "left": null,
       "margin": null,
       "max_height": null,
       "max_width": null,
       "min_height": null,
       "min_width": null,
       "object_fit": null,
       "object_position": null,
       "order": null,
       "overflow": null,
       "overflow_x": null,
       "overflow_y": null,
       "padding": null,
       "right": null,
       "top": null,
       "visibility": null,
       "width": null
      }
     },
     "893fbde7d0034cbdb1b4dc5d60ccfe95": {
      "model_module": "@jupyter-widgets/base",
      "model_module_version": "1.2.0",
      "model_name": "LayoutModel",
      "state": {
       "_model_module": "@jupyter-widgets/base",
       "_model_module_version": "1.2.0",
       "_model_name": "LayoutModel",
       "_view_count": null,
       "_view_module": "@jupyter-widgets/base",
       "_view_module_version": "1.2.0",
       "_view_name": "LayoutView",
       "align_content": null,
       "align_items": null,
       "align_self": null,
       "border": null,
       "bottom": null,
       "display": null,
       "flex": null,
       "flex_flow": null,
       "grid_area": null,
       "grid_auto_columns": null,
       "grid_auto_flow": null,
       "grid_auto_rows": null,
       "grid_column": null,
       "grid_gap": null,
       "grid_row": null,
       "grid_template_areas": null,
       "grid_template_columns": null,
       "grid_template_rows": null,
       "height": null,
       "justify_content": null,
       "justify_items": null,
       "left": null,
       "margin": null,
       "max_height": null,
       "max_width": null,
       "min_height": null,
       "min_width": null,
       "object_fit": null,
       "object_position": null,
       "order": null,
       "overflow": null,
       "overflow_x": null,
       "overflow_y": null,
       "padding": null,
       "right": null,
       "top": null,
       "visibility": null,
       "width": null
      }
     },
     "922c32cee5e749d5b35b890ee0913f68": {
      "model_module": "@jupyter-widgets/base",
      "model_module_version": "1.2.0",
      "model_name": "LayoutModel",
      "state": {
       "_model_module": "@jupyter-widgets/base",
       "_model_module_version": "1.2.0",
       "_model_name": "LayoutModel",
       "_view_count": null,
       "_view_module": "@jupyter-widgets/base",
       "_view_module_version": "1.2.0",
       "_view_name": "LayoutView",
       "align_content": null,
       "align_items": null,
       "align_self": null,
       "border": null,
       "bottom": null,
       "display": null,
       "flex": null,
       "flex_flow": null,
       "grid_area": null,
       "grid_auto_columns": null,
       "grid_auto_flow": null,
       "grid_auto_rows": null,
       "grid_column": null,
       "grid_gap": null,
       "grid_row": null,
       "grid_template_areas": null,
       "grid_template_columns": null,
       "grid_template_rows": null,
       "height": null,
       "justify_content": null,
       "justify_items": null,
       "left": null,
       "margin": null,
       "max_height": null,
       "max_width": null,
       "min_height": null,
       "min_width": null,
       "object_fit": null,
       "object_position": null,
       "order": null,
       "overflow": null,
       "overflow_x": null,
       "overflow_y": null,
       "padding": null,
       "right": null,
       "top": null,
       "visibility": null,
       "width": null
      }
     },
     "9846303b27724954ac0adfe6c001dbe4": {
      "model_module": "@jupyter-widgets/base",
      "model_module_version": "1.2.0",
      "model_name": "LayoutModel",
      "state": {
       "_model_module": "@jupyter-widgets/base",
       "_model_module_version": "1.2.0",
       "_model_name": "LayoutModel",
       "_view_count": null,
       "_view_module": "@jupyter-widgets/base",
       "_view_module_version": "1.2.0",
       "_view_name": "LayoutView",
       "align_content": null,
       "align_items": null,
       "align_self": null,
       "border": null,
       "bottom": null,
       "display": null,
       "flex": null,
       "flex_flow": null,
       "grid_area": null,
       "grid_auto_columns": null,
       "grid_auto_flow": null,
       "grid_auto_rows": null,
       "grid_column": null,
       "grid_gap": null,
       "grid_row": null,
       "grid_template_areas": null,
       "grid_template_columns": null,
       "grid_template_rows": null,
       "height": null,
       "justify_content": null,
       "justify_items": null,
       "left": null,
       "margin": null,
       "max_height": null,
       "max_width": null,
       "min_height": null,
       "min_width": null,
       "object_fit": null,
       "object_position": null,
       "order": null,
       "overflow": null,
       "overflow_x": null,
       "overflow_y": null,
       "padding": null,
       "right": null,
       "top": null,
       "visibility": null,
       "width": null
      }
     },
     "98e57afeceb6464eb67104a5f7f5aed9": {
      "model_module": "@jupyter-widgets/base",
      "model_module_version": "1.2.0",
      "model_name": "LayoutModel",
      "state": {
       "_model_module": "@jupyter-widgets/base",
       "_model_module_version": "1.2.0",
       "_model_name": "LayoutModel",
       "_view_count": null,
       "_view_module": "@jupyter-widgets/base",
       "_view_module_version": "1.2.0",
       "_view_name": "LayoutView",
       "align_content": null,
       "align_items": null,
       "align_self": null,
       "border": null,
       "bottom": null,
       "display": null,
       "flex": null,
       "flex_flow": null,
       "grid_area": null,
       "grid_auto_columns": null,
       "grid_auto_flow": null,
       "grid_auto_rows": null,
       "grid_column": null,
       "grid_gap": null,
       "grid_row": null,
       "grid_template_areas": null,
       "grid_template_columns": null,
       "grid_template_rows": null,
       "height": null,
       "justify_content": null,
       "justify_items": null,
       "left": null,
       "margin": null,
       "max_height": null,
       "max_width": null,
       "min_height": null,
       "min_width": null,
       "object_fit": null,
       "object_position": null,
       "order": null,
       "overflow": null,
       "overflow_x": null,
       "overflow_y": null,
       "padding": null,
       "right": null,
       "top": null,
       "visibility": null,
       "width": null
      }
     },
     "9adb7f8263224fac98de5e5c1ee0802f": {
      "model_module": "@jupyter-widgets/base",
      "model_module_version": "1.2.0",
      "model_name": "LayoutModel",
      "state": {
       "_model_module": "@jupyter-widgets/base",
       "_model_module_version": "1.2.0",
       "_model_name": "LayoutModel",
       "_view_count": null,
       "_view_module": "@jupyter-widgets/base",
       "_view_module_version": "1.2.0",
       "_view_name": "LayoutView",
       "align_content": null,
       "align_items": null,
       "align_self": null,
       "border": null,
       "bottom": null,
       "display": null,
       "flex": null,
       "flex_flow": null,
       "grid_area": null,
       "grid_auto_columns": null,
       "grid_auto_flow": null,
       "grid_auto_rows": null,
       "grid_column": null,
       "grid_gap": null,
       "grid_row": null,
       "grid_template_areas": null,
       "grid_template_columns": null,
       "grid_template_rows": null,
       "height": null,
       "justify_content": null,
       "justify_items": null,
       "left": null,
       "margin": null,
       "max_height": null,
       "max_width": null,
       "min_height": null,
       "min_width": null,
       "object_fit": null,
       "object_position": null,
       "order": null,
       "overflow": null,
       "overflow_x": null,
       "overflow_y": null,
       "padding": null,
       "right": null,
       "top": null,
       "visibility": null,
       "width": null
      }
     },
     "afc664a734d7458e80817b02c18a51d8": {
      "model_module": "@jupyter-widgets/controls",
      "model_module_version": "1.5.0",
      "model_name": "HTMLModel",
      "state": {
       "_dom_classes": [],
       "_model_module": "@jupyter-widgets/controls",
       "_model_module_version": "1.5.0",
       "_model_name": "HTMLModel",
       "_view_count": null,
       "_view_module": "@jupyter-widgets/controls",
       "_view_module_version": "1.5.0",
       "_view_name": "HTMLView",
       "description": "",
       "description_tooltip": null,
       "layout": "IPY_MODEL_922c32cee5e749d5b35b890ee0913f68",
       "placeholder": "​",
       "style": "IPY_MODEL_b38f97860ae8442c833585dec19c0763",
       "value": "Render HTML: 100%"
      }
     },
     "b38f97860ae8442c833585dec19c0763": {
      "model_module": "@jupyter-widgets/controls",
      "model_module_version": "1.5.0",
      "model_name": "DescriptionStyleModel",
      "state": {
       "_model_module": "@jupyter-widgets/controls",
       "_model_module_version": "1.5.0",
       "_model_name": "DescriptionStyleModel",
       "_view_count": null,
       "_view_module": "@jupyter-widgets/base",
       "_view_module_version": "1.2.0",
       "_view_name": "StyleView",
       "description_width": ""
      }
     },
     "b7254765dd154dd68e9d578dc3dc09a7": {
      "model_module": "@jupyter-widgets/controls",
      "model_module_version": "1.5.0",
      "model_name": "HBoxModel",
      "state": {
       "_dom_classes": [],
       "_model_module": "@jupyter-widgets/controls",
       "_model_module_version": "1.5.0",
       "_model_name": "HBoxModel",
       "_view_count": null,
       "_view_module": "@jupyter-widgets/controls",
       "_view_module_version": "1.5.0",
       "_view_name": "HBoxView",
       "box_style": "",
       "children": [
        "IPY_MODEL_6fc663792d60458e8e8b49997bd9e47f",
        "IPY_MODEL_c2c278fa74924590b327dd4827d4b7cd",
        "IPY_MODEL_bf7a9b39c381403b941bb89503689690"
       ],
       "layout": "IPY_MODEL_d4ade089fb5e4d14a1ea1c881ecf3821"
      }
     },
     "b88076c63e8a4659ac61331d37725c2e": {
      "model_module": "@jupyter-widgets/controls",
      "model_module_version": "1.5.0",
      "model_name": "HBoxModel",
      "state": {
       "_dom_classes": [],
       "_model_module": "@jupyter-widgets/controls",
       "_model_module_version": "1.5.0",
       "_model_name": "HBoxModel",
       "_view_count": null,
       "_view_module": "@jupyter-widgets/controls",
       "_view_module_version": "1.5.0",
       "_view_name": "HBoxView",
       "box_style": "",
       "children": [
        "IPY_MODEL_afc664a734d7458e80817b02c18a51d8",
        "IPY_MODEL_3182ffb9595643d38f4c79127c1b25ed",
        "IPY_MODEL_4d126baa0a0c4c30912b1df003186c68"
       ],
       "layout": "IPY_MODEL_bbecbc76ad7c40109e6adf4c7b0a02c9"
      }
     },
     "bbecbc76ad7c40109e6adf4c7b0a02c9": {
      "model_module": "@jupyter-widgets/base",
      "model_module_version": "1.2.0",
      "model_name": "LayoutModel",
      "state": {
       "_model_module": "@jupyter-widgets/base",
       "_model_module_version": "1.2.0",
       "_model_name": "LayoutModel",
       "_view_count": null,
       "_view_module": "@jupyter-widgets/base",
       "_view_module_version": "1.2.0",
       "_view_name": "LayoutView",
       "align_content": null,
       "align_items": null,
       "align_self": null,
       "border": null,
       "bottom": null,
       "display": null,
       "flex": null,
       "flex_flow": null,
       "grid_area": null,
       "grid_auto_columns": null,
       "grid_auto_flow": null,
       "grid_auto_rows": null,
       "grid_column": null,
       "grid_gap": null,
       "grid_row": null,
       "grid_template_areas": null,
       "grid_template_columns": null,
       "grid_template_rows": null,
       "height": null,
       "justify_content": null,
       "justify_items": null,
       "left": null,
       "margin": null,
       "max_height": null,
       "max_width": null,
       "min_height": null,
       "min_width": null,
       "object_fit": null,
       "object_position": null,
       "order": null,
       "overflow": null,
       "overflow_x": null,
       "overflow_y": null,
       "padding": null,
       "right": null,
       "top": null,
       "visibility": null,
       "width": null
      }
     },
     "bf7a9b39c381403b941bb89503689690": {
      "model_module": "@jupyter-widgets/controls",
      "model_module_version": "1.5.0",
      "model_name": "HTMLModel",
      "state": {
       "_dom_classes": [],
       "_model_module": "@jupyter-widgets/controls",
       "_model_module_version": "1.5.0",
       "_model_name": "HTMLModel",
       "_view_count": null,
       "_view_module": "@jupyter-widgets/controls",
       "_view_module_version": "1.5.0",
       "_view_name": "HTMLView",
       "description": "",
       "description_tooltip": null,
       "layout": "IPY_MODEL_9adb7f8263224fac98de5e5c1ee0802f",
       "placeholder": "​",
       "style": "IPY_MODEL_71ecda75edf84203b6e69385d977a512",
       "value": " 1/1 [00:06&lt;00:00,  6.68s/it]"
      }
     },
     "c2bbcaff581b42f59b6a4db3706b94e1": {
      "model_module": "@jupyter-widgets/controls",
      "model_module_version": "1.5.0",
      "model_name": "DescriptionStyleModel",
      "state": {
       "_model_module": "@jupyter-widgets/controls",
       "_model_module_version": "1.5.0",
       "_model_name": "DescriptionStyleModel",
       "_view_count": null,
       "_view_module": "@jupyter-widgets/base",
       "_view_module_version": "1.2.0",
       "_view_name": "StyleView",
       "description_width": ""
      }
     },
     "c2c278fa74924590b327dd4827d4b7cd": {
      "model_module": "@jupyter-widgets/controls",
      "model_module_version": "1.5.0",
      "model_name": "FloatProgressModel",
      "state": {
       "_dom_classes": [],
       "_model_module": "@jupyter-widgets/controls",
       "_model_module_version": "1.5.0",
       "_model_name": "FloatProgressModel",
       "_view_count": null,
       "_view_module": "@jupyter-widgets/controls",
       "_view_module_version": "1.5.0",
       "_view_name": "ProgressView",
       "bar_style": "success",
       "description": "",
       "description_tooltip": null,
       "layout": "IPY_MODEL_dca09f44d6384a38aac9b058d6a8b9af",
       "max": 1,
       "min": 0,
       "orientation": "horizontal",
       "style": "IPY_MODEL_159ffa015dd843d8b614854ac7246dca",
       "value": 1
      }
     },
     "c32d3310c73743719c81a823d245e49d": {
      "model_module": "@jupyter-widgets/base",
      "model_module_version": "1.2.0",
      "model_name": "LayoutModel",
      "state": {
       "_model_module": "@jupyter-widgets/base",
       "_model_module_version": "1.2.0",
       "_model_name": "LayoutModel",
       "_view_count": null,
       "_view_module": "@jupyter-widgets/base",
       "_view_module_version": "1.2.0",
       "_view_name": "LayoutView",
       "align_content": null,
       "align_items": null,
       "align_self": null,
       "border": null,
       "bottom": null,
       "display": null,
       "flex": null,
       "flex_flow": null,
       "grid_area": null,
       "grid_auto_columns": null,
       "grid_auto_flow": null,
       "grid_auto_rows": null,
       "grid_column": null,
       "grid_gap": null,
       "grid_row": null,
       "grid_template_areas": null,
       "grid_template_columns": null,
       "grid_template_rows": null,
       "height": null,
       "justify_content": null,
       "justify_items": null,
       "left": null,
       "margin": null,
       "max_height": null,
       "max_width": null,
       "min_height": null,
       "min_width": null,
       "object_fit": null,
       "object_position": null,
       "order": null,
       "overflow": null,
       "overflow_x": null,
       "overflow_y": null,
       "padding": null,
       "right": null,
       "top": null,
       "visibility": null,
       "width": null
      }
     },
     "cae11399337a4f4db72fdf209b8d7d38": {
      "model_module": "@jupyter-widgets/base",
      "model_module_version": "1.2.0",
      "model_name": "LayoutModel",
      "state": {
       "_model_module": "@jupyter-widgets/base",
       "_model_module_version": "1.2.0",
       "_model_name": "LayoutModel",
       "_view_count": null,
       "_view_module": "@jupyter-widgets/base",
       "_view_module_version": "1.2.0",
       "_view_name": "LayoutView",
       "align_content": null,
       "align_items": null,
       "align_self": null,
       "border": null,
       "bottom": null,
       "display": null,
       "flex": null,
       "flex_flow": null,
       "grid_area": null,
       "grid_auto_columns": null,
       "grid_auto_flow": null,
       "grid_auto_rows": null,
       "grid_column": null,
       "grid_gap": null,
       "grid_row": null,
       "grid_template_areas": null,
       "grid_template_columns": null,
       "grid_template_rows": null,
       "height": null,
       "justify_content": null,
       "justify_items": null,
       "left": null,
       "margin": null,
       "max_height": null,
       "max_width": null,
       "min_height": null,
       "min_width": null,
       "object_fit": null,
       "object_position": null,
       "order": null,
       "overflow": null,
       "overflow_x": null,
       "overflow_y": null,
       "padding": null,
       "right": null,
       "top": null,
       "visibility": null,
       "width": null
      }
     },
     "cd47520edc9341e890c9a63a58cbae76": {
      "model_module": "@jupyter-widgets/controls",
      "model_module_version": "1.5.0",
      "model_name": "ProgressStyleModel",
      "state": {
       "_model_module": "@jupyter-widgets/controls",
       "_model_module_version": "1.5.0",
       "_model_name": "ProgressStyleModel",
       "_view_count": null,
       "_view_module": "@jupyter-widgets/base",
       "_view_module_version": "1.2.0",
       "_view_name": "StyleView",
       "bar_color": null,
       "description_width": ""
      }
     },
     "d0b45cee614c44a893eee5863ba2367c": {
      "model_module": "@jupyter-widgets/controls",
      "model_module_version": "1.5.0",
      "model_name": "DescriptionStyleModel",
      "state": {
       "_model_module": "@jupyter-widgets/controls",
       "_model_module_version": "1.5.0",
       "_model_name": "DescriptionStyleModel",
       "_view_count": null,
       "_view_module": "@jupyter-widgets/base",
       "_view_module_version": "1.2.0",
       "_view_name": "StyleView",
       "description_width": ""
      }
     },
     "d1c4a415bb92448abdeb1fbc45277337": {
      "model_module": "@jupyter-widgets/controls",
      "model_module_version": "1.5.0",
      "model_name": "ProgressStyleModel",
      "state": {
       "_model_module": "@jupyter-widgets/controls",
       "_model_module_version": "1.5.0",
       "_model_name": "ProgressStyleModel",
       "_view_count": null,
       "_view_module": "@jupyter-widgets/base",
       "_view_module_version": "1.2.0",
       "_view_name": "StyleView",
       "bar_color": null,
       "description_width": ""
      }
     },
     "d4ade089fb5e4d14a1ea1c881ecf3821": {
      "model_module": "@jupyter-widgets/base",
      "model_module_version": "1.2.0",
      "model_name": "LayoutModel",
      "state": {
       "_model_module": "@jupyter-widgets/base",
       "_model_module_version": "1.2.0",
       "_model_name": "LayoutModel",
       "_view_count": null,
       "_view_module": "@jupyter-widgets/base",
       "_view_module_version": "1.2.0",
       "_view_name": "LayoutView",
       "align_content": null,
       "align_items": null,
       "align_self": null,
       "border": null,
       "bottom": null,
       "display": null,
       "flex": null,
       "flex_flow": null,
       "grid_area": null,
       "grid_auto_columns": null,
       "grid_auto_flow": null,
       "grid_auto_rows": null,
       "grid_column": null,
       "grid_gap": null,
       "grid_row": null,
       "grid_template_areas": null,
       "grid_template_columns": null,
       "grid_template_rows": null,
       "height": null,
       "justify_content": null,
       "justify_items": null,
       "left": null,
       "margin": null,
       "max_height": null,
       "max_width": null,
       "min_height": null,
       "min_width": null,
       "object_fit": null,
       "object_position": null,
       "order": null,
       "overflow": null,
       "overflow_x": null,
       "overflow_y": null,
       "padding": null,
       "right": null,
       "top": null,
       "visibility": null,
       "width": null
      }
     },
     "dca09f44d6384a38aac9b058d6a8b9af": {
      "model_module": "@jupyter-widgets/base",
      "model_module_version": "1.2.0",
      "model_name": "LayoutModel",
      "state": {
       "_model_module": "@jupyter-widgets/base",
       "_model_module_version": "1.2.0",
       "_model_name": "LayoutModel",
       "_view_count": null,
       "_view_module": "@jupyter-widgets/base",
       "_view_module_version": "1.2.0",
       "_view_name": "LayoutView",
       "align_content": null,
       "align_items": null,
       "align_self": null,
       "border": null,
       "bottom": null,
       "display": null,
       "flex": null,
       "flex_flow": null,
       "grid_area": null,
       "grid_auto_columns": null,
       "grid_auto_flow": null,
       "grid_auto_rows": null,
       "grid_column": null,
       "grid_gap": null,
       "grid_row": null,
       "grid_template_areas": null,
       "grid_template_columns": null,
       "grid_template_rows": null,
       "height": null,
       "justify_content": null,
       "justify_items": null,
       "left": null,
       "margin": null,
       "max_height": null,
       "max_width": null,
       "min_height": null,
       "min_width": null,
       "object_fit": null,
       "object_position": null,
       "order": null,
       "overflow": null,
       "overflow_x": null,
       "overflow_y": null,
       "padding": null,
       "right": null,
       "top": null,
       "visibility": null,
       "width": null
      }
     },
     "e276aaba4301406888b47b85b485e979": {
      "model_module": "@jupyter-widgets/controls",
      "model_module_version": "1.5.0",
      "model_name": "DescriptionStyleModel",
      "state": {
       "_model_module": "@jupyter-widgets/controls",
       "_model_module_version": "1.5.0",
       "_model_name": "DescriptionStyleModel",
       "_view_count": null,
       "_view_module": "@jupyter-widgets/base",
       "_view_module_version": "1.2.0",
       "_view_name": "StyleView",
       "description_width": ""
      }
     }
    },
    "version_major": 2,
    "version_minor": 0
   }
  }
 },
 "nbformat": 4,
 "nbformat_minor": 5
}
