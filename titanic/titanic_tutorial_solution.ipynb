{
  "cells": [
    {
      "cell_type": "markdown",
      "id": "parallel-genesis",
      "metadata": {
        "papermill": {
          "duration": 0.04235,
          "end_time": "2021-06-07T15:29:29.379995",
          "exception": false,
          "start_time": "2021-06-07T15:29:29.337645",
          "status": "completed"
        },
        "tags": [],
        "id": "parallel-genesis"
      },
      "source": [
        "On April 15, 1912, during her maiden voyage, the Titanic sank after colliding with an iceberg, killing 1502 out of 2224 passengers and crew. Translated 32% survival rate.\n",
        "One of the reasons that the shipwreck led to such loss of life was that there were not enough lifeboats for the passengers and crew.\n",
        "Although there was some element of luck involved in surviving the sinking, some groups of people were more likely to survive than others, such as women, children, and the upper-class."
      ]
    },
    {
      "cell_type": "markdown",
      "id": "incomplete-assessment",
      "metadata": {
        "papermill": {
          "duration": 0.039062,
          "end_time": "2021-06-07T15:29:29.536846",
          "exception": false,
          "start_time": "2021-06-07T15:29:29.497784",
          "status": "completed"
        },
        "tags": [],
        "id": "incomplete-assessment"
      },
      "source": [
        "In this notebook we will go through some simple analysis and refer to the tools that you have seen in the Datacamp courses. We will train a couple of simple models to predict the survival rate with machine learning. First, let's list the data that are available on this kaggle notebook"
      ]
    },
    {
      "cell_type": "code",
      "execution_count": null,
      "id": "shared-occurrence",
      "metadata": {
        "_cell_guid": "b1076dfc-b9ad-4769-8c92-a6c4dae69d19",
        "_uuid": "8f2839f25d086af736a60e9eeb907d3b93b6e0e5",
        "execution": {
          "iopub.execute_input": "2021-06-07T15:29:29.625662Z",
          "iopub.status.busy": "2021-06-07T15:29:29.624924Z",
          "iopub.status.idle": "2021-06-07T15:29:29.630568Z",
          "shell.execute_reply": "2021-06-07T15:29:29.629927Z",
          "shell.execute_reply.started": "2021-06-07T13:00:42.985091Z"
        },
        "papermill": {
          "duration": 0.054449,
          "end_time": "2021-06-07T15:29:29.630729",
          "exception": false,
          "start_time": "2021-06-07T15:29:29.576280",
          "status": "completed"
        },
        "tags": [],
        "colab": {
          "base_uri": "https://localhost:8080/"
        },
        "id": "shared-occurrence",
        "outputId": "6bbe6d15-11a8-450e-8221-2d60f2dc157e"
      },
      "outputs": [
        {
          "output_type": "stream",
          "name": "stdout",
          "text": [
            "/content/titanic/train.csv\n",
            "/content/titanic/test.csv\n"
          ]
        }
      ],
      "source": [
        "import os\n",
        "for dirname, _, filenames in os.walk('/content/titanic'):\n",
        "    for filename in filenames:\n",
        "        print(os.path.join(dirname, filename))"
      ]
    },
    {
      "cell_type": "markdown",
      "id": "freelance-brown",
      "metadata": {
        "papermill": {
          "duration": 0.039299,
          "end_time": "2021-06-07T15:29:29.710545",
          "exception": false,
          "start_time": "2021-06-07T15:29:29.671246",
          "status": "completed"
        },
        "tags": [],
        "id": "freelance-brown"
      },
      "source": [
        "In the input folder we find the train and test data in csv format."
      ]
    },
    {
      "cell_type": "markdown",
      "id": "further-memory",
      "metadata": {
        "papermill": {
          "duration": 0.039311,
          "end_time": "2021-06-07T15:29:29.789296",
          "exception": false,
          "start_time": "2021-06-07T15:29:29.749985",
          "status": "completed"
        },
        "tags": [],
        "id": "further-memory"
      },
      "source": [
        "# Data exploration and cleaning\n"
      ]
    },
    {
      "cell_type": "markdown",
      "id": "sophisticated-killing",
      "metadata": {
        "papermill": {
          "duration": 0.039513,
          "end_time": "2021-06-07T15:29:29.868519",
          "exception": false,
          "start_time": "2021-06-07T15:29:29.829006",
          "status": "completed"
        },
        "tags": [],
        "id": "sophisticated-killing"
      },
      "source": [
        "As a first step, we will explore the distribution of data, their correlation and type. First, let's import the the data as a pandas dataframe."
      ]
    },
    {
      "cell_type": "code",
      "execution_count": null,
      "id": "cloudy-courage",
      "metadata": {
        "execution": {
          "iopub.execute_input": "2021-06-07T15:29:29.952712Z",
          "iopub.status.busy": "2021-06-07T15:29:29.952001Z",
          "iopub.status.idle": "2021-06-07T15:29:30.754726Z",
          "shell.execute_reply": "2021-06-07T15:29:30.753517Z",
          "shell.execute_reply.started": "2021-06-07T13:03:17.451391Z"
        },
        "papermill": {
          "duration": 0.84667,
          "end_time": "2021-06-07T15:29:30.754876",
          "exception": false,
          "start_time": "2021-06-07T15:29:29.908206",
          "status": "completed"
        },
        "tags": [],
        "id": "cloudy-courage"
      },
      "outputs": [],
      "source": [
        "import pandas as pd\n",
        "import matplotlib.pyplot as plt\n",
        "import seaborn as sns\n",
        "\n",
        "train_df = pd.read_csv('/content/titanic/train.csv')"
      ]
    },
    {
      "cell_type": "code",
      "execution_count": null,
      "id": "earned-wallet",
      "metadata": {
        "execution": {
          "iopub.execute_input": "2021-06-07T15:29:30.845381Z",
          "iopub.status.busy": "2021-06-07T15:29:30.844520Z",
          "iopub.status.idle": "2021-06-07T15:29:30.867575Z",
          "shell.execute_reply": "2021-06-07T15:29:30.867083Z",
          "shell.execute_reply.started": "2021-06-07T13:03:19.008614Z"
        },
        "papermill": {
          "duration": 0.072937,
          "end_time": "2021-06-07T15:29:30.867716",
          "exception": false,
          "start_time": "2021-06-07T15:29:30.794779",
          "status": "completed"
        },
        "tags": [],
        "colab": {
          "base_uri": "https://localhost:8080/",
          "height": 206
        },
        "id": "earned-wallet",
        "outputId": "1f42cbe2-c854-457b-ab50-807d14e3228b"
      },
      "outputs": [
        {
          "output_type": "execute_result",
          "data": {
            "text/plain": [
              "   PassengerId  Survived  Pclass  \\\n",
              "0            1         0       3   \n",
              "1            2         1       1   \n",
              "2            3         1       3   \n",
              "3            4         1       1   \n",
              "4            5         0       3   \n",
              "\n",
              "                                                Name     Sex   Age  SibSp  \\\n",
              "0                            Braund, Mr. Owen Harris    male  22.0      1   \n",
              "1  Cumings, Mrs. John Bradley (Florence Briggs Th...  female  38.0      1   \n",
              "2                             Heikkinen, Miss. Laina  female  26.0      0   \n",
              "3       Futrelle, Mrs. Jacques Heath (Lily May Peel)  female  35.0      1   \n",
              "4                           Allen, Mr. William Henry    male  35.0      0   \n",
              "\n",
              "   Parch            Ticket     Fare Cabin Embarked  \n",
              "0      0         A/5 21171   7.2500   NaN        S  \n",
              "1      0          PC 17599  71.2833   C85        C  \n",
              "2      0  STON/O2. 3101282   7.9250   NaN        S  \n",
              "3      0            113803  53.1000  C123        S  \n",
              "4      0            373450   8.0500   NaN        S  "
            ],
            "text/html": [
              "\n",
              "  <div id=\"df-d85cfa62-55b0-4673-8df6-324257601080\">\n",
              "    <div class=\"colab-df-container\">\n",
              "      <div>\n",
              "<style scoped>\n",
              "    .dataframe tbody tr th:only-of-type {\n",
              "        vertical-align: middle;\n",
              "    }\n",
              "\n",
              "    .dataframe tbody tr th {\n",
              "        vertical-align: top;\n",
              "    }\n",
              "\n",
              "    .dataframe thead th {\n",
              "        text-align: right;\n",
              "    }\n",
              "</style>\n",
              "<table border=\"1\" class=\"dataframe\">\n",
              "  <thead>\n",
              "    <tr style=\"text-align: right;\">\n",
              "      <th></th>\n",
              "      <th>PassengerId</th>\n",
              "      <th>Survived</th>\n",
              "      <th>Pclass</th>\n",
              "      <th>Name</th>\n",
              "      <th>Sex</th>\n",
              "      <th>Age</th>\n",
              "      <th>SibSp</th>\n",
              "      <th>Parch</th>\n",
              "      <th>Ticket</th>\n",
              "      <th>Fare</th>\n",
              "      <th>Cabin</th>\n",
              "      <th>Embarked</th>\n",
              "    </tr>\n",
              "  </thead>\n",
              "  <tbody>\n",
              "    <tr>\n",
              "      <th>0</th>\n",
              "      <td>1</td>\n",
              "      <td>0</td>\n",
              "      <td>3</td>\n",
              "      <td>Braund, Mr. Owen Harris</td>\n",
              "      <td>male</td>\n",
              "      <td>22.0</td>\n",
              "      <td>1</td>\n",
              "      <td>0</td>\n",
              "      <td>A/5 21171</td>\n",
              "      <td>7.2500</td>\n",
              "      <td>NaN</td>\n",
              "      <td>S</td>\n",
              "    </tr>\n",
              "    <tr>\n",
              "      <th>1</th>\n",
              "      <td>2</td>\n",
              "      <td>1</td>\n",
              "      <td>1</td>\n",
              "      <td>Cumings, Mrs. John Bradley (Florence Briggs Th...</td>\n",
              "      <td>female</td>\n",
              "      <td>38.0</td>\n",
              "      <td>1</td>\n",
              "      <td>0</td>\n",
              "      <td>PC 17599</td>\n",
              "      <td>71.2833</td>\n",
              "      <td>C85</td>\n",
              "      <td>C</td>\n",
              "    </tr>\n",
              "    <tr>\n",
              "      <th>2</th>\n",
              "      <td>3</td>\n",
              "      <td>1</td>\n",
              "      <td>3</td>\n",
              "      <td>Heikkinen, Miss. Laina</td>\n",
              "      <td>female</td>\n",
              "      <td>26.0</td>\n",
              "      <td>0</td>\n",
              "      <td>0</td>\n",
              "      <td>STON/O2. 3101282</td>\n",
              "      <td>7.9250</td>\n",
              "      <td>NaN</td>\n",
              "      <td>S</td>\n",
              "    </tr>\n",
              "    <tr>\n",
              "      <th>3</th>\n",
              "      <td>4</td>\n",
              "      <td>1</td>\n",
              "      <td>1</td>\n",
              "      <td>Futrelle, Mrs. Jacques Heath (Lily May Peel)</td>\n",
              "      <td>female</td>\n",
              "      <td>35.0</td>\n",
              "      <td>1</td>\n",
              "      <td>0</td>\n",
              "      <td>113803</td>\n",
              "      <td>53.1000</td>\n",
              "      <td>C123</td>\n",
              "      <td>S</td>\n",
              "    </tr>\n",
              "    <tr>\n",
              "      <th>4</th>\n",
              "      <td>5</td>\n",
              "      <td>0</td>\n",
              "      <td>3</td>\n",
              "      <td>Allen, Mr. William Henry</td>\n",
              "      <td>male</td>\n",
              "      <td>35.0</td>\n",
              "      <td>0</td>\n",
              "      <td>0</td>\n",
              "      <td>373450</td>\n",
              "      <td>8.0500</td>\n",
              "      <td>NaN</td>\n",
              "      <td>S</td>\n",
              "    </tr>\n",
              "  </tbody>\n",
              "</table>\n",
              "</div>\n",
              "      <button class=\"colab-df-convert\" onclick=\"convertToInteractive('df-d85cfa62-55b0-4673-8df6-324257601080')\"\n",
              "              title=\"Convert this dataframe to an interactive table.\"\n",
              "              style=\"display:none;\">\n",
              "        \n",
              "  <svg xmlns=\"http://www.w3.org/2000/svg\" height=\"24px\"viewBox=\"0 0 24 24\"\n",
              "       width=\"24px\">\n",
              "    <path d=\"M0 0h24v24H0V0z\" fill=\"none\"/>\n",
              "    <path d=\"M18.56 5.44l.94 2.06.94-2.06 2.06-.94-2.06-.94-.94-2.06-.94 2.06-2.06.94zm-11 1L8.5 8.5l.94-2.06 2.06-.94-2.06-.94L8.5 2.5l-.94 2.06-2.06.94zm10 10l.94 2.06.94-2.06 2.06-.94-2.06-.94-.94-2.06-.94 2.06-2.06.94z\"/><path d=\"M17.41 7.96l-1.37-1.37c-.4-.4-.92-.59-1.43-.59-.52 0-1.04.2-1.43.59L10.3 9.45l-7.72 7.72c-.78.78-.78 2.05 0 2.83L4 21.41c.39.39.9.59 1.41.59.51 0 1.02-.2 1.41-.59l7.78-7.78 2.81-2.81c.8-.78.8-2.07 0-2.86zM5.41 20L4 18.59l7.72-7.72 1.47 1.35L5.41 20z\"/>\n",
              "  </svg>\n",
              "      </button>\n",
              "      \n",
              "  <style>\n",
              "    .colab-df-container {\n",
              "      display:flex;\n",
              "      flex-wrap:wrap;\n",
              "      gap: 12px;\n",
              "    }\n",
              "\n",
              "    .colab-df-convert {\n",
              "      background-color: #E8F0FE;\n",
              "      border: none;\n",
              "      border-radius: 50%;\n",
              "      cursor: pointer;\n",
              "      display: none;\n",
              "      fill: #1967D2;\n",
              "      height: 32px;\n",
              "      padding: 0 0 0 0;\n",
              "      width: 32px;\n",
              "    }\n",
              "\n",
              "    .colab-df-convert:hover {\n",
              "      background-color: #E2EBFA;\n",
              "      box-shadow: 0px 1px 2px rgba(60, 64, 67, 0.3), 0px 1px 3px 1px rgba(60, 64, 67, 0.15);\n",
              "      fill: #174EA6;\n",
              "    }\n",
              "\n",
              "    [theme=dark] .colab-df-convert {\n",
              "      background-color: #3B4455;\n",
              "      fill: #D2E3FC;\n",
              "    }\n",
              "\n",
              "    [theme=dark] .colab-df-convert:hover {\n",
              "      background-color: #434B5C;\n",
              "      box-shadow: 0px 1px 3px 1px rgba(0, 0, 0, 0.15);\n",
              "      filter: drop-shadow(0px 1px 2px rgba(0, 0, 0, 0.3));\n",
              "      fill: #FFFFFF;\n",
              "    }\n",
              "  </style>\n",
              "\n",
              "      <script>\n",
              "        const buttonEl =\n",
              "          document.querySelector('#df-d85cfa62-55b0-4673-8df6-324257601080 button.colab-df-convert');\n",
              "        buttonEl.style.display =\n",
              "          google.colab.kernel.accessAllowed ? 'block' : 'none';\n",
              "\n",
              "        async function convertToInteractive(key) {\n",
              "          const element = document.querySelector('#df-d85cfa62-55b0-4673-8df6-324257601080');\n",
              "          const dataTable =\n",
              "            await google.colab.kernel.invokeFunction('convertToInteractive',\n",
              "                                                     [key], {});\n",
              "          if (!dataTable) return;\n",
              "\n",
              "          const docLinkHtml = 'Like what you see? Visit the ' +\n",
              "            '<a target=\"_blank\" href=https://colab.research.google.com/notebooks/data_table.ipynb>data table notebook</a>'\n",
              "            + ' to learn more about interactive tables.';\n",
              "          element.innerHTML = '';\n",
              "          dataTable['output_type'] = 'display_data';\n",
              "          await google.colab.output.renderOutput(dataTable, element);\n",
              "          const docLink = document.createElement('div');\n",
              "          docLink.innerHTML = docLinkHtml;\n",
              "          element.appendChild(docLink);\n",
              "        }\n",
              "      </script>\n",
              "    </div>\n",
              "  </div>\n",
              "  "
            ]
          },
          "metadata": {},
          "execution_count": 2
        }
      ],
      "source": [
        "train_df.head()"
      ]
    },
    {
      "cell_type": "markdown",
      "id": "dietary-practice",
      "metadata": {
        "papermill": {
          "duration": 0.039753,
          "end_time": "2021-06-07T15:29:30.946498",
          "exception": false,
          "start_time": "2021-06-07T15:29:30.906745",
          "status": "completed"
        },
        "tags": [],
        "id": "dietary-practice"
      },
      "source": [
        "In the dataframe, each column represents:\n",
        "* survival -> Survival -> 0 = No, 1 = Yes\n",
        "* pclass -> Ticket class -> 1 = 1st, 2 = 2nd, 3 = 3rd\n",
        "* sex -> Sex -> male/female\n",
        "* Age -> Age in years\n",
        "* sibsp -> # of siblings / spouses aboard the Titanic\n",
        "* parch -> # of parents / children aboard the Titanic\n",
        "* ticket -> Ticket number\n",
        "* fare -> Passenger fare\n",
        "* cabin -> Cabin number\n",
        "* embarked -> Port of Embarkation -> C = Cherbourg, Q = Queenstown, S = Southampton"
      ]
    },
    {
      "cell_type": "markdown",
      "id": "textile-clark",
      "metadata": {
        "papermill": {
          "duration": 0.03962,
          "end_time": "2021-06-07T15:29:31.026113",
          "exception": false,
          "start_time": "2021-06-07T15:29:30.986493",
          "status": "completed"
        },
        "tags": [],
        "id": "textile-clark"
      },
      "source": [
        "With `.info()` we check numerical/categorical columns"
      ]
    },
    {
      "cell_type": "code",
      "execution_count": null,
      "id": "remarkable-warner",
      "metadata": {
        "execution": {
          "iopub.execute_input": "2021-06-07T15:29:31.126605Z",
          "iopub.status.busy": "2021-06-07T15:29:31.125837Z",
          "iopub.status.idle": "2021-06-07T15:29:31.129588Z",
          "shell.execute_reply": "2021-06-07T15:29:31.128958Z",
          "shell.execute_reply.started": "2021-06-07T13:04:43.405937Z"
        },
        "papermill": {
          "duration": 0.062716,
          "end_time": "2021-06-07T15:29:31.129717",
          "exception": false,
          "start_time": "2021-06-07T15:29:31.067001",
          "status": "completed"
        },
        "tags": [],
        "colab": {
          "base_uri": "https://localhost:8080/"
        },
        "id": "remarkable-warner",
        "outputId": "de036180-0aff-46d0-8b9c-a704124303b1"
      },
      "outputs": [
        {
          "output_type": "stream",
          "name": "stdout",
          "text": [
            "<class 'pandas.core.frame.DataFrame'>\n",
            "RangeIndex: 891 entries, 0 to 890\n",
            "Data columns (total 12 columns):\n",
            " #   Column       Non-Null Count  Dtype  \n",
            "---  ------       --------------  -----  \n",
            " 0   PassengerId  891 non-null    int64  \n",
            " 1   Survived     891 non-null    int64  \n",
            " 2   Pclass       891 non-null    int64  \n",
            " 3   Name         891 non-null    object \n",
            " 4   Sex          891 non-null    object \n",
            " 5   Age          714 non-null    float64\n",
            " 6   SibSp        891 non-null    int64  \n",
            " 7   Parch        891 non-null    int64  \n",
            " 8   Ticket       891 non-null    object \n",
            " 9   Fare         891 non-null    float64\n",
            " 10  Cabin        204 non-null    object \n",
            " 11  Embarked     889 non-null    object \n",
            "dtypes: float64(2), int64(5), object(5)\n",
            "memory usage: 83.7+ KB\n"
          ]
        }
      ],
      "source": [
        "train_df.info()"
      ]
    },
    {
      "cell_type": "markdown",
      "id": "first-horizontal",
      "metadata": {
        "papermill": {
          "duration": 0.039734,
          "end_time": "2021-06-07T15:29:31.209706",
          "exception": false,
          "start_time": "2021-06-07T15:29:31.169972",
          "status": "completed"
        },
        "tags": [],
        "id": "first-horizontal"
      },
      "source": [
        "# Cleaning categorical features"
      ]
    },
    {
      "cell_type": "markdown",
      "id": "tribal-ecuador",
      "metadata": {
        "papermill": {
          "duration": 0.039506,
          "end_time": "2021-06-07T15:29:31.289094",
          "exception": false,
          "start_time": "2021-06-07T15:29:31.249588",
          "status": "completed"
        },
        "tags": [],
        "id": "tribal-ecuador"
      },
      "source": [
        "To get some info on non-numerical variables, we can still use the `.describe()` command but we need to pass the argument `include=['object']`"
      ]
    },
    {
      "cell_type": "code",
      "execution_count": null,
      "id": "chief-reduction",
      "metadata": {
        "execution": {
          "iopub.execute_input": "2021-06-07T15:29:31.372567Z",
          "iopub.status.busy": "2021-06-07T15:29:31.371987Z",
          "iopub.status.idle": "2021-06-07T15:29:31.409010Z",
          "shell.execute_reply": "2021-06-07T15:29:31.408526Z",
          "shell.execute_reply.started": "2021-06-07T13:05:46.241792Z"
        },
        "papermill": {
          "duration": 0.079601,
          "end_time": "2021-06-07T15:29:31.409138",
          "exception": false,
          "start_time": "2021-06-07T15:29:31.329537",
          "status": "completed"
        },
        "tags": [],
        "colab": {
          "base_uri": "https://localhost:8080/",
          "height": 175
        },
        "id": "chief-reduction",
        "outputId": "25aac52d-fa45-4f31-8f20-72eee92bb7a6"
      },
      "outputs": [
        {
          "output_type": "execute_result",
          "data": {
            "text/plain": [
              "                           Name   Sex  Ticket    Cabin Embarked\n",
              "count                       891   891     891      204      889\n",
              "unique                      891     2     681      147        3\n",
              "top     Braund, Mr. Owen Harris  male  347082  B96 B98        S\n",
              "freq                          1   577       7        4      644"
            ],
            "text/html": [
              "\n",
              "  <div id=\"df-d7c0fb98-96fc-462a-a99b-1fb541765ba2\">\n",
              "    <div class=\"colab-df-container\">\n",
              "      <div>\n",
              "<style scoped>\n",
              "    .dataframe tbody tr th:only-of-type {\n",
              "        vertical-align: middle;\n",
              "    }\n",
              "\n",
              "    .dataframe tbody tr th {\n",
              "        vertical-align: top;\n",
              "    }\n",
              "\n",
              "    .dataframe thead th {\n",
              "        text-align: right;\n",
              "    }\n",
              "</style>\n",
              "<table border=\"1\" class=\"dataframe\">\n",
              "  <thead>\n",
              "    <tr style=\"text-align: right;\">\n",
              "      <th></th>\n",
              "      <th>Name</th>\n",
              "      <th>Sex</th>\n",
              "      <th>Ticket</th>\n",
              "      <th>Cabin</th>\n",
              "      <th>Embarked</th>\n",
              "    </tr>\n",
              "  </thead>\n",
              "  <tbody>\n",
              "    <tr>\n",
              "      <th>count</th>\n",
              "      <td>891</td>\n",
              "      <td>891</td>\n",
              "      <td>891</td>\n",
              "      <td>204</td>\n",
              "      <td>889</td>\n",
              "    </tr>\n",
              "    <tr>\n",
              "      <th>unique</th>\n",
              "      <td>891</td>\n",
              "      <td>2</td>\n",
              "      <td>681</td>\n",
              "      <td>147</td>\n",
              "      <td>3</td>\n",
              "    </tr>\n",
              "    <tr>\n",
              "      <th>top</th>\n",
              "      <td>Braund, Mr. Owen Harris</td>\n",
              "      <td>male</td>\n",
              "      <td>347082</td>\n",
              "      <td>B96 B98</td>\n",
              "      <td>S</td>\n",
              "    </tr>\n",
              "    <tr>\n",
              "      <th>freq</th>\n",
              "      <td>1</td>\n",
              "      <td>577</td>\n",
              "      <td>7</td>\n",
              "      <td>4</td>\n",
              "      <td>644</td>\n",
              "    </tr>\n",
              "  </tbody>\n",
              "</table>\n",
              "</div>\n",
              "      <button class=\"colab-df-convert\" onclick=\"convertToInteractive('df-d7c0fb98-96fc-462a-a99b-1fb541765ba2')\"\n",
              "              title=\"Convert this dataframe to an interactive table.\"\n",
              "              style=\"display:none;\">\n",
              "        \n",
              "  <svg xmlns=\"http://www.w3.org/2000/svg\" height=\"24px\"viewBox=\"0 0 24 24\"\n",
              "       width=\"24px\">\n",
              "    <path d=\"M0 0h24v24H0V0z\" fill=\"none\"/>\n",
              "    <path d=\"M18.56 5.44l.94 2.06.94-2.06 2.06-.94-2.06-.94-.94-2.06-.94 2.06-2.06.94zm-11 1L8.5 8.5l.94-2.06 2.06-.94-2.06-.94L8.5 2.5l-.94 2.06-2.06.94zm10 10l.94 2.06.94-2.06 2.06-.94-2.06-.94-.94-2.06-.94 2.06-2.06.94z\"/><path d=\"M17.41 7.96l-1.37-1.37c-.4-.4-.92-.59-1.43-.59-.52 0-1.04.2-1.43.59L10.3 9.45l-7.72 7.72c-.78.78-.78 2.05 0 2.83L4 21.41c.39.39.9.59 1.41.59.51 0 1.02-.2 1.41-.59l7.78-7.78 2.81-2.81c.8-.78.8-2.07 0-2.86zM5.41 20L4 18.59l7.72-7.72 1.47 1.35L5.41 20z\"/>\n",
              "  </svg>\n",
              "      </button>\n",
              "      \n",
              "  <style>\n",
              "    .colab-df-container {\n",
              "      display:flex;\n",
              "      flex-wrap:wrap;\n",
              "      gap: 12px;\n",
              "    }\n",
              "\n",
              "    .colab-df-convert {\n",
              "      background-color: #E8F0FE;\n",
              "      border: none;\n",
              "      border-radius: 50%;\n",
              "      cursor: pointer;\n",
              "      display: none;\n",
              "      fill: #1967D2;\n",
              "      height: 32px;\n",
              "      padding: 0 0 0 0;\n",
              "      width: 32px;\n",
              "    }\n",
              "\n",
              "    .colab-df-convert:hover {\n",
              "      background-color: #E2EBFA;\n",
              "      box-shadow: 0px 1px 2px rgba(60, 64, 67, 0.3), 0px 1px 3px 1px rgba(60, 64, 67, 0.15);\n",
              "      fill: #174EA6;\n",
              "    }\n",
              "\n",
              "    [theme=dark] .colab-df-convert {\n",
              "      background-color: #3B4455;\n",
              "      fill: #D2E3FC;\n",
              "    }\n",
              "\n",
              "    [theme=dark] .colab-df-convert:hover {\n",
              "      background-color: #434B5C;\n",
              "      box-shadow: 0px 1px 3px 1px rgba(0, 0, 0, 0.15);\n",
              "      filter: drop-shadow(0px 1px 2px rgba(0, 0, 0, 0.3));\n",
              "      fill: #FFFFFF;\n",
              "    }\n",
              "  </style>\n",
              "\n",
              "      <script>\n",
              "        const buttonEl =\n",
              "          document.querySelector('#df-d7c0fb98-96fc-462a-a99b-1fb541765ba2 button.colab-df-convert');\n",
              "        buttonEl.style.display =\n",
              "          google.colab.kernel.accessAllowed ? 'block' : 'none';\n",
              "\n",
              "        async function convertToInteractive(key) {\n",
              "          const element = document.querySelector('#df-d7c0fb98-96fc-462a-a99b-1fb541765ba2');\n",
              "          const dataTable =\n",
              "            await google.colab.kernel.invokeFunction('convertToInteractive',\n",
              "                                                     [key], {});\n",
              "          if (!dataTable) return;\n",
              "\n",
              "          const docLinkHtml = 'Like what you see? Visit the ' +\n",
              "            '<a target=\"_blank\" href=https://colab.research.google.com/notebooks/data_table.ipynb>data table notebook</a>'\n",
              "            + ' to learn more about interactive tables.';\n",
              "          element.innerHTML = '';\n",
              "          dataTable['output_type'] = 'display_data';\n",
              "          await google.colab.output.renderOutput(dataTable, element);\n",
              "          const docLink = document.createElement('div');\n",
              "          docLink.innerHTML = docLinkHtml;\n",
              "          element.appendChild(docLink);\n",
              "        }\n",
              "      </script>\n",
              "    </div>\n",
              "  </div>\n",
              "  "
            ]
          },
          "metadata": {},
          "execution_count": 4
        }
      ],
      "source": [
        "train_df.describe(include=['object'])"
      ]
    },
    {
      "cell_type": "code",
      "execution_count": null,
      "id": "useful-survey",
      "metadata": {
        "execution": {
          "iopub.execute_input": "2021-06-07T15:29:31.503783Z",
          "iopub.status.busy": "2021-06-07T15:29:31.503131Z",
          "iopub.status.idle": "2021-06-07T15:29:31.508788Z",
          "shell.execute_reply": "2021-06-07T15:29:31.508287Z",
          "shell.execute_reply.started": "2021-06-07T13:06:32.938508Z"
        },
        "papermill": {
          "duration": 0.058986,
          "end_time": "2021-06-07T15:29:31.508926",
          "exception": false,
          "start_time": "2021-06-07T15:29:31.449940",
          "status": "completed"
        },
        "tags": [],
        "colab": {
          "base_uri": "https://localhost:8080/",
          "height": 206
        },
        "id": "useful-survey",
        "outputId": "51481667-77e8-447a-a060-8fb5bf8e767f"
      },
      "outputs": [
        {
          "output_type": "execute_result",
          "data": {
            "text/plain": [
              "                                                Name     Sex  \\\n",
              "0                            Braund, Mr. Owen Harris    male   \n",
              "1  Cumings, Mrs. John Bradley (Florence Briggs Th...  female   \n",
              "2                             Heikkinen, Miss. Laina  female   \n",
              "3       Futrelle, Mrs. Jacques Heath (Lily May Peel)  female   \n",
              "4                           Allen, Mr. William Henry    male   \n",
              "\n",
              "             Ticket Cabin Embarked  \n",
              "0         A/5 21171   NaN        S  \n",
              "1          PC 17599   C85        C  \n",
              "2  STON/O2. 3101282   NaN        S  \n",
              "3            113803  C123        S  \n",
              "4            373450   NaN        S  "
            ],
            "text/html": [
              "\n",
              "  <div id=\"df-9f710e94-1ff9-4913-8e98-e68ba2fde43f\">\n",
              "    <div class=\"colab-df-container\">\n",
              "      <div>\n",
              "<style scoped>\n",
              "    .dataframe tbody tr th:only-of-type {\n",
              "        vertical-align: middle;\n",
              "    }\n",
              "\n",
              "    .dataframe tbody tr th {\n",
              "        vertical-align: top;\n",
              "    }\n",
              "\n",
              "    .dataframe thead th {\n",
              "        text-align: right;\n",
              "    }\n",
              "</style>\n",
              "<table border=\"1\" class=\"dataframe\">\n",
              "  <thead>\n",
              "    <tr style=\"text-align: right;\">\n",
              "      <th></th>\n",
              "      <th>Name</th>\n",
              "      <th>Sex</th>\n",
              "      <th>Ticket</th>\n",
              "      <th>Cabin</th>\n",
              "      <th>Embarked</th>\n",
              "    </tr>\n",
              "  </thead>\n",
              "  <tbody>\n",
              "    <tr>\n",
              "      <th>0</th>\n",
              "      <td>Braund, Mr. Owen Harris</td>\n",
              "      <td>male</td>\n",
              "      <td>A/5 21171</td>\n",
              "      <td>NaN</td>\n",
              "      <td>S</td>\n",
              "    </tr>\n",
              "    <tr>\n",
              "      <th>1</th>\n",
              "      <td>Cumings, Mrs. John Bradley (Florence Briggs Th...</td>\n",
              "      <td>female</td>\n",
              "      <td>PC 17599</td>\n",
              "      <td>C85</td>\n",
              "      <td>C</td>\n",
              "    </tr>\n",
              "    <tr>\n",
              "      <th>2</th>\n",
              "      <td>Heikkinen, Miss. Laina</td>\n",
              "      <td>female</td>\n",
              "      <td>STON/O2. 3101282</td>\n",
              "      <td>NaN</td>\n",
              "      <td>S</td>\n",
              "    </tr>\n",
              "    <tr>\n",
              "      <th>3</th>\n",
              "      <td>Futrelle, Mrs. Jacques Heath (Lily May Peel)</td>\n",
              "      <td>female</td>\n",
              "      <td>113803</td>\n",
              "      <td>C123</td>\n",
              "      <td>S</td>\n",
              "    </tr>\n",
              "    <tr>\n",
              "      <th>4</th>\n",
              "      <td>Allen, Mr. William Henry</td>\n",
              "      <td>male</td>\n",
              "      <td>373450</td>\n",
              "      <td>NaN</td>\n",
              "      <td>S</td>\n",
              "    </tr>\n",
              "  </tbody>\n",
              "</table>\n",
              "</div>\n",
              "      <button class=\"colab-df-convert\" onclick=\"convertToInteractive('df-9f710e94-1ff9-4913-8e98-e68ba2fde43f')\"\n",
              "              title=\"Convert this dataframe to an interactive table.\"\n",
              "              style=\"display:none;\">\n",
              "        \n",
              "  <svg xmlns=\"http://www.w3.org/2000/svg\" height=\"24px\"viewBox=\"0 0 24 24\"\n",
              "       width=\"24px\">\n",
              "    <path d=\"M0 0h24v24H0V0z\" fill=\"none\"/>\n",
              "    <path d=\"M18.56 5.44l.94 2.06.94-2.06 2.06-.94-2.06-.94-.94-2.06-.94 2.06-2.06.94zm-11 1L8.5 8.5l.94-2.06 2.06-.94-2.06-.94L8.5 2.5l-.94 2.06-2.06.94zm10 10l.94 2.06.94-2.06 2.06-.94-2.06-.94-.94-2.06-.94 2.06-2.06.94z\"/><path d=\"M17.41 7.96l-1.37-1.37c-.4-.4-.92-.59-1.43-.59-.52 0-1.04.2-1.43.59L10.3 9.45l-7.72 7.72c-.78.78-.78 2.05 0 2.83L4 21.41c.39.39.9.59 1.41.59.51 0 1.02-.2 1.41-.59l7.78-7.78 2.81-2.81c.8-.78.8-2.07 0-2.86zM5.41 20L4 18.59l7.72-7.72 1.47 1.35L5.41 20z\"/>\n",
              "  </svg>\n",
              "      </button>\n",
              "      \n",
              "  <style>\n",
              "    .colab-df-container {\n",
              "      display:flex;\n",
              "      flex-wrap:wrap;\n",
              "      gap: 12px;\n",
              "    }\n",
              "\n",
              "    .colab-df-convert {\n",
              "      background-color: #E8F0FE;\n",
              "      border: none;\n",
              "      border-radius: 50%;\n",
              "      cursor: pointer;\n",
              "      display: none;\n",
              "      fill: #1967D2;\n",
              "      height: 32px;\n",
              "      padding: 0 0 0 0;\n",
              "      width: 32px;\n",
              "    }\n",
              "\n",
              "    .colab-df-convert:hover {\n",
              "      background-color: #E2EBFA;\n",
              "      box-shadow: 0px 1px 2px rgba(60, 64, 67, 0.3), 0px 1px 3px 1px rgba(60, 64, 67, 0.15);\n",
              "      fill: #174EA6;\n",
              "    }\n",
              "\n",
              "    [theme=dark] .colab-df-convert {\n",
              "      background-color: #3B4455;\n",
              "      fill: #D2E3FC;\n",
              "    }\n",
              "\n",
              "    [theme=dark] .colab-df-convert:hover {\n",
              "      background-color: #434B5C;\n",
              "      box-shadow: 0px 1px 3px 1px rgba(0, 0, 0, 0.15);\n",
              "      filter: drop-shadow(0px 1px 2px rgba(0, 0, 0, 0.3));\n",
              "      fill: #FFFFFF;\n",
              "    }\n",
              "  </style>\n",
              "\n",
              "      <script>\n",
              "        const buttonEl =\n",
              "          document.querySelector('#df-9f710e94-1ff9-4913-8e98-e68ba2fde43f button.colab-df-convert');\n",
              "        buttonEl.style.display =\n",
              "          google.colab.kernel.accessAllowed ? 'block' : 'none';\n",
              "\n",
              "        async function convertToInteractive(key) {\n",
              "          const element = document.querySelector('#df-9f710e94-1ff9-4913-8e98-e68ba2fde43f');\n",
              "          const dataTable =\n",
              "            await google.colab.kernel.invokeFunction('convertToInteractive',\n",
              "                                                     [key], {});\n",
              "          if (!dataTable) return;\n",
              "\n",
              "          const docLinkHtml = 'Like what you see? Visit the ' +\n",
              "            '<a target=\"_blank\" href=https://colab.research.google.com/notebooks/data_table.ipynb>data table notebook</a>'\n",
              "            + ' to learn more about interactive tables.';\n",
              "          element.innerHTML = '';\n",
              "          dataTable['output_type'] = 'display_data';\n",
              "          await google.colab.output.renderOutput(dataTable, element);\n",
              "          const docLink = document.createElement('div');\n",
              "          docLink.innerHTML = docLinkHtml;\n",
              "          element.appendChild(docLink);\n",
              "        }\n",
              "      </script>\n",
              "    </div>\n",
              "  </div>\n",
              "  "
            ]
          },
          "metadata": {},
          "execution_count": 5
        }
      ],
      "source": [
        "train_df[['Name', 'Sex', 'Ticket', 'Cabin', 'Embarked']].head()"
      ]
    },
    {
      "cell_type": "markdown",
      "id": "sound-flashing",
      "metadata": {
        "papermill": {
          "duration": 0.040559,
          "end_time": "2021-06-07T15:29:31.590645",
          "exception": false,
          "start_time": "2021-06-07T15:29:31.550086",
          "status": "completed"
        },
        "tags": [],
        "id": "sound-flashing"
      },
      "source": [
        "Some important remarks:\n",
        "* Names are unique across the dataset (count=unique=891)\n",
        "* Sex variable has two possible values with 65% male (top=male, freq=577/count=891).\n",
        "* Cabin values have several dupicates across samples. In other words, several passengers shared a cabin.\n",
        "* Embarked takes three possible values. S port used by most passengers (top=S)\n",
        "* Ticket feature has high ratio (22%) of duplicate values (unique=681)."
      ]
    },
    {
      "cell_type": "markdown",
      "source": [
        "**Task: 1**"
      ],
      "metadata": {
        "id": "nZvxP1SxYU8J"
      },
      "id": "nZvxP1SxYU8J"
    },
    {
      "cell_type": "markdown",
      "source": [
        "Which column has the most number of missing values?"
      ],
      "metadata": {
        "id": "SQmDCOXsWRY4"
      },
      "id": "SQmDCOXsWRY4"
    },
    {
      "cell_type": "code",
      "execution_count": null,
      "id": "smoking-motorcycle",
      "metadata": {
        "execution": {
          "iopub.execute_input": "2021-06-07T15:29:31.762781Z",
          "iopub.status.busy": "2021-06-07T15:29:31.761944Z",
          "iopub.status.idle": "2021-06-07T15:29:31.765518Z",
          "shell.execute_reply": "2021-06-07T15:29:31.765978Z",
          "shell.execute_reply.started": "2021-06-07T13:11:19.245487Z"
        },
        "papermill": {
          "duration": 0.052378,
          "end_time": "2021-06-07T15:29:31.766141",
          "exception": false,
          "start_time": "2021-06-07T15:29:31.713763",
          "status": "completed"
        },
        "tags": [],
        "colab": {
          "base_uri": "https://localhost:8080/"
        },
        "id": "smoking-motorcycle",
        "outputId": "86dd2df4-d3c8-498c-caae-0085122139e1"
      },
      "outputs": [
        {
          "output_type": "execute_result",
          "data": {
            "text/plain": [
              "PassengerId      0\n",
              "Survived         0\n",
              "Pclass           0\n",
              "Name             0\n",
              "Sex              0\n",
              "Age            177\n",
              "SibSp            0\n",
              "Parch            0\n",
              "Ticket           0\n",
              "Fare             0\n",
              "Cabin          687\n",
              "Embarked         2\n",
              "dtype: int64"
            ]
          },
          "metadata": {},
          "execution_count": 6
        }
      ],
      "source": [
        "train_df.isna().sum()"
      ]
    },
    {
      "cell_type": "markdown",
      "source": [
        "Most missing values in column _____\n",
        "\n",
        "---"
      ],
      "metadata": {
        "id": "vMewkFEiW7U_"
      },
      "id": "vMewkFEiW7U_"
    },
    {
      "cell_type": "markdown",
      "id": "floating-zambia",
      "metadata": {
        "papermill": {
          "duration": 0.041351,
          "end_time": "2021-06-07T15:29:31.848815",
          "exception": false,
          "start_time": "2021-06-07T15:29:31.807464",
          "status": "completed"
        },
        "tags": [],
        "id": "floating-zambia"
      },
      "source": [
        "To simplify our analysis, we will drop the 'Ticket', 'Cabin' and 'Embarked' columns."
      ]
    },
    {
      "cell_type": "code",
      "execution_count": null,
      "id": "egyptian-guidance",
      "metadata": {
        "execution": {
          "iopub.execute_input": "2021-06-07T15:29:31.935692Z",
          "iopub.status.busy": "2021-06-07T15:29:31.934666Z",
          "iopub.status.idle": "2021-06-07T15:29:31.940063Z",
          "shell.execute_reply": "2021-06-07T15:29:31.940583Z",
          "shell.execute_reply.started": "2021-06-07T13:11:56.410836Z"
        },
        "papermill": {
          "duration": 0.050634,
          "end_time": "2021-06-07T15:29:31.940748",
          "exception": false,
          "start_time": "2021-06-07T15:29:31.890114",
          "status": "completed"
        },
        "tags": [],
        "id": "egyptian-guidance"
      },
      "outputs": [],
      "source": [
        "train_df = train_df.drop(['Ticket', 'Cabin', 'Embarked'], axis=1)"
      ]
    },
    {
      "cell_type": "markdown",
      "id": "given-consortium",
      "metadata": {
        "papermill": {
          "duration": 0.041142,
          "end_time": "2021-06-07T15:29:32.023769",
          "exception": false,
          "start_time": "2021-06-07T15:29:31.982627",
          "status": "completed"
        },
        "tags": [],
        "id": "given-consortium"
      },
      "source": [
        "### Feature Engineering: Creating new features from existing ones: Titles from Names"
      ]
    },
    {
      "cell_type": "code",
      "execution_count": null,
      "id": "about-tenant",
      "metadata": {
        "execution": {
          "iopub.execute_input": "2021-06-07T15:29:32.109930Z",
          "iopub.status.busy": "2021-06-07T15:29:32.108852Z",
          "iopub.status.idle": "2021-06-07T15:29:32.125633Z",
          "shell.execute_reply": "2021-06-07T15:29:32.125079Z",
          "shell.execute_reply.started": "2021-06-07T11:55:40.75294Z"
        },
        "papermill": {
          "duration": 0.060834,
          "end_time": "2021-06-07T15:29:32.125778",
          "exception": false,
          "start_time": "2021-06-07T15:29:32.064944",
          "status": "completed"
        },
        "tags": [],
        "colab": {
          "base_uri": "https://localhost:8080/",
          "height": 363
        },
        "id": "about-tenant",
        "outputId": "72a24182-2b67-42d9-977d-559cf3444c17"
      },
      "outputs": [
        {
          "output_type": "execute_result",
          "data": {
            "text/plain": [
              "   PassengerId  Survived  Pclass  \\\n",
              "0            1         0       3   \n",
              "1            2         1       1   \n",
              "2            3         1       3   \n",
              "3            4         1       1   \n",
              "4            5         0       3   \n",
              "5            6         0       3   \n",
              "6            7         0       1   \n",
              "7            8         0       3   \n",
              "8            9         1       3   \n",
              "9           10         1       2   \n",
              "\n",
              "                                                Name     Sex   Age  SibSp  \\\n",
              "0                            Braund, Mr. Owen Harris    male  22.0      1   \n",
              "1  Cumings, Mrs. John Bradley (Florence Briggs Th...  female  38.0      1   \n",
              "2                             Heikkinen, Miss. Laina  female  26.0      0   \n",
              "3       Futrelle, Mrs. Jacques Heath (Lily May Peel)  female  35.0      1   \n",
              "4                           Allen, Mr. William Henry    male  35.0      0   \n",
              "5                                   Moran, Mr. James    male   NaN      0   \n",
              "6                            McCarthy, Mr. Timothy J    male  54.0      0   \n",
              "7                     Palsson, Master. Gosta Leonard    male   2.0      3   \n",
              "8  Johnson, Mrs. Oscar W (Elisabeth Vilhelmina Berg)  female  27.0      0   \n",
              "9                Nasser, Mrs. Nicholas (Adele Achem)  female  14.0      1   \n",
              "\n",
              "   Parch     Fare  \n",
              "0      0   7.2500  \n",
              "1      0  71.2833  \n",
              "2      0   7.9250  \n",
              "3      0  53.1000  \n",
              "4      0   8.0500  \n",
              "5      0   8.4583  \n",
              "6      0  51.8625  \n",
              "7      1  21.0750  \n",
              "8      2  11.1333  \n",
              "9      0  30.0708  "
            ],
            "text/html": [
              "\n",
              "  <div id=\"df-b44117fb-c3bb-4d4d-a5a1-c257fffc4ec2\">\n",
              "    <div class=\"colab-df-container\">\n",
              "      <div>\n",
              "<style scoped>\n",
              "    .dataframe tbody tr th:only-of-type {\n",
              "        vertical-align: middle;\n",
              "    }\n",
              "\n",
              "    .dataframe tbody tr th {\n",
              "        vertical-align: top;\n",
              "    }\n",
              "\n",
              "    .dataframe thead th {\n",
              "        text-align: right;\n",
              "    }\n",
              "</style>\n",
              "<table border=\"1\" class=\"dataframe\">\n",
              "  <thead>\n",
              "    <tr style=\"text-align: right;\">\n",
              "      <th></th>\n",
              "      <th>PassengerId</th>\n",
              "      <th>Survived</th>\n",
              "      <th>Pclass</th>\n",
              "      <th>Name</th>\n",
              "      <th>Sex</th>\n",
              "      <th>Age</th>\n",
              "      <th>SibSp</th>\n",
              "      <th>Parch</th>\n",
              "      <th>Fare</th>\n",
              "    </tr>\n",
              "  </thead>\n",
              "  <tbody>\n",
              "    <tr>\n",
              "      <th>0</th>\n",
              "      <td>1</td>\n",
              "      <td>0</td>\n",
              "      <td>3</td>\n",
              "      <td>Braund, Mr. Owen Harris</td>\n",
              "      <td>male</td>\n",
              "      <td>22.0</td>\n",
              "      <td>1</td>\n",
              "      <td>0</td>\n",
              "      <td>7.2500</td>\n",
              "    </tr>\n",
              "    <tr>\n",
              "      <th>1</th>\n",
              "      <td>2</td>\n",
              "      <td>1</td>\n",
              "      <td>1</td>\n",
              "      <td>Cumings, Mrs. John Bradley (Florence Briggs Th...</td>\n",
              "      <td>female</td>\n",
              "      <td>38.0</td>\n",
              "      <td>1</td>\n",
              "      <td>0</td>\n",
              "      <td>71.2833</td>\n",
              "    </tr>\n",
              "    <tr>\n",
              "      <th>2</th>\n",
              "      <td>3</td>\n",
              "      <td>1</td>\n",
              "      <td>3</td>\n",
              "      <td>Heikkinen, Miss. Laina</td>\n",
              "      <td>female</td>\n",
              "      <td>26.0</td>\n",
              "      <td>0</td>\n",
              "      <td>0</td>\n",
              "      <td>7.9250</td>\n",
              "    </tr>\n",
              "    <tr>\n",
              "      <th>3</th>\n",
              "      <td>4</td>\n",
              "      <td>1</td>\n",
              "      <td>1</td>\n",
              "      <td>Futrelle, Mrs. Jacques Heath (Lily May Peel)</td>\n",
              "      <td>female</td>\n",
              "      <td>35.0</td>\n",
              "      <td>1</td>\n",
              "      <td>0</td>\n",
              "      <td>53.1000</td>\n",
              "    </tr>\n",
              "    <tr>\n",
              "      <th>4</th>\n",
              "      <td>5</td>\n",
              "      <td>0</td>\n",
              "      <td>3</td>\n",
              "      <td>Allen, Mr. William Henry</td>\n",
              "      <td>male</td>\n",
              "      <td>35.0</td>\n",
              "      <td>0</td>\n",
              "      <td>0</td>\n",
              "      <td>8.0500</td>\n",
              "    </tr>\n",
              "    <tr>\n",
              "      <th>5</th>\n",
              "      <td>6</td>\n",
              "      <td>0</td>\n",
              "      <td>3</td>\n",
              "      <td>Moran, Mr. James</td>\n",
              "      <td>male</td>\n",
              "      <td>NaN</td>\n",
              "      <td>0</td>\n",
              "      <td>0</td>\n",
              "      <td>8.4583</td>\n",
              "    </tr>\n",
              "    <tr>\n",
              "      <th>6</th>\n",
              "      <td>7</td>\n",
              "      <td>0</td>\n",
              "      <td>1</td>\n",
              "      <td>McCarthy, Mr. Timothy J</td>\n",
              "      <td>male</td>\n",
              "      <td>54.0</td>\n",
              "      <td>0</td>\n",
              "      <td>0</td>\n",
              "      <td>51.8625</td>\n",
              "    </tr>\n",
              "    <tr>\n",
              "      <th>7</th>\n",
              "      <td>8</td>\n",
              "      <td>0</td>\n",
              "      <td>3</td>\n",
              "      <td>Palsson, Master. Gosta Leonard</td>\n",
              "      <td>male</td>\n",
              "      <td>2.0</td>\n",
              "      <td>3</td>\n",
              "      <td>1</td>\n",
              "      <td>21.0750</td>\n",
              "    </tr>\n",
              "    <tr>\n",
              "      <th>8</th>\n",
              "      <td>9</td>\n",
              "      <td>1</td>\n",
              "      <td>3</td>\n",
              "      <td>Johnson, Mrs. Oscar W (Elisabeth Vilhelmina Berg)</td>\n",
              "      <td>female</td>\n",
              "      <td>27.0</td>\n",
              "      <td>0</td>\n",
              "      <td>2</td>\n",
              "      <td>11.1333</td>\n",
              "    </tr>\n",
              "    <tr>\n",
              "      <th>9</th>\n",
              "      <td>10</td>\n",
              "      <td>1</td>\n",
              "      <td>2</td>\n",
              "      <td>Nasser, Mrs. Nicholas (Adele Achem)</td>\n",
              "      <td>female</td>\n",
              "      <td>14.0</td>\n",
              "      <td>1</td>\n",
              "      <td>0</td>\n",
              "      <td>30.0708</td>\n",
              "    </tr>\n",
              "  </tbody>\n",
              "</table>\n",
              "</div>\n",
              "      <button class=\"colab-df-convert\" onclick=\"convertToInteractive('df-b44117fb-c3bb-4d4d-a5a1-c257fffc4ec2')\"\n",
              "              title=\"Convert this dataframe to an interactive table.\"\n",
              "              style=\"display:none;\">\n",
              "        \n",
              "  <svg xmlns=\"http://www.w3.org/2000/svg\" height=\"24px\"viewBox=\"0 0 24 24\"\n",
              "       width=\"24px\">\n",
              "    <path d=\"M0 0h24v24H0V0z\" fill=\"none\"/>\n",
              "    <path d=\"M18.56 5.44l.94 2.06.94-2.06 2.06-.94-2.06-.94-.94-2.06-.94 2.06-2.06.94zm-11 1L8.5 8.5l.94-2.06 2.06-.94-2.06-.94L8.5 2.5l-.94 2.06-2.06.94zm10 10l.94 2.06.94-2.06 2.06-.94-2.06-.94-.94-2.06-.94 2.06-2.06.94z\"/><path d=\"M17.41 7.96l-1.37-1.37c-.4-.4-.92-.59-1.43-.59-.52 0-1.04.2-1.43.59L10.3 9.45l-7.72 7.72c-.78.78-.78 2.05 0 2.83L4 21.41c.39.39.9.59 1.41.59.51 0 1.02-.2 1.41-.59l7.78-7.78 2.81-2.81c.8-.78.8-2.07 0-2.86zM5.41 20L4 18.59l7.72-7.72 1.47 1.35L5.41 20z\"/>\n",
              "  </svg>\n",
              "      </button>\n",
              "      \n",
              "  <style>\n",
              "    .colab-df-container {\n",
              "      display:flex;\n",
              "      flex-wrap:wrap;\n",
              "      gap: 12px;\n",
              "    }\n",
              "\n",
              "    .colab-df-convert {\n",
              "      background-color: #E8F0FE;\n",
              "      border: none;\n",
              "      border-radius: 50%;\n",
              "      cursor: pointer;\n",
              "      display: none;\n",
              "      fill: #1967D2;\n",
              "      height: 32px;\n",
              "      padding: 0 0 0 0;\n",
              "      width: 32px;\n",
              "    }\n",
              "\n",
              "    .colab-df-convert:hover {\n",
              "      background-color: #E2EBFA;\n",
              "      box-shadow: 0px 1px 2px rgba(60, 64, 67, 0.3), 0px 1px 3px 1px rgba(60, 64, 67, 0.15);\n",
              "      fill: #174EA6;\n",
              "    }\n",
              "\n",
              "    [theme=dark] .colab-df-convert {\n",
              "      background-color: #3B4455;\n",
              "      fill: #D2E3FC;\n",
              "    }\n",
              "\n",
              "    [theme=dark] .colab-df-convert:hover {\n",
              "      background-color: #434B5C;\n",
              "      box-shadow: 0px 1px 3px 1px rgba(0, 0, 0, 0.15);\n",
              "      filter: drop-shadow(0px 1px 2px rgba(0, 0, 0, 0.3));\n",
              "      fill: #FFFFFF;\n",
              "    }\n",
              "  </style>\n",
              "\n",
              "      <script>\n",
              "        const buttonEl =\n",
              "          document.querySelector('#df-b44117fb-c3bb-4d4d-a5a1-c257fffc4ec2 button.colab-df-convert');\n",
              "        buttonEl.style.display =\n",
              "          google.colab.kernel.accessAllowed ? 'block' : 'none';\n",
              "\n",
              "        async function convertToInteractive(key) {\n",
              "          const element = document.querySelector('#df-b44117fb-c3bb-4d4d-a5a1-c257fffc4ec2');\n",
              "          const dataTable =\n",
              "            await google.colab.kernel.invokeFunction('convertToInteractive',\n",
              "                                                     [key], {});\n",
              "          if (!dataTable) return;\n",
              "\n",
              "          const docLinkHtml = 'Like what you see? Visit the ' +\n",
              "            '<a target=\"_blank\" href=https://colab.research.google.com/notebooks/data_table.ipynb>data table notebook</a>'\n",
              "            + ' to learn more about interactive tables.';\n",
              "          element.innerHTML = '';\n",
              "          dataTable['output_type'] = 'display_data';\n",
              "          await google.colab.output.renderOutput(dataTable, element);\n",
              "          const docLink = document.createElement('div');\n",
              "          docLink.innerHTML = docLinkHtml;\n",
              "          element.appendChild(docLink);\n",
              "        }\n",
              "      </script>\n",
              "    </div>\n",
              "  </div>\n",
              "  "
            ]
          },
          "metadata": {},
          "execution_count": 8
        }
      ],
      "source": [
        "train_df.head(10)"
      ]
    },
    {
      "cell_type": "markdown",
      "source": [
        "We see that the names contains information about the titles of the passengers. Lets extract the titles from the names."
      ],
      "metadata": {
        "id": "JF8QXb1jXKSS"
      },
      "id": "JF8QXb1jXKSS"
    },
    {
      "cell_type": "markdown",
      "source": [
        "**Task: 2**"
      ],
      "metadata": {
        "id": "tzfxipiBYbhw"
      },
      "id": "tzfxipiBYbhw"
    },
    {
      "cell_type": "markdown",
      "source": [
        "You can use regular expression to extract the titles. What should we be looking for? How does the title stand apart from the rest of the name?\n",
        "\n",
        "Once we have the regex expression, we can use `str.extract()` method with the regex expression on the Name column."
      ],
      "metadata": {
        "id": "i7zlImILXh2G"
      },
      "id": "i7zlImILXh2G"
    },
    {
      "cell_type": "markdown",
      "source": [
        "Extract the titles to a new column named `'Title'`."
      ],
      "metadata": {
        "id": "sJRntgviYw3I"
      },
      "id": "sJRntgviYw3I"
    },
    {
      "cell_type": "code",
      "execution_count": null,
      "id": "distinct-monaco",
      "metadata": {
        "execution": {
          "iopub.execute_input": "2021-06-07T15:29:32.222608Z",
          "iopub.status.busy": "2021-06-07T15:29:32.222029Z",
          "iopub.status.idle": "2021-06-07T15:29:32.249650Z",
          "shell.execute_reply": "2021-06-07T15:29:32.250128Z",
          "shell.execute_reply.started": "2021-06-07T13:14:20.123844Z"
        },
        "papermill": {
          "duration": 0.082386,
          "end_time": "2021-06-07T15:29:32.250289",
          "exception": false,
          "start_time": "2021-06-07T15:29:32.167903",
          "status": "completed"
        },
        "tags": [],
        "id": "distinct-monaco"
      },
      "outputs": [],
      "source": [
        "train_df['Title'] = train_df.Name.str.extract('([A-Za-z]+)\\.')"
      ]
    },
    {
      "cell_type": "markdown",
      "source": [
        "The frequency of occurance of each of the titles in males and females can be obtained by using a cross tabulation frequency table.\n",
        "\n"
      ],
      "metadata": {
        "id": "w9Y1ynnyYoZ_"
      },
      "id": "w9Y1ynnyYoZ_"
    },
    {
      "cell_type": "code",
      "source": [
        "pd.crosstab(train_df['Title'], train_df['Sex'])"
      ],
      "metadata": {
        "colab": {
          "base_uri": "https://localhost:8080/",
          "height": 614
        },
        "id": "QZ4mGngLYlHz",
        "outputId": "5d94cc2f-8042-406a-9259-9b6f64d2483a"
      },
      "id": "QZ4mGngLYlHz",
      "execution_count": null,
      "outputs": [
        {
          "output_type": "execute_result",
          "data": {
            "text/plain": [
              "Sex       female  male\n",
              "Title                 \n",
              "Capt           0     1\n",
              "Col            0     2\n",
              "Countess       1     0\n",
              "Don            0     1\n",
              "Dr             1     6\n",
              "Jonkheer       0     1\n",
              "Lady           1     0\n",
              "Major          0     2\n",
              "Master         0    40\n",
              "Miss         182     0\n",
              "Mlle           2     0\n",
              "Mme            1     0\n",
              "Mr             0   517\n",
              "Mrs          125     0\n",
              "Ms             1     0\n",
              "Rev            0     6\n",
              "Sir            0     1"
            ],
            "text/html": [
              "\n",
              "  <div id=\"df-55ab24be-7fb9-4e93-ab1d-d4cbd29e15be\">\n",
              "    <div class=\"colab-df-container\">\n",
              "      <div>\n",
              "<style scoped>\n",
              "    .dataframe tbody tr th:only-of-type {\n",
              "        vertical-align: middle;\n",
              "    }\n",
              "\n",
              "    .dataframe tbody tr th {\n",
              "        vertical-align: top;\n",
              "    }\n",
              "\n",
              "    .dataframe thead th {\n",
              "        text-align: right;\n",
              "    }\n",
              "</style>\n",
              "<table border=\"1\" class=\"dataframe\">\n",
              "  <thead>\n",
              "    <tr style=\"text-align: right;\">\n",
              "      <th>Sex</th>\n",
              "      <th>female</th>\n",
              "      <th>male</th>\n",
              "    </tr>\n",
              "    <tr>\n",
              "      <th>Title</th>\n",
              "      <th></th>\n",
              "      <th></th>\n",
              "    </tr>\n",
              "  </thead>\n",
              "  <tbody>\n",
              "    <tr>\n",
              "      <th>Capt</th>\n",
              "      <td>0</td>\n",
              "      <td>1</td>\n",
              "    </tr>\n",
              "    <tr>\n",
              "      <th>Col</th>\n",
              "      <td>0</td>\n",
              "      <td>2</td>\n",
              "    </tr>\n",
              "    <tr>\n",
              "      <th>Countess</th>\n",
              "      <td>1</td>\n",
              "      <td>0</td>\n",
              "    </tr>\n",
              "    <tr>\n",
              "      <th>Don</th>\n",
              "      <td>0</td>\n",
              "      <td>1</td>\n",
              "    </tr>\n",
              "    <tr>\n",
              "      <th>Dr</th>\n",
              "      <td>1</td>\n",
              "      <td>6</td>\n",
              "    </tr>\n",
              "    <tr>\n",
              "      <th>Jonkheer</th>\n",
              "      <td>0</td>\n",
              "      <td>1</td>\n",
              "    </tr>\n",
              "    <tr>\n",
              "      <th>Lady</th>\n",
              "      <td>1</td>\n",
              "      <td>0</td>\n",
              "    </tr>\n",
              "    <tr>\n",
              "      <th>Major</th>\n",
              "      <td>0</td>\n",
              "      <td>2</td>\n",
              "    </tr>\n",
              "    <tr>\n",
              "      <th>Master</th>\n",
              "      <td>0</td>\n",
              "      <td>40</td>\n",
              "    </tr>\n",
              "    <tr>\n",
              "      <th>Miss</th>\n",
              "      <td>182</td>\n",
              "      <td>0</td>\n",
              "    </tr>\n",
              "    <tr>\n",
              "      <th>Mlle</th>\n",
              "      <td>2</td>\n",
              "      <td>0</td>\n",
              "    </tr>\n",
              "    <tr>\n",
              "      <th>Mme</th>\n",
              "      <td>1</td>\n",
              "      <td>0</td>\n",
              "    </tr>\n",
              "    <tr>\n",
              "      <th>Mr</th>\n",
              "      <td>0</td>\n",
              "      <td>517</td>\n",
              "    </tr>\n",
              "    <tr>\n",
              "      <th>Mrs</th>\n",
              "      <td>125</td>\n",
              "      <td>0</td>\n",
              "    </tr>\n",
              "    <tr>\n",
              "      <th>Ms</th>\n",
              "      <td>1</td>\n",
              "      <td>0</td>\n",
              "    </tr>\n",
              "    <tr>\n",
              "      <th>Rev</th>\n",
              "      <td>0</td>\n",
              "      <td>6</td>\n",
              "    </tr>\n",
              "    <tr>\n",
              "      <th>Sir</th>\n",
              "      <td>0</td>\n",
              "      <td>1</td>\n",
              "    </tr>\n",
              "  </tbody>\n",
              "</table>\n",
              "</div>\n",
              "      <button class=\"colab-df-convert\" onclick=\"convertToInteractive('df-55ab24be-7fb9-4e93-ab1d-d4cbd29e15be')\"\n",
              "              title=\"Convert this dataframe to an interactive table.\"\n",
              "              style=\"display:none;\">\n",
              "        \n",
              "  <svg xmlns=\"http://www.w3.org/2000/svg\" height=\"24px\"viewBox=\"0 0 24 24\"\n",
              "       width=\"24px\">\n",
              "    <path d=\"M0 0h24v24H0V0z\" fill=\"none\"/>\n",
              "    <path d=\"M18.56 5.44l.94 2.06.94-2.06 2.06-.94-2.06-.94-.94-2.06-.94 2.06-2.06.94zm-11 1L8.5 8.5l.94-2.06 2.06-.94-2.06-.94L8.5 2.5l-.94 2.06-2.06.94zm10 10l.94 2.06.94-2.06 2.06-.94-2.06-.94-.94-2.06-.94 2.06-2.06.94z\"/><path d=\"M17.41 7.96l-1.37-1.37c-.4-.4-.92-.59-1.43-.59-.52 0-1.04.2-1.43.59L10.3 9.45l-7.72 7.72c-.78.78-.78 2.05 0 2.83L4 21.41c.39.39.9.59 1.41.59.51 0 1.02-.2 1.41-.59l7.78-7.78 2.81-2.81c.8-.78.8-2.07 0-2.86zM5.41 20L4 18.59l7.72-7.72 1.47 1.35L5.41 20z\"/>\n",
              "  </svg>\n",
              "      </button>\n",
              "      \n",
              "  <style>\n",
              "    .colab-df-container {\n",
              "      display:flex;\n",
              "      flex-wrap:wrap;\n",
              "      gap: 12px;\n",
              "    }\n",
              "\n",
              "    .colab-df-convert {\n",
              "      background-color: #E8F0FE;\n",
              "      border: none;\n",
              "      border-radius: 50%;\n",
              "      cursor: pointer;\n",
              "      display: none;\n",
              "      fill: #1967D2;\n",
              "      height: 32px;\n",
              "      padding: 0 0 0 0;\n",
              "      width: 32px;\n",
              "    }\n",
              "\n",
              "    .colab-df-convert:hover {\n",
              "      background-color: #E2EBFA;\n",
              "      box-shadow: 0px 1px 2px rgba(60, 64, 67, 0.3), 0px 1px 3px 1px rgba(60, 64, 67, 0.15);\n",
              "      fill: #174EA6;\n",
              "    }\n",
              "\n",
              "    [theme=dark] .colab-df-convert {\n",
              "      background-color: #3B4455;\n",
              "      fill: #D2E3FC;\n",
              "    }\n",
              "\n",
              "    [theme=dark] .colab-df-convert:hover {\n",
              "      background-color: #434B5C;\n",
              "      box-shadow: 0px 1px 3px 1px rgba(0, 0, 0, 0.15);\n",
              "      filter: drop-shadow(0px 1px 2px rgba(0, 0, 0, 0.3));\n",
              "      fill: #FFFFFF;\n",
              "    }\n",
              "  </style>\n",
              "\n",
              "      <script>\n",
              "        const buttonEl =\n",
              "          document.querySelector('#df-55ab24be-7fb9-4e93-ab1d-d4cbd29e15be button.colab-df-convert');\n",
              "        buttonEl.style.display =\n",
              "          google.colab.kernel.accessAllowed ? 'block' : 'none';\n",
              "\n",
              "        async function convertToInteractive(key) {\n",
              "          const element = document.querySelector('#df-55ab24be-7fb9-4e93-ab1d-d4cbd29e15be');\n",
              "          const dataTable =\n",
              "            await google.colab.kernel.invokeFunction('convertToInteractive',\n",
              "                                                     [key], {});\n",
              "          if (!dataTable) return;\n",
              "\n",
              "          const docLinkHtml = 'Like what you see? Visit the ' +\n",
              "            '<a target=\"_blank\" href=https://colab.research.google.com/notebooks/data_table.ipynb>data table notebook</a>'\n",
              "            + ' to learn more about interactive tables.';\n",
              "          element.innerHTML = '';\n",
              "          dataTable['output_type'] = 'display_data';\n",
              "          await google.colab.output.renderOutput(dataTable, element);\n",
              "          const docLink = document.createElement('div');\n",
              "          docLink.innerHTML = docLinkHtml;\n",
              "          element.appendChild(docLink);\n",
              "        }\n",
              "      </script>\n",
              "    </div>\n",
              "  </div>\n",
              "  "
            ]
          },
          "metadata": {},
          "execution_count": 10
        }
      ]
    },
    {
      "cell_type": "markdown",
      "source": [
        "We see that there are several titles, some referring to the same type of person. Some of the title are very rare among the passengers."
      ],
      "metadata": {
        "id": "baWTKrrscLzZ"
      },
      "id": "baWTKrrscLzZ"
    },
    {
      "cell_type": "markdown",
      "source": [
        "**Task: 3**"
      ],
      "metadata": {
        "id": "3CFVifHYcePV"
      },
      "id": "3CFVifHYcePV"
    },
    {
      "cell_type": "markdown",
      "source": [
        "* Replace the following titles with the word `'Rare'`.\n",
        "\n",
        "\n",
        "`['Lady', 'Countess', 'Capt', 'Col', 'Don', 'Dr', 'Major', 'Rev', 'Sir', 'Jonkheer']`\n",
        "\n",
        "* Replace the title `'Mlle'` with `'Miss'`. (Mademoiselle is a French courtesy title, abbreviated Mlle, traditionally given to an unmarried woman)\n",
        "\n",
        "* Replace the title `'Mme'` with `'Mrs'`. (French title Madame for married woman)\n",
        "\n",
        "* Replace the title `'Ms'` with `'Miss'`. \n",
        "\n"
      ],
      "metadata": {
        "id": "F4sNnjMaciEH"
      },
      "id": "F4sNnjMaciEH"
    },
    {
      "cell_type": "code",
      "execution_count": null,
      "id": "hydraulic-rebecca",
      "metadata": {
        "execution": {
          "iopub.execute_input": "2021-06-07T15:29:32.338443Z",
          "iopub.status.busy": "2021-06-07T15:29:32.337858Z",
          "iopub.status.idle": "2021-06-07T15:29:32.357461Z",
          "shell.execute_reply": "2021-06-07T15:29:32.356824Z",
          "shell.execute_reply.started": "2021-06-07T13:15:55.080235Z"
        },
        "papermill": {
          "duration": 0.064612,
          "end_time": "2021-06-07T15:29:32.357596",
          "exception": false,
          "start_time": "2021-06-07T15:29:32.292984",
          "status": "completed"
        },
        "tags": [],
        "id": "hydraulic-rebecca"
      },
      "outputs": [],
      "source": [
        "train_df['Title'] = train_df['Title'].replace(['Lady', 'Countess','Capt', 'Col',\\\n",
        "'Don', 'Dr', 'Major', 'Rev', 'Sir', 'Jonkheer'], 'Rare')\n",
        "\n",
        "train_df['Title'] = train_df['Title'].replace('Mlle', 'Miss')\n",
        "train_df['Title'] = train_df['Title'].replace('Ms', 'Miss')\n",
        "train_df['Title'] = train_df['Title'].replace('Mme', 'Mrs')"
      ]
    },
    {
      "cell_type": "markdown",
      "source": [
        "We should now have 5 titles. Let us check the survival rate of each of these title holders.\n"
      ],
      "metadata": {
        "id": "xKiBqwSXePD8"
      },
      "id": "xKiBqwSXePD8"
    },
    {
      "cell_type": "markdown",
      "source": [
        "**Task: 4**"
      ],
      "metadata": {
        "id": "_RtSVRmkeg19"
      },
      "id": "_RtSVRmkeg19"
    },
    {
      "cell_type": "markdown",
      "source": [
        "Calculate the mean value of the column `'Survived'` for each of the titles. "
      ],
      "metadata": {
        "id": "KqiRlh2jejsv"
      },
      "id": "KqiRlh2jejsv"
    },
    {
      "cell_type": "code",
      "source": [
        "train_df[['Title', 'Survived']].groupby(['Title']).mean()"
      ],
      "metadata": {
        "colab": {
          "base_uri": "https://localhost:8080/",
          "height": 238
        },
        "id": "KTkFSVpXe4DW",
        "outputId": "29c72059-2e16-491b-b496-32cac9508025"
      },
      "id": "KTkFSVpXe4DW",
      "execution_count": null,
      "outputs": [
        {
          "output_type": "execute_result",
          "data": {
            "text/plain": [
              "        Survived\n",
              "Title           \n",
              "Master  0.575000\n",
              "Miss    0.702703\n",
              "Mr      0.156673\n",
              "Mrs     0.793651\n",
              "Rare    0.347826"
            ],
            "text/html": [
              "\n",
              "  <div id=\"df-beecbdfc-a5c5-41e7-9e19-2bebb2fd43b2\">\n",
              "    <div class=\"colab-df-container\">\n",
              "      <div>\n",
              "<style scoped>\n",
              "    .dataframe tbody tr th:only-of-type {\n",
              "        vertical-align: middle;\n",
              "    }\n",
              "\n",
              "    .dataframe tbody tr th {\n",
              "        vertical-align: top;\n",
              "    }\n",
              "\n",
              "    .dataframe thead th {\n",
              "        text-align: right;\n",
              "    }\n",
              "</style>\n",
              "<table border=\"1\" class=\"dataframe\">\n",
              "  <thead>\n",
              "    <tr style=\"text-align: right;\">\n",
              "      <th></th>\n",
              "      <th>Survived</th>\n",
              "    </tr>\n",
              "    <tr>\n",
              "      <th>Title</th>\n",
              "      <th></th>\n",
              "    </tr>\n",
              "  </thead>\n",
              "  <tbody>\n",
              "    <tr>\n",
              "      <th>Master</th>\n",
              "      <td>0.575000</td>\n",
              "    </tr>\n",
              "    <tr>\n",
              "      <th>Miss</th>\n",
              "      <td>0.702703</td>\n",
              "    </tr>\n",
              "    <tr>\n",
              "      <th>Mr</th>\n",
              "      <td>0.156673</td>\n",
              "    </tr>\n",
              "    <tr>\n",
              "      <th>Mrs</th>\n",
              "      <td>0.793651</td>\n",
              "    </tr>\n",
              "    <tr>\n",
              "      <th>Rare</th>\n",
              "      <td>0.347826</td>\n",
              "    </tr>\n",
              "  </tbody>\n",
              "</table>\n",
              "</div>\n",
              "      <button class=\"colab-df-convert\" onclick=\"convertToInteractive('df-beecbdfc-a5c5-41e7-9e19-2bebb2fd43b2')\"\n",
              "              title=\"Convert this dataframe to an interactive table.\"\n",
              "              style=\"display:none;\">\n",
              "        \n",
              "  <svg xmlns=\"http://www.w3.org/2000/svg\" height=\"24px\"viewBox=\"0 0 24 24\"\n",
              "       width=\"24px\">\n",
              "    <path d=\"M0 0h24v24H0V0z\" fill=\"none\"/>\n",
              "    <path d=\"M18.56 5.44l.94 2.06.94-2.06 2.06-.94-2.06-.94-.94-2.06-.94 2.06-2.06.94zm-11 1L8.5 8.5l.94-2.06 2.06-.94-2.06-.94L8.5 2.5l-.94 2.06-2.06.94zm10 10l.94 2.06.94-2.06 2.06-.94-2.06-.94-.94-2.06-.94 2.06-2.06.94z\"/><path d=\"M17.41 7.96l-1.37-1.37c-.4-.4-.92-.59-1.43-.59-.52 0-1.04.2-1.43.59L10.3 9.45l-7.72 7.72c-.78.78-.78 2.05 0 2.83L4 21.41c.39.39.9.59 1.41.59.51 0 1.02-.2 1.41-.59l7.78-7.78 2.81-2.81c.8-.78.8-2.07 0-2.86zM5.41 20L4 18.59l7.72-7.72 1.47 1.35L5.41 20z\"/>\n",
              "  </svg>\n",
              "      </button>\n",
              "      \n",
              "  <style>\n",
              "    .colab-df-container {\n",
              "      display:flex;\n",
              "      flex-wrap:wrap;\n",
              "      gap: 12px;\n",
              "    }\n",
              "\n",
              "    .colab-df-convert {\n",
              "      background-color: #E8F0FE;\n",
              "      border: none;\n",
              "      border-radius: 50%;\n",
              "      cursor: pointer;\n",
              "      display: none;\n",
              "      fill: #1967D2;\n",
              "      height: 32px;\n",
              "      padding: 0 0 0 0;\n",
              "      width: 32px;\n",
              "    }\n",
              "\n",
              "    .colab-df-convert:hover {\n",
              "      background-color: #E2EBFA;\n",
              "      box-shadow: 0px 1px 2px rgba(60, 64, 67, 0.3), 0px 1px 3px 1px rgba(60, 64, 67, 0.15);\n",
              "      fill: #174EA6;\n",
              "    }\n",
              "\n",
              "    [theme=dark] .colab-df-convert {\n",
              "      background-color: #3B4455;\n",
              "      fill: #D2E3FC;\n",
              "    }\n",
              "\n",
              "    [theme=dark] .colab-df-convert:hover {\n",
              "      background-color: #434B5C;\n",
              "      box-shadow: 0px 1px 3px 1px rgba(0, 0, 0, 0.15);\n",
              "      filter: drop-shadow(0px 1px 2px rgba(0, 0, 0, 0.3));\n",
              "      fill: #FFFFFF;\n",
              "    }\n",
              "  </style>\n",
              "\n",
              "      <script>\n",
              "        const buttonEl =\n",
              "          document.querySelector('#df-beecbdfc-a5c5-41e7-9e19-2bebb2fd43b2 button.colab-df-convert');\n",
              "        buttonEl.style.display =\n",
              "          google.colab.kernel.accessAllowed ? 'block' : 'none';\n",
              "\n",
              "        async function convertToInteractive(key) {\n",
              "          const element = document.querySelector('#df-beecbdfc-a5c5-41e7-9e19-2bebb2fd43b2');\n",
              "          const dataTable =\n",
              "            await google.colab.kernel.invokeFunction('convertToInteractive',\n",
              "                                                     [key], {});\n",
              "          if (!dataTable) return;\n",
              "\n",
              "          const docLinkHtml = 'Like what you see? Visit the ' +\n",
              "            '<a target=\"_blank\" href=https://colab.research.google.com/notebooks/data_table.ipynb>data table notebook</a>'\n",
              "            + ' to learn more about interactive tables.';\n",
              "          element.innerHTML = '';\n",
              "          dataTable['output_type'] = 'display_data';\n",
              "          await google.colab.output.renderOutput(dataTable, element);\n",
              "          const docLink = document.createElement('div');\n",
              "          docLink.innerHTML = docLinkHtml;\n",
              "          element.appendChild(docLink);\n",
              "        }\n",
              "      </script>\n",
              "    </div>\n",
              "  </div>\n",
              "  "
            ]
          },
          "metadata": {},
          "execution_count": 12
        }
      ]
    },
    {
      "cell_type": "markdown",
      "source": [
        "The most survival rate was associated with the title _____\n",
        "\n",
        "---"
      ],
      "metadata": {
        "id": "X4b2VJHYfQeo"
      },
      "id": "X4b2VJHYfQeo"
    },
    {
      "cell_type": "markdown",
      "id": "optional-continent",
      "metadata": {
        "papermill": {
          "duration": 0.042416,
          "end_time": "2021-06-07T15:29:32.443178",
          "exception": false,
          "start_time": "2021-06-07T15:29:32.400762",
          "status": "completed"
        },
        "tags": [],
        "id": "optional-continent"
      },
      "source": [
        "### Categorical value encoding "
      ]
    },
    {
      "cell_type": "markdown",
      "source": [
        "It is easier to work with numeric features. We can convert the `Sex` and `Title` columns to numeric columns."
      ],
      "metadata": {
        "id": "C8AfXYEEiwVv"
      },
      "id": "C8AfXYEEiwVv"
    },
    {
      "cell_type": "markdown",
      "source": [
        "**Task: 5**"
      ],
      "metadata": {
        "id": "aGjyHvI0zS5_"
      },
      "id": "aGjyHvI0zS5_"
    },
    {
      "cell_type": "markdown",
      "source": [
        "Convert the `Sex` column to numeric column `is_female` with value 1 for female and 0 for male."
      ],
      "metadata": {
        "id": "poVXE4TdzVxD"
      },
      "id": "poVXE4TdzVxD"
    },
    {
      "cell_type": "code",
      "execution_count": null,
      "id": "hindu-release",
      "metadata": {
        "execution": {
          "iopub.execute_input": "2021-06-07T15:29:32.531875Z",
          "iopub.status.busy": "2021-06-07T15:29:32.530994Z",
          "iopub.status.idle": "2021-06-07T15:29:32.549784Z",
          "shell.execute_reply": "2021-06-07T15:29:32.550261Z",
          "shell.execute_reply.started": "2021-06-07T13:16:48.655554Z"
        },
        "papermill": {
          "duration": 0.06417,
          "end_time": "2021-06-07T15:29:32.550434",
          "exception": false,
          "start_time": "2021-06-07T15:29:32.486264",
          "status": "completed"
        },
        "tags": [],
        "id": "hindu-release"
      },
      "outputs": [],
      "source": [
        "train_df['is_female'] = train_df['Sex'].map( {'female': 1, 'male': 0} ).astype(int)"
      ]
    },
    {
      "cell_type": "code",
      "source": [
        "train_df.head()"
      ],
      "metadata": {
        "colab": {
          "base_uri": "https://localhost:8080/",
          "height": 206
        },
        "id": "AUug9Blmzlho",
        "outputId": "83caa8be-b255-45b9-83a7-046057942037"
      },
      "id": "AUug9Blmzlho",
      "execution_count": null,
      "outputs": [
        {
          "output_type": "execute_result",
          "data": {
            "text/plain": [
              "   PassengerId  Survived  Pclass  \\\n",
              "0            1         0       3   \n",
              "1            2         1       1   \n",
              "2            3         1       3   \n",
              "3            4         1       1   \n",
              "4            5         0       3   \n",
              "\n",
              "                                                Name     Sex   Age  SibSp  \\\n",
              "0                            Braund, Mr. Owen Harris    male  22.0      1   \n",
              "1  Cumings, Mrs. John Bradley (Florence Briggs Th...  female  38.0      1   \n",
              "2                             Heikkinen, Miss. Laina  female  26.0      0   \n",
              "3       Futrelle, Mrs. Jacques Heath (Lily May Peel)  female  35.0      1   \n",
              "4                           Allen, Mr. William Henry    male  35.0      0   \n",
              "\n",
              "   Parch     Fare Title  is_female  \n",
              "0      0   7.2500    Mr          0  \n",
              "1      0  71.2833   Mrs          1  \n",
              "2      0   7.9250  Miss          1  \n",
              "3      0  53.1000   Mrs          1  \n",
              "4      0   8.0500    Mr          0  "
            ],
            "text/html": [
              "\n",
              "  <div id=\"df-5c28d4c4-6468-4d6c-8674-aaac8ee941dc\">\n",
              "    <div class=\"colab-df-container\">\n",
              "      <div>\n",
              "<style scoped>\n",
              "    .dataframe tbody tr th:only-of-type {\n",
              "        vertical-align: middle;\n",
              "    }\n",
              "\n",
              "    .dataframe tbody tr th {\n",
              "        vertical-align: top;\n",
              "    }\n",
              "\n",
              "    .dataframe thead th {\n",
              "        text-align: right;\n",
              "    }\n",
              "</style>\n",
              "<table border=\"1\" class=\"dataframe\">\n",
              "  <thead>\n",
              "    <tr style=\"text-align: right;\">\n",
              "      <th></th>\n",
              "      <th>PassengerId</th>\n",
              "      <th>Survived</th>\n",
              "      <th>Pclass</th>\n",
              "      <th>Name</th>\n",
              "      <th>Sex</th>\n",
              "      <th>Age</th>\n",
              "      <th>SibSp</th>\n",
              "      <th>Parch</th>\n",
              "      <th>Fare</th>\n",
              "      <th>Title</th>\n",
              "      <th>is_female</th>\n",
              "    </tr>\n",
              "  </thead>\n",
              "  <tbody>\n",
              "    <tr>\n",
              "      <th>0</th>\n",
              "      <td>1</td>\n",
              "      <td>0</td>\n",
              "      <td>3</td>\n",
              "      <td>Braund, Mr. Owen Harris</td>\n",
              "      <td>male</td>\n",
              "      <td>22.0</td>\n",
              "      <td>1</td>\n",
              "      <td>0</td>\n",
              "      <td>7.2500</td>\n",
              "      <td>Mr</td>\n",
              "      <td>0</td>\n",
              "    </tr>\n",
              "    <tr>\n",
              "      <th>1</th>\n",
              "      <td>2</td>\n",
              "      <td>1</td>\n",
              "      <td>1</td>\n",
              "      <td>Cumings, Mrs. John Bradley (Florence Briggs Th...</td>\n",
              "      <td>female</td>\n",
              "      <td>38.0</td>\n",
              "      <td>1</td>\n",
              "      <td>0</td>\n",
              "      <td>71.2833</td>\n",
              "      <td>Mrs</td>\n",
              "      <td>1</td>\n",
              "    </tr>\n",
              "    <tr>\n",
              "      <th>2</th>\n",
              "      <td>3</td>\n",
              "      <td>1</td>\n",
              "      <td>3</td>\n",
              "      <td>Heikkinen, Miss. Laina</td>\n",
              "      <td>female</td>\n",
              "      <td>26.0</td>\n",
              "      <td>0</td>\n",
              "      <td>0</td>\n",
              "      <td>7.9250</td>\n",
              "      <td>Miss</td>\n",
              "      <td>1</td>\n",
              "    </tr>\n",
              "    <tr>\n",
              "      <th>3</th>\n",
              "      <td>4</td>\n",
              "      <td>1</td>\n",
              "      <td>1</td>\n",
              "      <td>Futrelle, Mrs. Jacques Heath (Lily May Peel)</td>\n",
              "      <td>female</td>\n",
              "      <td>35.0</td>\n",
              "      <td>1</td>\n",
              "      <td>0</td>\n",
              "      <td>53.1000</td>\n",
              "      <td>Mrs</td>\n",
              "      <td>1</td>\n",
              "    </tr>\n",
              "    <tr>\n",
              "      <th>4</th>\n",
              "      <td>5</td>\n",
              "      <td>0</td>\n",
              "      <td>3</td>\n",
              "      <td>Allen, Mr. William Henry</td>\n",
              "      <td>male</td>\n",
              "      <td>35.0</td>\n",
              "      <td>0</td>\n",
              "      <td>0</td>\n",
              "      <td>8.0500</td>\n",
              "      <td>Mr</td>\n",
              "      <td>0</td>\n",
              "    </tr>\n",
              "  </tbody>\n",
              "</table>\n",
              "</div>\n",
              "      <button class=\"colab-df-convert\" onclick=\"convertToInteractive('df-5c28d4c4-6468-4d6c-8674-aaac8ee941dc')\"\n",
              "              title=\"Convert this dataframe to an interactive table.\"\n",
              "              style=\"display:none;\">\n",
              "        \n",
              "  <svg xmlns=\"http://www.w3.org/2000/svg\" height=\"24px\"viewBox=\"0 0 24 24\"\n",
              "       width=\"24px\">\n",
              "    <path d=\"M0 0h24v24H0V0z\" fill=\"none\"/>\n",
              "    <path d=\"M18.56 5.44l.94 2.06.94-2.06 2.06-.94-2.06-.94-.94-2.06-.94 2.06-2.06.94zm-11 1L8.5 8.5l.94-2.06 2.06-.94-2.06-.94L8.5 2.5l-.94 2.06-2.06.94zm10 10l.94 2.06.94-2.06 2.06-.94-2.06-.94-.94-2.06-.94 2.06-2.06.94z\"/><path d=\"M17.41 7.96l-1.37-1.37c-.4-.4-.92-.59-1.43-.59-.52 0-1.04.2-1.43.59L10.3 9.45l-7.72 7.72c-.78.78-.78 2.05 0 2.83L4 21.41c.39.39.9.59 1.41.59.51 0 1.02-.2 1.41-.59l7.78-7.78 2.81-2.81c.8-.78.8-2.07 0-2.86zM5.41 20L4 18.59l7.72-7.72 1.47 1.35L5.41 20z\"/>\n",
              "  </svg>\n",
              "      </button>\n",
              "      \n",
              "  <style>\n",
              "    .colab-df-container {\n",
              "      display:flex;\n",
              "      flex-wrap:wrap;\n",
              "      gap: 12px;\n",
              "    }\n",
              "\n",
              "    .colab-df-convert {\n",
              "      background-color: #E8F0FE;\n",
              "      border: none;\n",
              "      border-radius: 50%;\n",
              "      cursor: pointer;\n",
              "      display: none;\n",
              "      fill: #1967D2;\n",
              "      height: 32px;\n",
              "      padding: 0 0 0 0;\n",
              "      width: 32px;\n",
              "    }\n",
              "\n",
              "    .colab-df-convert:hover {\n",
              "      background-color: #E2EBFA;\n",
              "      box-shadow: 0px 1px 2px rgba(60, 64, 67, 0.3), 0px 1px 3px 1px rgba(60, 64, 67, 0.15);\n",
              "      fill: #174EA6;\n",
              "    }\n",
              "\n",
              "    [theme=dark] .colab-df-convert {\n",
              "      background-color: #3B4455;\n",
              "      fill: #D2E3FC;\n",
              "    }\n",
              "\n",
              "    [theme=dark] .colab-df-convert:hover {\n",
              "      background-color: #434B5C;\n",
              "      box-shadow: 0px 1px 3px 1px rgba(0, 0, 0, 0.15);\n",
              "      filter: drop-shadow(0px 1px 2px rgba(0, 0, 0, 0.3));\n",
              "      fill: #FFFFFF;\n",
              "    }\n",
              "  </style>\n",
              "\n",
              "      <script>\n",
              "        const buttonEl =\n",
              "          document.querySelector('#df-5c28d4c4-6468-4d6c-8674-aaac8ee941dc button.colab-df-convert');\n",
              "        buttonEl.style.display =\n",
              "          google.colab.kernel.accessAllowed ? 'block' : 'none';\n",
              "\n",
              "        async function convertToInteractive(key) {\n",
              "          const element = document.querySelector('#df-5c28d4c4-6468-4d6c-8674-aaac8ee941dc');\n",
              "          const dataTable =\n",
              "            await google.colab.kernel.invokeFunction('convertToInteractive',\n",
              "                                                     [key], {});\n",
              "          if (!dataTable) return;\n",
              "\n",
              "          const docLinkHtml = 'Like what you see? Visit the ' +\n",
              "            '<a target=\"_blank\" href=https://colab.research.google.com/notebooks/data_table.ipynb>data table notebook</a>'\n",
              "            + ' to learn more about interactive tables.';\n",
              "          element.innerHTML = '';\n",
              "          dataTable['output_type'] = 'display_data';\n",
              "          await google.colab.output.renderOutput(dataTable, element);\n",
              "          const docLink = document.createElement('div');\n",
              "          docLink.innerHTML = docLinkHtml;\n",
              "          element.appendChild(docLink);\n",
              "        }\n",
              "      </script>\n",
              "    </div>\n",
              "  </div>\n",
              "  "
            ]
          },
          "metadata": {},
          "execution_count": 14
        }
      ]
    },
    {
      "cell_type": "markdown",
      "id": "serial-difference",
      "metadata": {
        "papermill": {
          "duration": 0.04312,
          "end_time": "2021-06-07T15:29:32.637260",
          "exception": false,
          "start_time": "2021-06-07T15:29:32.594140",
          "status": "completed"
        },
        "tags": [],
        "id": "serial-difference"
      },
      "source": [
        "It is often useful to encode categorical variables into one-hot encodings. We can convert the `Title` column to one-hot encoding of the constituent values."
      ]
    },
    {
      "cell_type": "markdown",
      "source": [
        "**Task: 6**"
      ],
      "metadata": {
        "id": "dnKIaoEYz7jR"
      },
      "id": "dnKIaoEYz7jR"
    },
    {
      "cell_type": "markdown",
      "source": [
        "Convert the column `Title` to one-hot encoding and add to the dataframe. Then new column names should be like `'is_Mr'`, `'is_Miss'`, etc"
      ],
      "metadata": {
        "id": "o9BsXyarz-Rx"
      },
      "id": "o9BsXyarz-Rx"
    },
    {
      "cell_type": "code",
      "execution_count": null,
      "id": "elder-disposition",
      "metadata": {
        "execution": {
          "iopub.execute_input": "2021-06-07T15:29:32.730627Z",
          "iopub.status.busy": "2021-06-07T15:29:32.730007Z",
          "iopub.status.idle": "2021-06-07T15:29:32.735460Z",
          "shell.execute_reply": "2021-06-07T15:29:32.736009Z",
          "shell.execute_reply.started": "2021-06-07T13:17:27.445245Z"
        },
        "papermill": {
          "duration": 0.055568,
          "end_time": "2021-06-07T15:29:32.736164",
          "exception": false,
          "start_time": "2021-06-07T15:29:32.680596",
          "status": "completed"
        },
        "tags": [],
        "id": "elder-disposition"
      },
      "outputs": [],
      "source": [
        "title_encodings = pd.get_dummies(train_df[\"Title\"], prefix=\"is\")\n",
        "train_df = pd.concat([train_df, title_encodings], axis=1)"
      ]
    },
    {
      "cell_type": "code",
      "execution_count": null,
      "id": "neither-german",
      "metadata": {
        "execution": {
          "iopub.execute_input": "2021-06-07T15:29:32.826255Z",
          "iopub.status.busy": "2021-06-07T15:29:32.825672Z",
          "iopub.status.idle": "2021-06-07T15:29:32.841056Z",
          "shell.execute_reply": "2021-06-07T15:29:32.841625Z",
          "shell.execute_reply.started": "2021-06-07T13:17:29.077893Z"
        },
        "papermill": {
          "duration": 0.061826,
          "end_time": "2021-06-07T15:29:32.841797",
          "exception": false,
          "start_time": "2021-06-07T15:29:32.779971",
          "status": "completed"
        },
        "tags": [],
        "colab": {
          "base_uri": "https://localhost:8080/",
          "height": 206
        },
        "id": "neither-german",
        "outputId": "e13201e7-1ee6-40ea-9f74-3f55159b3cc7"
      },
      "outputs": [
        {
          "output_type": "execute_result",
          "data": {
            "text/plain": [
              "   PassengerId  Survived  Pclass  \\\n",
              "0            1         0       3   \n",
              "1            2         1       1   \n",
              "2            3         1       3   \n",
              "3            4         1       1   \n",
              "4            5         0       3   \n",
              "\n",
              "                                                Name     Sex   Age  SibSp  \\\n",
              "0                            Braund, Mr. Owen Harris    male  22.0      1   \n",
              "1  Cumings, Mrs. John Bradley (Florence Briggs Th...  female  38.0      1   \n",
              "2                             Heikkinen, Miss. Laina  female  26.0      0   \n",
              "3       Futrelle, Mrs. Jacques Heath (Lily May Peel)  female  35.0      1   \n",
              "4                           Allen, Mr. William Henry    male  35.0      0   \n",
              "\n",
              "   Parch     Fare Title  is_female  is_Master  is_Miss  is_Mr  is_Mrs  is_Rare  \n",
              "0      0   7.2500    Mr          0          0        0      1       0        0  \n",
              "1      0  71.2833   Mrs          1          0        0      0       1        0  \n",
              "2      0   7.9250  Miss          1          0        1      0       0        0  \n",
              "3      0  53.1000   Mrs          1          0        0      0       1        0  \n",
              "4      0   8.0500    Mr          0          0        0      1       0        0  "
            ],
            "text/html": [
              "\n",
              "  <div id=\"df-6db6e001-200c-4453-82ca-ecab16e2f964\">\n",
              "    <div class=\"colab-df-container\">\n",
              "      <div>\n",
              "<style scoped>\n",
              "    .dataframe tbody tr th:only-of-type {\n",
              "        vertical-align: middle;\n",
              "    }\n",
              "\n",
              "    .dataframe tbody tr th {\n",
              "        vertical-align: top;\n",
              "    }\n",
              "\n",
              "    .dataframe thead th {\n",
              "        text-align: right;\n",
              "    }\n",
              "</style>\n",
              "<table border=\"1\" class=\"dataframe\">\n",
              "  <thead>\n",
              "    <tr style=\"text-align: right;\">\n",
              "      <th></th>\n",
              "      <th>PassengerId</th>\n",
              "      <th>Survived</th>\n",
              "      <th>Pclass</th>\n",
              "      <th>Name</th>\n",
              "      <th>Sex</th>\n",
              "      <th>Age</th>\n",
              "      <th>SibSp</th>\n",
              "      <th>Parch</th>\n",
              "      <th>Fare</th>\n",
              "      <th>Title</th>\n",
              "      <th>is_female</th>\n",
              "      <th>is_Master</th>\n",
              "      <th>is_Miss</th>\n",
              "      <th>is_Mr</th>\n",
              "      <th>is_Mrs</th>\n",
              "      <th>is_Rare</th>\n",
              "    </tr>\n",
              "  </thead>\n",
              "  <tbody>\n",
              "    <tr>\n",
              "      <th>0</th>\n",
              "      <td>1</td>\n",
              "      <td>0</td>\n",
              "      <td>3</td>\n",
              "      <td>Braund, Mr. Owen Harris</td>\n",
              "      <td>male</td>\n",
              "      <td>22.0</td>\n",
              "      <td>1</td>\n",
              "      <td>0</td>\n",
              "      <td>7.2500</td>\n",
              "      <td>Mr</td>\n",
              "      <td>0</td>\n",
              "      <td>0</td>\n",
              "      <td>0</td>\n",
              "      <td>1</td>\n",
              "      <td>0</td>\n",
              "      <td>0</td>\n",
              "    </tr>\n",
              "    <tr>\n",
              "      <th>1</th>\n",
              "      <td>2</td>\n",
              "      <td>1</td>\n",
              "      <td>1</td>\n",
              "      <td>Cumings, Mrs. John Bradley (Florence Briggs Th...</td>\n",
              "      <td>female</td>\n",
              "      <td>38.0</td>\n",
              "      <td>1</td>\n",
              "      <td>0</td>\n",
              "      <td>71.2833</td>\n",
              "      <td>Mrs</td>\n",
              "      <td>1</td>\n",
              "      <td>0</td>\n",
              "      <td>0</td>\n",
              "      <td>0</td>\n",
              "      <td>1</td>\n",
              "      <td>0</td>\n",
              "    </tr>\n",
              "    <tr>\n",
              "      <th>2</th>\n",
              "      <td>3</td>\n",
              "      <td>1</td>\n",
              "      <td>3</td>\n",
              "      <td>Heikkinen, Miss. Laina</td>\n",
              "      <td>female</td>\n",
              "      <td>26.0</td>\n",
              "      <td>0</td>\n",
              "      <td>0</td>\n",
              "      <td>7.9250</td>\n",
              "      <td>Miss</td>\n",
              "      <td>1</td>\n",
              "      <td>0</td>\n",
              "      <td>1</td>\n",
              "      <td>0</td>\n",
              "      <td>0</td>\n",
              "      <td>0</td>\n",
              "    </tr>\n",
              "    <tr>\n",
              "      <th>3</th>\n",
              "      <td>4</td>\n",
              "      <td>1</td>\n",
              "      <td>1</td>\n",
              "      <td>Futrelle, Mrs. Jacques Heath (Lily May Peel)</td>\n",
              "      <td>female</td>\n",
              "      <td>35.0</td>\n",
              "      <td>1</td>\n",
              "      <td>0</td>\n",
              "      <td>53.1000</td>\n",
              "      <td>Mrs</td>\n",
              "      <td>1</td>\n",
              "      <td>0</td>\n",
              "      <td>0</td>\n",
              "      <td>0</td>\n",
              "      <td>1</td>\n",
              "      <td>0</td>\n",
              "    </tr>\n",
              "    <tr>\n",
              "      <th>4</th>\n",
              "      <td>5</td>\n",
              "      <td>0</td>\n",
              "      <td>3</td>\n",
              "      <td>Allen, Mr. William Henry</td>\n",
              "      <td>male</td>\n",
              "      <td>35.0</td>\n",
              "      <td>0</td>\n",
              "      <td>0</td>\n",
              "      <td>8.0500</td>\n",
              "      <td>Mr</td>\n",
              "      <td>0</td>\n",
              "      <td>0</td>\n",
              "      <td>0</td>\n",
              "      <td>1</td>\n",
              "      <td>0</td>\n",
              "      <td>0</td>\n",
              "    </tr>\n",
              "  </tbody>\n",
              "</table>\n",
              "</div>\n",
              "      <button class=\"colab-df-convert\" onclick=\"convertToInteractive('df-6db6e001-200c-4453-82ca-ecab16e2f964')\"\n",
              "              title=\"Convert this dataframe to an interactive table.\"\n",
              "              style=\"display:none;\">\n",
              "        \n",
              "  <svg xmlns=\"http://www.w3.org/2000/svg\" height=\"24px\"viewBox=\"0 0 24 24\"\n",
              "       width=\"24px\">\n",
              "    <path d=\"M0 0h24v24H0V0z\" fill=\"none\"/>\n",
              "    <path d=\"M18.56 5.44l.94 2.06.94-2.06 2.06-.94-2.06-.94-.94-2.06-.94 2.06-2.06.94zm-11 1L8.5 8.5l.94-2.06 2.06-.94-2.06-.94L8.5 2.5l-.94 2.06-2.06.94zm10 10l.94 2.06.94-2.06 2.06-.94-2.06-.94-.94-2.06-.94 2.06-2.06.94z\"/><path d=\"M17.41 7.96l-1.37-1.37c-.4-.4-.92-.59-1.43-.59-.52 0-1.04.2-1.43.59L10.3 9.45l-7.72 7.72c-.78.78-.78 2.05 0 2.83L4 21.41c.39.39.9.59 1.41.59.51 0 1.02-.2 1.41-.59l7.78-7.78 2.81-2.81c.8-.78.8-2.07 0-2.86zM5.41 20L4 18.59l7.72-7.72 1.47 1.35L5.41 20z\"/>\n",
              "  </svg>\n",
              "      </button>\n",
              "      \n",
              "  <style>\n",
              "    .colab-df-container {\n",
              "      display:flex;\n",
              "      flex-wrap:wrap;\n",
              "      gap: 12px;\n",
              "    }\n",
              "\n",
              "    .colab-df-convert {\n",
              "      background-color: #E8F0FE;\n",
              "      border: none;\n",
              "      border-radius: 50%;\n",
              "      cursor: pointer;\n",
              "      display: none;\n",
              "      fill: #1967D2;\n",
              "      height: 32px;\n",
              "      padding: 0 0 0 0;\n",
              "      width: 32px;\n",
              "    }\n",
              "\n",
              "    .colab-df-convert:hover {\n",
              "      background-color: #E2EBFA;\n",
              "      box-shadow: 0px 1px 2px rgba(60, 64, 67, 0.3), 0px 1px 3px 1px rgba(60, 64, 67, 0.15);\n",
              "      fill: #174EA6;\n",
              "    }\n",
              "\n",
              "    [theme=dark] .colab-df-convert {\n",
              "      background-color: #3B4455;\n",
              "      fill: #D2E3FC;\n",
              "    }\n",
              "\n",
              "    [theme=dark] .colab-df-convert:hover {\n",
              "      background-color: #434B5C;\n",
              "      box-shadow: 0px 1px 3px 1px rgba(0, 0, 0, 0.15);\n",
              "      filter: drop-shadow(0px 1px 2px rgba(0, 0, 0, 0.3));\n",
              "      fill: #FFFFFF;\n",
              "    }\n",
              "  </style>\n",
              "\n",
              "      <script>\n",
              "        const buttonEl =\n",
              "          document.querySelector('#df-6db6e001-200c-4453-82ca-ecab16e2f964 button.colab-df-convert');\n",
              "        buttonEl.style.display =\n",
              "          google.colab.kernel.accessAllowed ? 'block' : 'none';\n",
              "\n",
              "        async function convertToInteractive(key) {\n",
              "          const element = document.querySelector('#df-6db6e001-200c-4453-82ca-ecab16e2f964');\n",
              "          const dataTable =\n",
              "            await google.colab.kernel.invokeFunction('convertToInteractive',\n",
              "                                                     [key], {});\n",
              "          if (!dataTable) return;\n",
              "\n",
              "          const docLinkHtml = 'Like what you see? Visit the ' +\n",
              "            '<a target=\"_blank\" href=https://colab.research.google.com/notebooks/data_table.ipynb>data table notebook</a>'\n",
              "            + ' to learn more about interactive tables.';\n",
              "          element.innerHTML = '';\n",
              "          dataTable['output_type'] = 'display_data';\n",
              "          await google.colab.output.renderOutput(dataTable, element);\n",
              "          const docLink = document.createElement('div');\n",
              "          docLink.innerHTML = docLinkHtml;\n",
              "          element.appendChild(docLink);\n",
              "        }\n",
              "      </script>\n",
              "    </div>\n",
              "  </div>\n",
              "  "
            ]
          },
          "metadata": {},
          "execution_count": 16
        }
      ],
      "source": [
        "train_df.head()"
      ]
    },
    {
      "cell_type": "markdown",
      "id": "technical-peter",
      "metadata": {
        "papermill": {
          "duration": 0.043529,
          "end_time": "2021-06-07T15:29:32.928961",
          "exception": false,
          "start_time": "2021-06-07T15:29:32.885432",
          "status": "completed"
        },
        "tags": [],
        "id": "technical-peter"
      },
      "source": [
        "At this point, we can drop the `'Name'`, `'Sex'` and `'Title'` columnns"
      ]
    },
    {
      "cell_type": "code",
      "execution_count": null,
      "id": "exciting-victoria",
      "metadata": {
        "execution": {
          "iopub.execute_input": "2021-06-07T15:29:33.019574Z",
          "iopub.status.busy": "2021-06-07T15:29:33.019014Z",
          "iopub.status.idle": "2021-06-07T15:29:33.024494Z",
          "shell.execute_reply": "2021-06-07T15:29:33.025048Z",
          "shell.execute_reply.started": "2021-06-07T13:18:18.065561Z"
        },
        "papermill": {
          "duration": 0.052395,
          "end_time": "2021-06-07T15:29:33.025205",
          "exception": false,
          "start_time": "2021-06-07T15:29:32.972810",
          "status": "completed"
        },
        "tags": [],
        "id": "exciting-victoria"
      },
      "outputs": [],
      "source": [
        "train_df.drop(['Name', 'Sex', 'Title'] , axis=1, inplace = True)"
      ]
    },
    {
      "cell_type": "code",
      "execution_count": null,
      "id": "engaging-franklin",
      "metadata": {
        "execution": {
          "iopub.execute_input": "2021-06-07T15:29:33.117212Z",
          "iopub.status.busy": "2021-06-07T15:29:33.116632Z",
          "iopub.status.idle": "2021-06-07T15:29:33.131157Z",
          "shell.execute_reply": "2021-06-07T15:29:33.130615Z",
          "shell.execute_reply.started": "2021-06-07T13:18:21.642122Z"
        },
        "papermill": {
          "duration": 0.061478,
          "end_time": "2021-06-07T15:29:33.131288",
          "exception": false,
          "start_time": "2021-06-07T15:29:33.069810",
          "status": "completed"
        },
        "tags": [],
        "colab": {
          "base_uri": "https://localhost:8080/",
          "height": 206
        },
        "id": "engaging-franklin",
        "outputId": "266772e0-e767-4650-e9c7-1f50793b5124"
      },
      "outputs": [
        {
          "output_type": "execute_result",
          "data": {
            "text/plain": [
              "   PassengerId  Survived  Pclass   Age  SibSp  Parch     Fare  is_female  \\\n",
              "0            1         0       3  22.0      1      0   7.2500          0   \n",
              "1            2         1       1  38.0      1      0  71.2833          1   \n",
              "2            3         1       3  26.0      0      0   7.9250          1   \n",
              "3            4         1       1  35.0      1      0  53.1000          1   \n",
              "4            5         0       3  35.0      0      0   8.0500          0   \n",
              "\n",
              "   is_Master  is_Miss  is_Mr  is_Mrs  is_Rare  \n",
              "0          0        0      1       0        0  \n",
              "1          0        0      0       1        0  \n",
              "2          0        1      0       0        0  \n",
              "3          0        0      0       1        0  \n",
              "4          0        0      1       0        0  "
            ],
            "text/html": [
              "\n",
              "  <div id=\"df-9840ff93-62a0-4570-b5f0-65ef6e04d53f\">\n",
              "    <div class=\"colab-df-container\">\n",
              "      <div>\n",
              "<style scoped>\n",
              "    .dataframe tbody tr th:only-of-type {\n",
              "        vertical-align: middle;\n",
              "    }\n",
              "\n",
              "    .dataframe tbody tr th {\n",
              "        vertical-align: top;\n",
              "    }\n",
              "\n",
              "    .dataframe thead th {\n",
              "        text-align: right;\n",
              "    }\n",
              "</style>\n",
              "<table border=\"1\" class=\"dataframe\">\n",
              "  <thead>\n",
              "    <tr style=\"text-align: right;\">\n",
              "      <th></th>\n",
              "      <th>PassengerId</th>\n",
              "      <th>Survived</th>\n",
              "      <th>Pclass</th>\n",
              "      <th>Age</th>\n",
              "      <th>SibSp</th>\n",
              "      <th>Parch</th>\n",
              "      <th>Fare</th>\n",
              "      <th>is_female</th>\n",
              "      <th>is_Master</th>\n",
              "      <th>is_Miss</th>\n",
              "      <th>is_Mr</th>\n",
              "      <th>is_Mrs</th>\n",
              "      <th>is_Rare</th>\n",
              "    </tr>\n",
              "  </thead>\n",
              "  <tbody>\n",
              "    <tr>\n",
              "      <th>0</th>\n",
              "      <td>1</td>\n",
              "      <td>0</td>\n",
              "      <td>3</td>\n",
              "      <td>22.0</td>\n",
              "      <td>1</td>\n",
              "      <td>0</td>\n",
              "      <td>7.2500</td>\n",
              "      <td>0</td>\n",
              "      <td>0</td>\n",
              "      <td>0</td>\n",
              "      <td>1</td>\n",
              "      <td>0</td>\n",
              "      <td>0</td>\n",
              "    </tr>\n",
              "    <tr>\n",
              "      <th>1</th>\n",
              "      <td>2</td>\n",
              "      <td>1</td>\n",
              "      <td>1</td>\n",
              "      <td>38.0</td>\n",
              "      <td>1</td>\n",
              "      <td>0</td>\n",
              "      <td>71.2833</td>\n",
              "      <td>1</td>\n",
              "      <td>0</td>\n",
              "      <td>0</td>\n",
              "      <td>0</td>\n",
              "      <td>1</td>\n",
              "      <td>0</td>\n",
              "    </tr>\n",
              "    <tr>\n",
              "      <th>2</th>\n",
              "      <td>3</td>\n",
              "      <td>1</td>\n",
              "      <td>3</td>\n",
              "      <td>26.0</td>\n",
              "      <td>0</td>\n",
              "      <td>0</td>\n",
              "      <td>7.9250</td>\n",
              "      <td>1</td>\n",
              "      <td>0</td>\n",
              "      <td>1</td>\n",
              "      <td>0</td>\n",
              "      <td>0</td>\n",
              "      <td>0</td>\n",
              "    </tr>\n",
              "    <tr>\n",
              "      <th>3</th>\n",
              "      <td>4</td>\n",
              "      <td>1</td>\n",
              "      <td>1</td>\n",
              "      <td>35.0</td>\n",
              "      <td>1</td>\n",
              "      <td>0</td>\n",
              "      <td>53.1000</td>\n",
              "      <td>1</td>\n",
              "      <td>0</td>\n",
              "      <td>0</td>\n",
              "      <td>0</td>\n",
              "      <td>1</td>\n",
              "      <td>0</td>\n",
              "    </tr>\n",
              "    <tr>\n",
              "      <th>4</th>\n",
              "      <td>5</td>\n",
              "      <td>0</td>\n",
              "      <td>3</td>\n",
              "      <td>35.0</td>\n",
              "      <td>0</td>\n",
              "      <td>0</td>\n",
              "      <td>8.0500</td>\n",
              "      <td>0</td>\n",
              "      <td>0</td>\n",
              "      <td>0</td>\n",
              "      <td>1</td>\n",
              "      <td>0</td>\n",
              "      <td>0</td>\n",
              "    </tr>\n",
              "  </tbody>\n",
              "</table>\n",
              "</div>\n",
              "      <button class=\"colab-df-convert\" onclick=\"convertToInteractive('df-9840ff93-62a0-4570-b5f0-65ef6e04d53f')\"\n",
              "              title=\"Convert this dataframe to an interactive table.\"\n",
              "              style=\"display:none;\">\n",
              "        \n",
              "  <svg xmlns=\"http://www.w3.org/2000/svg\" height=\"24px\"viewBox=\"0 0 24 24\"\n",
              "       width=\"24px\">\n",
              "    <path d=\"M0 0h24v24H0V0z\" fill=\"none\"/>\n",
              "    <path d=\"M18.56 5.44l.94 2.06.94-2.06 2.06-.94-2.06-.94-.94-2.06-.94 2.06-2.06.94zm-11 1L8.5 8.5l.94-2.06 2.06-.94-2.06-.94L8.5 2.5l-.94 2.06-2.06.94zm10 10l.94 2.06.94-2.06 2.06-.94-2.06-.94-.94-2.06-.94 2.06-2.06.94z\"/><path d=\"M17.41 7.96l-1.37-1.37c-.4-.4-.92-.59-1.43-.59-.52 0-1.04.2-1.43.59L10.3 9.45l-7.72 7.72c-.78.78-.78 2.05 0 2.83L4 21.41c.39.39.9.59 1.41.59.51 0 1.02-.2 1.41-.59l7.78-7.78 2.81-2.81c.8-.78.8-2.07 0-2.86zM5.41 20L4 18.59l7.72-7.72 1.47 1.35L5.41 20z\"/>\n",
              "  </svg>\n",
              "      </button>\n",
              "      \n",
              "  <style>\n",
              "    .colab-df-container {\n",
              "      display:flex;\n",
              "      flex-wrap:wrap;\n",
              "      gap: 12px;\n",
              "    }\n",
              "\n",
              "    .colab-df-convert {\n",
              "      background-color: #E8F0FE;\n",
              "      border: none;\n",
              "      border-radius: 50%;\n",
              "      cursor: pointer;\n",
              "      display: none;\n",
              "      fill: #1967D2;\n",
              "      height: 32px;\n",
              "      padding: 0 0 0 0;\n",
              "      width: 32px;\n",
              "    }\n",
              "\n",
              "    .colab-df-convert:hover {\n",
              "      background-color: #E2EBFA;\n",
              "      box-shadow: 0px 1px 2px rgba(60, 64, 67, 0.3), 0px 1px 3px 1px rgba(60, 64, 67, 0.15);\n",
              "      fill: #174EA6;\n",
              "    }\n",
              "\n",
              "    [theme=dark] .colab-df-convert {\n",
              "      background-color: #3B4455;\n",
              "      fill: #D2E3FC;\n",
              "    }\n",
              "\n",
              "    [theme=dark] .colab-df-convert:hover {\n",
              "      background-color: #434B5C;\n",
              "      box-shadow: 0px 1px 3px 1px rgba(0, 0, 0, 0.15);\n",
              "      filter: drop-shadow(0px 1px 2px rgba(0, 0, 0, 0.3));\n",
              "      fill: #FFFFFF;\n",
              "    }\n",
              "  </style>\n",
              "\n",
              "      <script>\n",
              "        const buttonEl =\n",
              "          document.querySelector('#df-9840ff93-62a0-4570-b5f0-65ef6e04d53f button.colab-df-convert');\n",
              "        buttonEl.style.display =\n",
              "          google.colab.kernel.accessAllowed ? 'block' : 'none';\n",
              "\n",
              "        async function convertToInteractive(key) {\n",
              "          const element = document.querySelector('#df-9840ff93-62a0-4570-b5f0-65ef6e04d53f');\n",
              "          const dataTable =\n",
              "            await google.colab.kernel.invokeFunction('convertToInteractive',\n",
              "                                                     [key], {});\n",
              "          if (!dataTable) return;\n",
              "\n",
              "          const docLinkHtml = 'Like what you see? Visit the ' +\n",
              "            '<a target=\"_blank\" href=https://colab.research.google.com/notebooks/data_table.ipynb>data table notebook</a>'\n",
              "            + ' to learn more about interactive tables.';\n",
              "          element.innerHTML = '';\n",
              "          dataTable['output_type'] = 'display_data';\n",
              "          await google.colab.output.renderOutput(dataTable, element);\n",
              "          const docLink = document.createElement('div');\n",
              "          docLink.innerHTML = docLinkHtml;\n",
              "          element.appendChild(docLink);\n",
              "        }\n",
              "      </script>\n",
              "    </div>\n",
              "  </div>\n",
              "  "
            ]
          },
          "metadata": {},
          "execution_count": 18
        }
      ],
      "source": [
        "train_df.head()"
      ]
    },
    {
      "cell_type": "markdown",
      "id": "average-sessions",
      "metadata": {
        "papermill": {
          "duration": 0.044158,
          "end_time": "2021-06-07T15:29:33.220238",
          "exception": false,
          "start_time": "2021-06-07T15:29:33.176080",
          "status": "completed"
        },
        "tags": [],
        "id": "average-sessions"
      },
      "source": [
        "# Cleaning Numerical features"
      ]
    },
    {
      "cell_type": "markdown",
      "id": "fallen-consolidation",
      "metadata": {
        "papermill": {
          "duration": 0.044169,
          "end_time": "2021-06-07T15:29:33.308271",
          "exception": false,
          "start_time": "2021-06-07T15:29:33.264102",
          "status": "completed"
        },
        "tags": [],
        "id": "fallen-consolidation"
      },
      "source": [
        "Now that we have dealt with categorical columns in our dataframe, we can move on to analysing the numerical columns."
      ]
    },
    {
      "cell_type": "markdown",
      "source": [
        "### Feature engineering"
      ],
      "metadata": {
        "id": "deYRHRVt1NCZ"
      },
      "id": "deYRHRVt1NCZ"
    },
    {
      "cell_type": "markdown",
      "source": [
        "We can associate for each passenger the number of family members. From this we can also get a new feature representing if the passenger is alone or not."
      ],
      "metadata": {
        "id": "tYPvzAGQ1Q2a"
      },
      "id": "tYPvzAGQ1Q2a"
    },
    {
      "cell_type": "markdown",
      "source": [
        "**Task: 7**"
      ],
      "metadata": {
        "id": "E3YR9XMY1f7x"
      },
      "id": "E3YR9XMY1f7x"
    },
    {
      "cell_type": "markdown",
      "source": [
        "Create a new column named `'FamilySize'`. The value should be the number of siblings/ spouse + the number of parents/ children + the person itself.\n",
        "\n",
        "Also calculate the survival rate for each of the family size."
      ],
      "metadata": {
        "id": "kuE4hzB31ism"
      },
      "id": "kuE4hzB31ism"
    },
    {
      "cell_type": "code",
      "execution_count": null,
      "id": "traditional-installation",
      "metadata": {
        "execution": {
          "iopub.execute_input": "2021-06-07T15:29:33.405363Z",
          "iopub.status.busy": "2021-06-07T15:29:33.404749Z",
          "iopub.status.idle": "2021-06-07T15:29:33.414496Z",
          "shell.execute_reply": "2021-06-07T15:29:33.415020Z",
          "shell.execute_reply.started": "2021-06-07T13:19:06.791713Z"
        },
        "papermill": {
          "duration": 0.061472,
          "end_time": "2021-06-07T15:29:33.415177",
          "exception": false,
          "start_time": "2021-06-07T15:29:33.353705",
          "status": "completed"
        },
        "tags": [],
        "colab": {
          "base_uri": "https://localhost:8080/",
          "height": 363
        },
        "id": "traditional-installation",
        "outputId": "0136c98c-4321-4fc2-f524-224ae8abb008"
      },
      "outputs": [
        {
          "output_type": "execute_result",
          "data": {
            "text/plain": [
              "            Survived\n",
              "FamilySize          \n",
              "4           0.724138\n",
              "3           0.578431\n",
              "2           0.552795\n",
              "7           0.333333\n",
              "1           0.303538\n",
              "5           0.200000\n",
              "6           0.136364\n",
              "8           0.000000\n",
              "11          0.000000"
            ],
            "text/html": [
              "\n",
              "  <div id=\"df-a72e8ba2-27e3-4655-b922-3a2527c242c5\">\n",
              "    <div class=\"colab-df-container\">\n",
              "      <div>\n",
              "<style scoped>\n",
              "    .dataframe tbody tr th:only-of-type {\n",
              "        vertical-align: middle;\n",
              "    }\n",
              "\n",
              "    .dataframe tbody tr th {\n",
              "        vertical-align: top;\n",
              "    }\n",
              "\n",
              "    .dataframe thead th {\n",
              "        text-align: right;\n",
              "    }\n",
              "</style>\n",
              "<table border=\"1\" class=\"dataframe\">\n",
              "  <thead>\n",
              "    <tr style=\"text-align: right;\">\n",
              "      <th></th>\n",
              "      <th>Survived</th>\n",
              "    </tr>\n",
              "    <tr>\n",
              "      <th>FamilySize</th>\n",
              "      <th></th>\n",
              "    </tr>\n",
              "  </thead>\n",
              "  <tbody>\n",
              "    <tr>\n",
              "      <th>4</th>\n",
              "      <td>0.724138</td>\n",
              "    </tr>\n",
              "    <tr>\n",
              "      <th>3</th>\n",
              "      <td>0.578431</td>\n",
              "    </tr>\n",
              "    <tr>\n",
              "      <th>2</th>\n",
              "      <td>0.552795</td>\n",
              "    </tr>\n",
              "    <tr>\n",
              "      <th>7</th>\n",
              "      <td>0.333333</td>\n",
              "    </tr>\n",
              "    <tr>\n",
              "      <th>1</th>\n",
              "      <td>0.303538</td>\n",
              "    </tr>\n",
              "    <tr>\n",
              "      <th>5</th>\n",
              "      <td>0.200000</td>\n",
              "    </tr>\n",
              "    <tr>\n",
              "      <th>6</th>\n",
              "      <td>0.136364</td>\n",
              "    </tr>\n",
              "    <tr>\n",
              "      <th>8</th>\n",
              "      <td>0.000000</td>\n",
              "    </tr>\n",
              "    <tr>\n",
              "      <th>11</th>\n",
              "      <td>0.000000</td>\n",
              "    </tr>\n",
              "  </tbody>\n",
              "</table>\n",
              "</div>\n",
              "      <button class=\"colab-df-convert\" onclick=\"convertToInteractive('df-a72e8ba2-27e3-4655-b922-3a2527c242c5')\"\n",
              "              title=\"Convert this dataframe to an interactive table.\"\n",
              "              style=\"display:none;\">\n",
              "        \n",
              "  <svg xmlns=\"http://www.w3.org/2000/svg\" height=\"24px\"viewBox=\"0 0 24 24\"\n",
              "       width=\"24px\">\n",
              "    <path d=\"M0 0h24v24H0V0z\" fill=\"none\"/>\n",
              "    <path d=\"M18.56 5.44l.94 2.06.94-2.06 2.06-.94-2.06-.94-.94-2.06-.94 2.06-2.06.94zm-11 1L8.5 8.5l.94-2.06 2.06-.94-2.06-.94L8.5 2.5l-.94 2.06-2.06.94zm10 10l.94 2.06.94-2.06 2.06-.94-2.06-.94-.94-2.06-.94 2.06-2.06.94z\"/><path d=\"M17.41 7.96l-1.37-1.37c-.4-.4-.92-.59-1.43-.59-.52 0-1.04.2-1.43.59L10.3 9.45l-7.72 7.72c-.78.78-.78 2.05 0 2.83L4 21.41c.39.39.9.59 1.41.59.51 0 1.02-.2 1.41-.59l7.78-7.78 2.81-2.81c.8-.78.8-2.07 0-2.86zM5.41 20L4 18.59l7.72-7.72 1.47 1.35L5.41 20z\"/>\n",
              "  </svg>\n",
              "      </button>\n",
              "      \n",
              "  <style>\n",
              "    .colab-df-container {\n",
              "      display:flex;\n",
              "      flex-wrap:wrap;\n",
              "      gap: 12px;\n",
              "    }\n",
              "\n",
              "    .colab-df-convert {\n",
              "      background-color: #E8F0FE;\n",
              "      border: none;\n",
              "      border-radius: 50%;\n",
              "      cursor: pointer;\n",
              "      display: none;\n",
              "      fill: #1967D2;\n",
              "      height: 32px;\n",
              "      padding: 0 0 0 0;\n",
              "      width: 32px;\n",
              "    }\n",
              "\n",
              "    .colab-df-convert:hover {\n",
              "      background-color: #E2EBFA;\n",
              "      box-shadow: 0px 1px 2px rgba(60, 64, 67, 0.3), 0px 1px 3px 1px rgba(60, 64, 67, 0.15);\n",
              "      fill: #174EA6;\n",
              "    }\n",
              "\n",
              "    [theme=dark] .colab-df-convert {\n",
              "      background-color: #3B4455;\n",
              "      fill: #D2E3FC;\n",
              "    }\n",
              "\n",
              "    [theme=dark] .colab-df-convert:hover {\n",
              "      background-color: #434B5C;\n",
              "      box-shadow: 0px 1px 3px 1px rgba(0, 0, 0, 0.15);\n",
              "      filter: drop-shadow(0px 1px 2px rgba(0, 0, 0, 0.3));\n",
              "      fill: #FFFFFF;\n",
              "    }\n",
              "  </style>\n",
              "\n",
              "      <script>\n",
              "        const buttonEl =\n",
              "          document.querySelector('#df-a72e8ba2-27e3-4655-b922-3a2527c242c5 button.colab-df-convert');\n",
              "        buttonEl.style.display =\n",
              "          google.colab.kernel.accessAllowed ? 'block' : 'none';\n",
              "\n",
              "        async function convertToInteractive(key) {\n",
              "          const element = document.querySelector('#df-a72e8ba2-27e3-4655-b922-3a2527c242c5');\n",
              "          const dataTable =\n",
              "            await google.colab.kernel.invokeFunction('convertToInteractive',\n",
              "                                                     [key], {});\n",
              "          if (!dataTable) return;\n",
              "\n",
              "          const docLinkHtml = 'Like what you see? Visit the ' +\n",
              "            '<a target=\"_blank\" href=https://colab.research.google.com/notebooks/data_table.ipynb>data table notebook</a>'\n",
              "            + ' to learn more about interactive tables.';\n",
              "          element.innerHTML = '';\n",
              "          dataTable['output_type'] = 'display_data';\n",
              "          await google.colab.output.renderOutput(dataTable, element);\n",
              "          const docLink = document.createElement('div');\n",
              "          docLink.innerHTML = docLinkHtml;\n",
              "          element.appendChild(docLink);\n",
              "        }\n",
              "      </script>\n",
              "    </div>\n",
              "  </div>\n",
              "  "
            ]
          },
          "metadata": {},
          "execution_count": 19
        }
      ],
      "source": [
        "train_df['FamilySize'] = train_df['SibSp'] + train_df['Parch'] + 1\n",
        "\n",
        "train_df[['FamilySize', 'Survived']].groupby('FamilySize').mean().sort_values(by='Survived', ascending=False)"
      ]
    },
    {
      "cell_type": "markdown",
      "source": [
        "The survival rate was maximum for the family size _____\n",
        "\n",
        "---"
      ],
      "metadata": {
        "id": "0E_AIuf82HQL"
      },
      "id": "0E_AIuf82HQL"
    },
    {
      "cell_type": "markdown",
      "source": [
        "**Task: 8**"
      ],
      "metadata": {
        "id": "uKJGA8nd3N2a"
      },
      "id": "uKJGA8nd3N2a"
    },
    {
      "cell_type": "markdown",
      "id": "economic-board",
      "metadata": {
        "papermill": {
          "duration": 0.044674,
          "end_time": "2021-06-07T15:29:33.504732",
          "exception": false,
          "start_time": "2021-06-07T15:29:33.460058",
          "status": "completed"
        },
        "tags": [],
        "id": "economic-board"
      },
      "source": [
        "Another similar feature we can extract is whether a person was alone or not. Add a new column is_alone with value 1 if the passenger is alone and 0 if he/she has family members together with him/her.\n",
        "\n",
        "Calculate the survival rate for passengers who are not alone."
      ]
    },
    {
      "cell_type": "code",
      "source": [
        "train_df['is_alone'] = train_df['FamilySize'].apply(lambda x: 1 if x==1 else 0)\n",
        "\n",
        "train_df[['is_alone', 'Survived']].groupby(['is_alone']).mean()"
      ],
      "metadata": {
        "colab": {
          "base_uri": "https://localhost:8080/",
          "height": 143
        },
        "id": "_LLViYsT3v4z",
        "outputId": "a176c4f5-34f0-46ec-8ecd-d2a86a62f1de"
      },
      "id": "_LLViYsT3v4z",
      "execution_count": null,
      "outputs": [
        {
          "output_type": "execute_result",
          "data": {
            "text/plain": [
              "          Survived\n",
              "is_alone          \n",
              "0         0.505650\n",
              "1         0.303538"
            ],
            "text/html": [
              "\n",
              "  <div id=\"df-cb4fffc8-4cce-42d2-9a63-6676ecd708ac\">\n",
              "    <div class=\"colab-df-container\">\n",
              "      <div>\n",
              "<style scoped>\n",
              "    .dataframe tbody tr th:only-of-type {\n",
              "        vertical-align: middle;\n",
              "    }\n",
              "\n",
              "    .dataframe tbody tr th {\n",
              "        vertical-align: top;\n",
              "    }\n",
              "\n",
              "    .dataframe thead th {\n",
              "        text-align: right;\n",
              "    }\n",
              "</style>\n",
              "<table border=\"1\" class=\"dataframe\">\n",
              "  <thead>\n",
              "    <tr style=\"text-align: right;\">\n",
              "      <th></th>\n",
              "      <th>Survived</th>\n",
              "    </tr>\n",
              "    <tr>\n",
              "      <th>is_alone</th>\n",
              "      <th></th>\n",
              "    </tr>\n",
              "  </thead>\n",
              "  <tbody>\n",
              "    <tr>\n",
              "      <th>0</th>\n",
              "      <td>0.505650</td>\n",
              "    </tr>\n",
              "    <tr>\n",
              "      <th>1</th>\n",
              "      <td>0.303538</td>\n",
              "    </tr>\n",
              "  </tbody>\n",
              "</table>\n",
              "</div>\n",
              "      <button class=\"colab-df-convert\" onclick=\"convertToInteractive('df-cb4fffc8-4cce-42d2-9a63-6676ecd708ac')\"\n",
              "              title=\"Convert this dataframe to an interactive table.\"\n",
              "              style=\"display:none;\">\n",
              "        \n",
              "  <svg xmlns=\"http://www.w3.org/2000/svg\" height=\"24px\"viewBox=\"0 0 24 24\"\n",
              "       width=\"24px\">\n",
              "    <path d=\"M0 0h24v24H0V0z\" fill=\"none\"/>\n",
              "    <path d=\"M18.56 5.44l.94 2.06.94-2.06 2.06-.94-2.06-.94-.94-2.06-.94 2.06-2.06.94zm-11 1L8.5 8.5l.94-2.06 2.06-.94-2.06-.94L8.5 2.5l-.94 2.06-2.06.94zm10 10l.94 2.06.94-2.06 2.06-.94-2.06-.94-.94-2.06-.94 2.06-2.06.94z\"/><path d=\"M17.41 7.96l-1.37-1.37c-.4-.4-.92-.59-1.43-.59-.52 0-1.04.2-1.43.59L10.3 9.45l-7.72 7.72c-.78.78-.78 2.05 0 2.83L4 21.41c.39.39.9.59 1.41.59.51 0 1.02-.2 1.41-.59l7.78-7.78 2.81-2.81c.8-.78.8-2.07 0-2.86zM5.41 20L4 18.59l7.72-7.72 1.47 1.35L5.41 20z\"/>\n",
              "  </svg>\n",
              "      </button>\n",
              "      \n",
              "  <style>\n",
              "    .colab-df-container {\n",
              "      display:flex;\n",
              "      flex-wrap:wrap;\n",
              "      gap: 12px;\n",
              "    }\n",
              "\n",
              "    .colab-df-convert {\n",
              "      background-color: #E8F0FE;\n",
              "      border: none;\n",
              "      border-radius: 50%;\n",
              "      cursor: pointer;\n",
              "      display: none;\n",
              "      fill: #1967D2;\n",
              "      height: 32px;\n",
              "      padding: 0 0 0 0;\n",
              "      width: 32px;\n",
              "    }\n",
              "\n",
              "    .colab-df-convert:hover {\n",
              "      background-color: #E2EBFA;\n",
              "      box-shadow: 0px 1px 2px rgba(60, 64, 67, 0.3), 0px 1px 3px 1px rgba(60, 64, 67, 0.15);\n",
              "      fill: #174EA6;\n",
              "    }\n",
              "\n",
              "    [theme=dark] .colab-df-convert {\n",
              "      background-color: #3B4455;\n",
              "      fill: #D2E3FC;\n",
              "    }\n",
              "\n",
              "    [theme=dark] .colab-df-convert:hover {\n",
              "      background-color: #434B5C;\n",
              "      box-shadow: 0px 1px 3px 1px rgba(0, 0, 0, 0.15);\n",
              "      filter: drop-shadow(0px 1px 2px rgba(0, 0, 0, 0.3));\n",
              "      fill: #FFFFFF;\n",
              "    }\n",
              "  </style>\n",
              "\n",
              "      <script>\n",
              "        const buttonEl =\n",
              "          document.querySelector('#df-cb4fffc8-4cce-42d2-9a63-6676ecd708ac button.colab-df-convert');\n",
              "        buttonEl.style.display =\n",
              "          google.colab.kernel.accessAllowed ? 'block' : 'none';\n",
              "\n",
              "        async function convertToInteractive(key) {\n",
              "          const element = document.querySelector('#df-cb4fffc8-4cce-42d2-9a63-6676ecd708ac');\n",
              "          const dataTable =\n",
              "            await google.colab.kernel.invokeFunction('convertToInteractive',\n",
              "                                                     [key], {});\n",
              "          if (!dataTable) return;\n",
              "\n",
              "          const docLinkHtml = 'Like what you see? Visit the ' +\n",
              "            '<a target=\"_blank\" href=https://colab.research.google.com/notebooks/data_table.ipynb>data table notebook</a>'\n",
              "            + ' to learn more about interactive tables.';\n",
              "          element.innerHTML = '';\n",
              "          dataTable['output_type'] = 'display_data';\n",
              "          await google.colab.output.renderOutput(dataTable, element);\n",
              "          const docLink = document.createElement('div');\n",
              "          docLink.innerHTML = docLinkHtml;\n",
              "          element.appendChild(docLink);\n",
              "        }\n",
              "      </script>\n",
              "    </div>\n",
              "  </div>\n",
              "  "
            ]
          },
          "metadata": {},
          "execution_count": 20
        }
      ]
    },
    {
      "cell_type": "markdown",
      "source": [
        "Survival rate for passengers who are not alone is _______\n",
        "\n",
        "---\n",
        "\n"
      ],
      "metadata": {
        "id": "7z6Rtb0l4afd"
      },
      "id": "7z6Rtb0l4afd"
    },
    {
      "cell_type": "markdown",
      "source": [
        "Now we can drop the columns `SibSp` and `Parch`. "
      ],
      "metadata": {
        "id": "bI13CN1v45zR"
      },
      "id": "bI13CN1v45zR"
    },
    {
      "cell_type": "code",
      "execution_count": null,
      "id": "dense-emerald",
      "metadata": {
        "execution": {
          "iopub.execute_input": "2021-06-07T15:29:33.704850Z",
          "iopub.status.busy": "2021-06-07T15:29:33.704221Z",
          "iopub.status.idle": "2021-06-07T15:29:33.708853Z",
          "shell.execute_reply": "2021-06-07T15:29:33.709430Z",
          "shell.execute_reply.started": "2021-06-07T13:19:43.07465Z"
        },
        "papermill": {
          "duration": 0.052731,
          "end_time": "2021-06-07T15:29:33.709590",
          "exception": false,
          "start_time": "2021-06-07T15:29:33.656859",
          "status": "completed"
        },
        "tags": [],
        "id": "dense-emerald"
      },
      "outputs": [],
      "source": [
        "train_df.drop(['SibSp', 'Parch'] , axis=1, inplace = True)"
      ]
    },
    {
      "cell_type": "markdown",
      "source": [
        "We can visualize the correlations between features by plotting a heatmap of the correlation values."
      ],
      "metadata": {
        "id": "Na7F9p68CIBf"
      },
      "id": "Na7F9p68CIBf"
    },
    {
      "cell_type": "code",
      "execution_count": null,
      "id": "gross-entry",
      "metadata": {
        "execution": {
          "iopub.execute_input": "2021-06-07T15:29:50.938168Z",
          "iopub.status.busy": "2021-06-07T15:29:50.937153Z",
          "iopub.status.idle": "2021-06-07T15:29:51.279987Z",
          "shell.execute_reply": "2021-06-07T15:29:51.280471Z",
          "shell.execute_reply.started": "2021-06-07T13:21:29.820052Z"
        },
        "papermill": {
          "duration": 0.395971,
          "end_time": "2021-06-07T15:29:51.280636",
          "exception": false,
          "start_time": "2021-06-07T15:29:50.884665",
          "status": "completed"
        },
        "tags": [],
        "colab": {
          "base_uri": "https://localhost:8080/",
          "height": 337
        },
        "id": "gross-entry",
        "outputId": "eab962b0-c600-42de-ceac-f1b0a262c464"
      },
      "outputs": [
        {
          "output_type": "execute_result",
          "data": {
            "text/plain": [
              "<matplotlib.axes._subplots.AxesSubplot at 0x7fed2080a310>"
            ]
          },
          "metadata": {},
          "execution_count": 28
        },
        {
          "output_type": "display_data",
          "data": {
            "text/plain": [
              "<Figure size 432x288 with 2 Axes>"
            ],
            "image/png": "[encoded data removed]"
          },
          "metadata": {
            "needs_background": "light"
          }
        }
      ],
      "source": [
        "corr_matr = train_df.corr()\n",
        "cmap = sns.diverging_palette(230, 20, as_cmap=True)\n",
        "sns.heatmap(corr_matr, cmap = cmap)"
      ]
    },
    {
      "cell_type": "markdown",
      "id": "dietary-marble",
      "metadata": {
        "_kg_hide-input": false,
        "papermill": {
          "duration": 0.048816,
          "end_time": "2021-06-07T15:29:51.477464",
          "exception": false,
          "start_time": "2021-06-07T15:29:51.428648",
          "status": "completed"
        },
        "tags": [],
        "id": "dietary-marble"
      },
      "source": [
        "From the plots, we have seen that the `'PassengerId'` column has almost no correlation with the other columns. It is just a high cardinality feature. Therefore, we will drop it from the training dataframe."
      ]
    },
    {
      "cell_type": "code",
      "execution_count": null,
      "id": "grateful-produce",
      "metadata": {
        "execution": {
          "iopub.execute_input": "2021-06-07T15:29:51.578361Z",
          "iopub.status.busy": "2021-06-07T15:29:51.577395Z",
          "iopub.status.idle": "2021-06-07T15:29:51.582346Z",
          "shell.execute_reply": "2021-06-07T15:29:51.582834Z",
          "shell.execute_reply.started": "2021-06-07T13:24:18.645635Z"
        },
        "papermill": {
          "duration": 0.056838,
          "end_time": "2021-06-07T15:29:51.582988",
          "exception": false,
          "start_time": "2021-06-07T15:29:51.526150",
          "status": "completed"
        },
        "tags": [],
        "id": "grateful-produce"
      },
      "outputs": [],
      "source": [
        "train_df = train_df.drop(['PassengerId'], axis=1)"
      ]
    },
    {
      "cell_type": "markdown",
      "id": "enclosed-dublin",
      "metadata": {
        "_kg_hide-output": false,
        "papermill": {
          "duration": 0.048258,
          "end_time": "2021-06-07T15:29:51.680029",
          "exception": false,
          "start_time": "2021-06-07T15:29:51.631771",
          "status": "completed"
        },
        "tags": [],
        "id": "enclosed-dublin"
      },
      "source": [
        "**Conclusions from data analysis and feature extraction**\n",
        "\n",
        "**Dropped features**\n",
        "\n",
        "* Ticket feature was be dropped from our analysis as it contains high ratio of duplicates (22%) and there may not be a correlation between Ticket and survival.\n",
        "* Cabin feature was be dropped as it is highly incomplete or contains many null values.\n",
        "* PassengerId was be dropped from training dataset as it not correlated to survival.\n",
        "\n",
        "\n",
        "**Created features**\n",
        "\n",
        "* Created a new feature called Family based on Parch and SibSp to get total count of family members on board.\n",
        "* Extracted Title from Name as a new feature. One-hot encoded it for modelling."
      ]
    },
    {
      "cell_type": "markdown",
      "id": "hispanic-export",
      "metadata": {
        "papermill": {
          "duration": 0.048094,
          "end_time": "2021-06-07T15:29:51.776679",
          "exception": false,
          "start_time": "2021-06-07T15:29:51.728585",
          "status": "completed"
        },
        "tags": [],
        "id": "hispanic-export"
      },
      "source": [
        "# Model training and testing\n",
        "\n"
      ]
    },
    {
      "cell_type": "markdown",
      "id": "hybrid-canon",
      "metadata": {
        "papermill": {
          "duration": 0.048586,
          "end_time": "2021-06-07T15:29:51.971479",
          "exception": false,
          "start_time": "2021-06-07T15:29:51.922893",
          "status": "completed"
        },
        "tags": [],
        "id": "hybrid-canon"
      },
      "source": [
        "Let's create the proper train and validation set from the train_df dataframe."
      ]
    },
    {
      "cell_type": "code",
      "execution_count": null,
      "id": "imperial-captain",
      "metadata": {
        "execution": {
          "iopub.execute_input": "2021-06-07T15:29:52.074320Z",
          "iopub.status.busy": "2021-06-07T15:29:52.073413Z",
          "iopub.status.idle": "2021-06-07T15:29:52.417987Z",
          "shell.execute_reply": "2021-06-07T15:29:52.414655Z",
          "shell.execute_reply.started": "2021-06-07T13:28:54.929093Z"
        },
        "papermill": {
          "duration": 0.397982,
          "end_time": "2021-06-07T15:29:52.418264",
          "exception": false,
          "start_time": "2021-06-07T15:29:52.020282",
          "status": "completed"
        },
        "tags": [],
        "id": "imperial-captain"
      },
      "outputs": [],
      "source": [
        "from sklearn.model_selection import train_test_split\n",
        "from sklearn.neighbors import KNeighborsClassifier\n",
        "from sklearn.preprocessing import StandardScaler\n",
        "from sklearn.ensemble import RandomForestClassifier\n",
        "from sklearn.metrics import accuracy_score\n"
      ]
    },
    {
      "cell_type": "markdown",
      "source": [
        "Create the features and labels from the data and split the data into training set (70%) and validation set (30%). "
      ],
      "metadata": {
        "id": "_m33WS7YFCRl"
      },
      "id": "_m33WS7YFCRl"
    },
    {
      "cell_type": "code",
      "source": [
        "X = train_df.loc[:, train_df.columns != 'Survived']\n",
        "y = train_df.loc[:, 'Survived']\n",
        "X_train, X_val, y_train, y_val = train_test_split(X, y, test_size=0.3, random_state=42)"
      ],
      "metadata": {
        "id": "PaHnPw0YE4R-"
      },
      "id": "PaHnPw0YE4R-",
      "execution_count": null,
      "outputs": []
    },
    {
      "cell_type": "markdown",
      "id": "wrapped-volunteer",
      "metadata": {
        "papermill": {
          "duration": 0.049234,
          "end_time": "2021-06-07T15:29:52.535283",
          "exception": false,
          "start_time": "2021-06-07T15:29:52.486049",
          "status": "completed"
        },
        "tags": [],
        "id": "wrapped-volunteer"
      },
      "source": [
        "**Question**\n",
        "\n",
        "We are now going to train 4 different models, 2 Knn (one scaled, one not) and 2 Random Forest models (also, one scaled, one not). What to we expect from scaling the input data?\n",
        "\n",
        "a) Knn score improves, Random forest remains (more or less) the same \\\n",
        "b) Both Knn and Random forest scores improve \\\n",
        "c) Both scores remain the same (more or less) \\\n",
        "d) Both scores get worse"
      ]
    },
    {
      "cell_type": "markdown",
      "id": "prescription-analysis",
      "metadata": {
        "papermill": {
          "duration": 0.050059,
          "end_time": "2021-06-07T15:29:52.633673",
          "exception": false,
          "start_time": "2021-06-07T15:29:52.583614",
          "status": "completed"
        },
        "tags": [],
        "id": "prescription-analysis"
      },
      "source": [
        "# KNN training and scoring"
      ]
    },
    {
      "cell_type": "markdown",
      "id": "unavailable-cloud",
      "metadata": {
        "papermill": {
          "duration": 0.048501,
          "end_time": "2021-06-07T15:29:52.730903",
          "exception": false,
          "start_time": "2021-06-07T15:29:52.682402",
          "status": "completed"
        },
        "tags": [],
        "id": "unavailable-cloud"
      },
      "source": [
        "In sklearn, both Knn and Random Forests do not handle missing values internally. Therefore, we need to impute the missing values before passing it through the models"
      ]
    },
    {
      "cell_type": "code",
      "execution_count": null,
      "id": "temporal-newspaper",
      "metadata": {
        "execution": {
          "iopub.execute_input": "2021-06-07T15:29:52.840954Z",
          "iopub.status.busy": "2021-06-07T15:29:52.840059Z",
          "iopub.status.idle": "2021-06-07T15:29:52.844676Z",
          "shell.execute_reply": "2021-06-07T15:29:52.844170Z",
          "shell.execute_reply.started": "2021-06-07T13:32:14.644082Z"
        },
        "papermill": {
          "duration": 0.065041,
          "end_time": "2021-06-07T15:29:52.844811",
          "exception": false,
          "start_time": "2021-06-07T15:29:52.779770",
          "status": "completed"
        },
        "tags": [],
        "id": "temporal-newspaper"
      },
      "outputs": [],
      "source": [
        "X_train = X_train.fillna(X_train.mean())\n",
        "X_val= X_val.fillna(X_val.mean())"
      ]
    },
    {
      "cell_type": "markdown",
      "id": "arabic-blowing",
      "metadata": {
        "papermill": {
          "duration": 0.049015,
          "end_time": "2021-06-07T15:29:52.942922",
          "exception": false,
          "start_time": "2021-06-07T15:29:52.893907",
          "status": "completed"
        },
        "tags": [],
        "id": "arabic-blowing"
      },
      "source": [
        "We can now move on to training the KNN model"
      ]
    },
    {
      "cell_type": "code",
      "execution_count": null,
      "id": "continental-modem",
      "metadata": {
        "execution": {
          "iopub.execute_input": "2021-06-07T15:29:53.045082Z",
          "iopub.status.busy": "2021-06-07T15:29:53.044139Z",
          "iopub.status.idle": "2021-06-07T15:29:53.068084Z",
          "shell.execute_reply": "2021-06-07T15:29:53.068631Z",
          "shell.execute_reply.started": "2021-06-07T13:32:36.001322Z"
        },
        "papermill": {
          "duration": 0.076398,
          "end_time": "2021-06-07T15:29:53.068797",
          "exception": false,
          "start_time": "2021-06-07T15:29:52.992399",
          "status": "completed"
        },
        "tags": [],
        "colab": {
          "base_uri": "https://localhost:8080/"
        },
        "id": "continental-modem",
        "outputId": "71f663d7-57ce-46ae-bf16-dac6bfb9080e"
      },
      "outputs": [
        {
          "output_type": "execute_result",
          "data": {
            "text/plain": [
              "0.7089552238805971"
            ]
          },
          "metadata": {},
          "execution_count": 35
        }
      ],
      "source": [
        "knn = KNeighborsClassifier(n_neighbors = 3)\n",
        "knn.fit(X_train, y_train)\n",
        "knn.score(X_val, y_val)"
      ]
    },
    {
      "cell_type": "markdown",
      "source": [
        "Now train the model on scaled data."
      ],
      "metadata": {
        "id": "tLzuOomOGXBx"
      },
      "id": "tLzuOomOGXBx"
    },
    {
      "cell_type": "code",
      "execution_count": null,
      "id": "fallen-nickname",
      "metadata": {
        "execution": {
          "iopub.execute_input": "2021-06-07T15:29:53.172987Z",
          "iopub.status.busy": "2021-06-07T15:29:53.172037Z",
          "iopub.status.idle": "2021-06-07T15:29:53.201148Z",
          "shell.execute_reply": "2021-06-07T15:29:53.200633Z",
          "shell.execute_reply.started": "2021-06-07T13:32:52.607381Z"
        },
        "papermill": {
          "duration": 0.083041,
          "end_time": "2021-06-07T15:29:53.201294",
          "exception": false,
          "start_time": "2021-06-07T15:29:53.118253",
          "status": "completed"
        },
        "tags": [],
        "colab": {
          "base_uri": "https://localhost:8080/"
        },
        "id": "fallen-nickname",
        "outputId": "85c70cd1-b5af-4cfd-e362-75e7639911aa"
      },
      "outputs": [
        {
          "output_type": "execute_result",
          "data": {
            "text/plain": [
              "0.8283582089552238"
            ]
          },
          "metadata": {},
          "execution_count": 36
        }
      ],
      "source": [
        "ss = StandardScaler()\n",
        "\n",
        "X_train_scaled = ss.fit_transform(X_train)\n",
        "X_val_scaled = ss.transform(X_val)\n",
        "\n",
        "knn = KNeighborsClassifier(n_neighbors = 3)\n",
        "knn.fit(X_train_scaled, y_train)\n",
        "knn.score(X_val_scaled, y_val)"
      ]
    },
    {
      "cell_type": "markdown",
      "id": "minute-mixture",
      "metadata": {
        "papermill": {
          "duration": 0.049648,
          "end_time": "2021-06-07T15:29:53.301115",
          "exception": false,
          "start_time": "2021-06-07T15:29:53.251467",
          "status": "completed"
        },
        "tags": [],
        "id": "minute-mixture"
      },
      "source": [
        "In this example we have only used a standard scaler, but often other types of scaling yield better results. For example, some features may benefit from log scaling their values (typical for \"fat tails\")"
      ]
    },
    {
      "cell_type": "code",
      "execution_count": null,
      "id": "varying-overview",
      "metadata": {
        "execution": {
          "iopub.execute_input": "2021-06-07T15:29:53.410099Z",
          "iopub.status.busy": "2021-06-07T15:29:53.409124Z",
          "iopub.status.idle": "2021-06-07T15:29:54.473854Z",
          "shell.execute_reply": "2021-06-07T15:29:54.473199Z",
          "shell.execute_reply.started": "2021-06-07T13:33:10.907756Z"
        },
        "papermill": {
          "duration": 1.122892,
          "end_time": "2021-06-07T15:29:54.473991",
          "exception": false,
          "start_time": "2021-06-07T15:29:53.351099",
          "status": "completed"
        },
        "tags": [],
        "colab": {
          "base_uri": "https://localhost:8080/",
          "height": 391
        },
        "id": "varying-overview",
        "outputId": "41c13863-7e41-47b1-e44d-966234ad7a09"
      },
      "outputs": [
        {
          "output_type": "execute_result",
          "data": {
            "text/plain": [
              "<seaborn.axisgrid.PairGrid at 0x7fed1be40c90>"
            ]
          },
          "metadata": {},
          "execution_count": 37
        },
        {
          "output_type": "display_data",
          "data": {
            "text/plain": [
              "<Figure size 360x360 with 6 Axes>"
            ],
            "image/png": "[encoded data removed]"
          },
          "metadata": {
            "needs_background": "light"
          }
        }
      ],
      "source": [
        "sns.pairplot(train_df[['Fare', 'Age']])"
      ]
    },
    {
      "cell_type": "markdown",
      "id": "oriental-sewing",
      "metadata": {
        "papermill": {
          "duration": 0.050707,
          "end_time": "2021-06-07T15:29:54.576176",
          "exception": false,
          "start_time": "2021-06-07T15:29:54.525469",
          "status": "completed"
        },
        "tags": [],
        "id": "oriental-sewing"
      },
      "source": [
        "# Random forest training and scoring"
      ]
    },
    {
      "cell_type": "markdown",
      "source": [
        "Train a Random Forest classifier on the unscaled data."
      ],
      "metadata": {
        "id": "JW9Ka7AXG06y"
      },
      "id": "JW9Ka7AXG06y"
    },
    {
      "cell_type": "code",
      "execution_count": null,
      "id": "variable-block",
      "metadata": {
        "execution": {
          "iopub.execute_input": "2021-06-07T15:29:54.686033Z",
          "iopub.status.busy": "2021-06-07T15:29:54.685327Z",
          "iopub.status.idle": "2021-06-07T15:29:54.927021Z",
          "shell.execute_reply": "2021-06-07T15:29:54.925923Z",
          "shell.execute_reply.started": "2021-06-07T13:33:39.541071Z"
        },
        "papermill": {
          "duration": 0.300039,
          "end_time": "2021-06-07T15:29:54.927300",
          "exception": false,
          "start_time": "2021-06-07T15:29:54.627261",
          "status": "completed"
        },
        "tags": [],
        "colab": {
          "base_uri": "https://localhost:8080/"
        },
        "id": "variable-block",
        "outputId": "515ed790-677f-45e0-8abd-73d874e2c1e8"
      },
      "outputs": [
        {
          "output_type": "stream",
          "name": "stdout",
          "text": [
            "accuracy score: 0.8059701492537313\n",
            "Feature importance: \n",
            " {'Pclass': 0.08, 'Age': 0.23, 'Fare': 0.29, 'is_female': 0.14, 'is_Master': 0.01, 'is_Miss': 0.02, 'is_Mr': 0.11, 'is_Mrs': 0.04, 'is_Rare': 0.01, 'FamilySize': 0.07, 'is_alone': 0.01}\n"
          ]
        }
      ],
      "source": [
        "rf = RandomForestClassifier(random_state=42)\n",
        "rf.fit(X_train, y_train)\n",
        "print(f'accuracy score: {accuracy_score(rf.predict(X_val), y_val)}')\n",
        "print(f'Feature importance: \\n {dict(zip(X.columns, rf.feature_importances_.round(2)))}')"
      ]
    },
    {
      "cell_type": "markdown",
      "source": [
        "Now train a Random Forest classifier on the scaled data."
      ],
      "metadata": {
        "id": "abUOe3q2HDZn"
      },
      "id": "abUOe3q2HDZn"
    },
    {
      "cell_type": "code",
      "execution_count": null,
      "id": "checked-pencil",
      "metadata": {
        "execution": {
          "iopub.execute_input": "2021-06-07T15:29:55.036069Z",
          "iopub.status.busy": "2021-06-07T15:29:55.035393Z",
          "iopub.status.idle": "2021-06-07T15:29:55.272482Z",
          "shell.execute_reply": "2021-06-07T15:29:55.273401Z",
          "shell.execute_reply.started": "2021-06-07T13:33:44.898659Z"
        },
        "papermill": {
          "duration": 0.29425,
          "end_time": "2021-06-07T15:29:55.273721",
          "exception": false,
          "start_time": "2021-06-07T15:29:54.979471",
          "status": "completed"
        },
        "tags": [],
        "colab": {
          "base_uri": "https://localhost:8080/"
        },
        "id": "checked-pencil",
        "outputId": "a233772e-3b08-4339-9dcd-8ae060fd9727"
      },
      "outputs": [
        {
          "output_type": "stream",
          "name": "stdout",
          "text": [
            "accuracy score: 0.8134328358208955\n",
            "Feature importance: \n",
            " {'Pclass': 0.08, 'Age': 0.23, 'Fare': 0.29, 'is_female': 0.14, 'is_Master': 0.01, 'is_Miss': 0.02, 'is_Mr': 0.11, 'is_Mrs': 0.04, 'is_Rare': 0.01, 'FamilySize': 0.07, 'is_alone': 0.01}\n"
          ]
        }
      ],
      "source": [
        "rf.fit(X_train_scaled, y_train)\n",
        "print(f'accuracy score: {accuracy_score(rf.predict(X_val_scaled), y_val)}')\n",
        "print(f'Feature importance: \\n {dict(zip(X.columns, rf.feature_importances_.round(2)))}')"
      ]
    },
    {
      "cell_type": "markdown",
      "id": "swedish-renewal",
      "metadata": {
        "papermill": {
          "duration": 0.053167,
          "end_time": "2021-06-07T15:29:55.380158",
          "exception": false,
          "start_time": "2021-06-07T15:29:55.326991",
          "status": "completed"
        },
        "tags": [],
        "id": "swedish-renewal"
      },
      "source": [
        "Notice that a feature being correlated to survival does not necessarily mean that the feature importance in a model is going to be high"
      ]
    },
    {
      "cell_type": "code",
      "execution_count": null,
      "id": "located-british",
      "metadata": {
        "execution": {
          "iopub.execute_input": "2021-06-07T15:29:55.487228Z",
          "iopub.status.busy": "2021-06-07T15:29:55.486626Z",
          "iopub.status.idle": "2021-06-07T15:29:55.865663Z",
          "shell.execute_reply": "2021-06-07T15:29:55.866145Z",
          "shell.execute_reply.started": "2021-06-07T13:34:10.441342Z"
        },
        "papermill": {
          "duration": 0.433929,
          "end_time": "2021-06-07T15:29:55.866318",
          "exception": false,
          "start_time": "2021-06-07T15:29:55.432389",
          "status": "completed"
        },
        "tags": [],
        "colab": {
          "base_uri": "https://localhost:8080/",
          "height": 329
        },
        "id": "located-british",
        "outputId": "e49d18b2-3947-4ca8-c05b-3ea68d201296"
      },
      "outputs": [
        {
          "output_type": "execute_result",
          "data": {
            "text/plain": [
              "<matplotlib.axes._subplots.AxesSubplot at 0x7fed2096a190>"
            ]
          },
          "metadata": {},
          "execution_count": 40
        },
        {
          "output_type": "display_data",
          "data": {
            "text/plain": [
              "<Figure size 432x288 with 2 Axes>"
            ],
            "image/png": "[encoded data removed]"
          },
          "metadata": {
            "needs_background": "light"
          }
        }
      ],
      "source": [
        "corr_matr = train_df.corr()\n",
        "cmap = sns.diverging_palette(230, 20, as_cmap=True)\n",
        "sns.heatmap(corr_matr, cmap = cmap)"
      ]
    },
    {
      "cell_type": "code",
      "execution_count": null,
      "id": "biblical-insight",
      "metadata": {
        "papermill": {
          "duration": 0.05421,
          "end_time": "2021-06-07T15:29:55.973383",
          "exception": false,
          "start_time": "2021-06-07T15:29:55.919173",
          "status": "completed"
        },
        "tags": [],
        "id": "biblical-insight"
      },
      "outputs": [],
      "source": []
    }
  ],
  "metadata": {
    "kernelspec": {
      "display_name": "Python 3",
      "language": "python",
      "name": "python3"
    },
    "language_info": {
      "codemirror_mode": {
        "name": "ipython",
        "version": 3
      },
      "file_extension": ".py",
      "mimetype": "text/x-python",
      "name": "python",
      "nbconvert_exporter": "python",
      "pygments_lexer": "ipython3",
      "version": "3.7.10"
    },
    "papermill": {
      "default_parameters": {},
      "duration": 35.755223,
      "end_time": "2021-06-07T15:29:57.240272",
      "environment_variables": {},
      "exception": null,
      "input_path": "__notebook__.ipynb",
      "output_path": "__notebook__.ipynb",
      "parameters": {},
      "start_time": "2021-06-07T15:29:21.485049",
      "version": "2.3.3"
    },
    "colab": {
      "provenance": []
    }
  },
  "nbformat": 4,
  "nbformat_minor": 5
}